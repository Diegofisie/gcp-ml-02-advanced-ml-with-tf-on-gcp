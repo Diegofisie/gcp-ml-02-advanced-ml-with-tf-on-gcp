{
 "cells": [
  {
   "cell_type": "markdown",
   "metadata": {},
   "source": [
    "## Text generation using tensor2tensor on Cloud ML Engine\n",
    "\n",
    "This notebook illustrates using the <a href=\"https://github.com/tensorflow/tensor2tensor\">tensor2tensor</a> library to do from-scratch, distributed training of a poetry model. Then, the trained model is used to complete new poems.\n",
    "\n",
    "<br/>\n",
    "\n",
    "### Install tensor2tensor, and specify Google Cloud Platform project and bucket"
   ]
  },
  {
   "cell_type": "markdown",
   "metadata": {},
   "source": [
    "Install the necessary packages. tensor2tensor will give us the Transformer model. Project Gutenberg gives us access to historical poems.\n",
    "\n",
    "\n",
    "<b>p.s.</b> Note that this notebook uses Python2 because Project Gutenberg relies on BSD-DB which was deprecated in Python 3 and removed from the standard library.\n",
    "tensor2tensor itself can be used on Python 3. It's just Project Gutenberg that has this issue."
   ]
  },
  {
   "cell_type": "code",
   "execution_count": 1,
   "metadata": {},
   "outputs": [
    {
     "name": "stdout",
     "output_type": "stream",
     "text": [
      "tensorboard==1.8.0\n",
      "tensorflow==1.8.0\n"
     ]
    }
   ],
   "source": [
    "%%bash\n",
    "pip freeze | grep tensor"
   ]
  },
  {
   "cell_type": "code",
   "execution_count": 2,
   "metadata": {},
   "outputs": [],
   "source": [
    "# Choose a version of TensorFlow that is supported on TPUs\n",
    "TFVERSION='1.10'\n",
    "import os\n",
    "os.environ['TFVERSION'] = TFVERSION"
   ]
  },
  {
   "cell_type": "code",
   "execution_count": 3,
   "metadata": {},
   "outputs": [
    {
     "name": "stdout",
     "output_type": "stream",
     "text": [
      "Collecting tensor2tensor==1.10\n",
      "  Downloading https://files.pythonhosted.org/packages/6d/ac/6897d0cb0bc1701cf5b5a56afc5c24a587c34b46e73c1f732c7d2cb9f54d/tensor2tensor-1.10.0-py2.py3-none-any.whl (1.0MB)\n",
      "Collecting tensorflow==1.10\n",
      "  Downloading https://files.pythonhosted.org/packages/40/73/010fe27e6544515909e959a54e49f4d2d34d829291a3b64ba2525d00db1f/tensorflow-1.10.0-cp27-cp27mu-manylinux1_x86_64.whl (58.4MB)\n",
      "Collecting gutenberg\n",
      "  Downloading https://files.pythonhosted.org/packages/14/b1/6e99867c38e70d46366966a0a861c580377f38312cf9dbad38b82ed1823d/Gutenberg-0.7.0.tar.gz\n",
      "Requirement already satisfied: oauth2client in /usr/local/envs/py2env/lib/python2.7/site-packages (from tensor2tensor==1.10) (2.2.0)\n",
      "Collecting tqdm (from tensor2tensor==1.10)\n",
      "  Downloading https://files.pythonhosted.org/packages/6c/4b/c38b5144cf167c4f52288517436ccafefe9dc01b8d1c190e18a6b154cd4a/tqdm-4.31.1-py2.py3-none-any.whl (48kB)\n",
      "Collecting gym (from tensor2tensor==1.10)\n",
      "  Downloading https://files.pythonhosted.org/packages/c7/98/fad8b85827d9aca922eec6a8747dd696aac281ebdc4b1225acf51f8f612f/gym-0.12.0.tar.gz (1.5MB)\n",
      "Requirement already satisfied: six in /usr/local/envs/py2env/lib/python2.7/site-packages (from tensor2tensor==1.10) (1.10.0)\n",
      "Collecting gevent (from tensor2tensor==1.10)\n",
      "  Downloading https://files.pythonhosted.org/packages/e6/e9/3a693414f706e12abe60554cd73c5ae8f848b182ae58018f93d86c9eb418/gevent-1.4.0-cp27-cp27mu-manylinux1_x86_64.whl (5.0MB)\n",
      "Requirement already satisfied: flask in /usr/local/envs/py2env/lib/python2.7/site-packages (from tensor2tensor==1.10) (0.11.1)\n",
      "Requirement already satisfied: future in /usr/local/envs/py2env/lib/python2.7/site-packages (from tensor2tensor==1.10) (0.16.0)\n",
      "Collecting mesh-tensorflow (from tensor2tensor==1.10)\n",
      "  Downloading https://files.pythonhosted.org/packages/90/f3/07fe1c894490156d0d423b95fc375fcf09371413234b94500bfcd61ab6d7/mesh_tensorflow-0.0.5-py2.py3-none-any.whl (95kB)\n",
      "Requirement already satisfied: scipy in /usr/local/envs/py2env/lib/python2.7/site-packages (from tensor2tensor==1.10) (1.0.0)\n",
      "Requirement already satisfied: google-api-python-client in /usr/local/envs/py2env/lib/python2.7/site-packages (from tensor2tensor==1.10) (1.6.2)\n",
      "Requirement already satisfied: sympy in /usr/local/envs/py2env/lib/python2.7/site-packages (from tensor2tensor==1.10) (0.7.6.1)\n",
      "Requirement already satisfied: requests in /usr/local/envs/py2env/lib/python2.7/site-packages (from tensor2tensor==1.10) (2.18.4)\n",
      "Collecting bz2file (from tensor2tensor==1.10)\n",
      "  Downloading https://files.pythonhosted.org/packages/61/39/122222b5e85cd41c391b68a99ee296584b2a2d1d233e7ee32b4532384f2d/bz2file-0.98.tar.gz\n",
      "Requirement already satisfied: numpy in /usr/local/envs/py2env/lib/python2.7/site-packages (from tensor2tensor==1.10) (1.14.0)\n",
      "Requirement already satisfied: gunicorn in /usr/local/envs/py2env/lib/python2.7/site-packages (from tensor2tensor==1.10) (19.9.0)\n",
      "Requirement already satisfied: h5py in /usr/local/envs/py2env/lib/python2.7/site-packages (from tensor2tensor==1.10) (2.7.1)\n",
      "Requirement already satisfied: enum34>=1.1.6 in /usr/local/envs/py2env/lib/python2.7/site-packages (from tensorflow==1.10) (1.1.6)\n",
      "Requirement already satisfied: astor>=0.6.0 in /usr/local/envs/py2env/lib/python2.7/site-packages (from tensorflow==1.10) (0.7.1)\n",
      "Requirement already satisfied: backports.weakref>=1.0rc1 in /usr/local/envs/py2env/lib/python2.7/site-packages (from tensorflow==1.10) (1.0.post1)\n",
      "Collecting setuptools<=39.1.0 (from tensorflow==1.10)\n",
      "  Downloading https://files.pythonhosted.org/packages/8c/10/79282747f9169f21c053c562a0baa21815a8c7879be97abd930dbcf862e8/setuptools-39.1.0-py2.py3-none-any.whl (566kB)\n",
      "Requirement already satisfied: gast>=0.2.0 in /usr/local/envs/py2env/lib/python2.7/site-packages (from tensorflow==1.10) (0.2.2)\n",
      "Requirement already satisfied: wheel in /usr/local/envs/py2env/lib/python2.7/site-packages (from tensorflow==1.10) (0.32.3)\n",
      "Requirement already satisfied: mock>=2.0.0 in /usr/local/envs/py2env/lib/python2.7/site-packages (from tensorflow==1.10) (2.0.0)\n",
      "Requirement already satisfied: protobuf>=3.6.0 in /usr/local/envs/py2env/lib/python2.7/site-packages (from tensorflow==1.10) (3.6.1)\n",
      "Requirement already satisfied: termcolor>=1.1.0 in /usr/local/envs/py2env/lib/python2.7/site-packages (from tensorflow==1.10) (1.1.0)\n",
      "Requirement already satisfied: absl-py>=0.1.6 in /usr/local/envs/py2env/lib/python2.7/site-packages (from tensorflow==1.10) (0.6.1)\n",
      "Collecting tensorboard<1.11.0,>=1.10.0 (from tensorflow==1.10)\n",
      "  Downloading https://files.pythonhosted.org/packages/e0/11/8ac6a52179a290a249f80cb6e157f1bb1f87a7e44dba8a0869701d8076cb/tensorboard-1.10.0-py2-none-any.whl (3.3MB)\n",
      "Requirement already satisfied: grpcio>=1.8.6 in /usr/local/envs/py2env/lib/python2.7/site-packages (from tensorflow==1.10) (1.17.1)\n",
      "Collecting rdflib-sqlalchemy>=0.3.8 (from gutenberg)\n",
      "  Downloading https://files.pythonhosted.org/packages/29/76/f4613574cc557262861dca47e2c5fc8f2435f75424acaa73f8517aed1346/rdflib-sqlalchemy-0.3.8.tar.gz (1.2MB)\n",
      "Collecting rdflib>=4.2.0 (from gutenberg)\n",
      "  Downloading https://files.pythonhosted.org/packages/c5/77/1fa0f4cffd5faad496b1344ab665902bb2609f56e0fb19bcf80cff485da0/rdflib-4.2.2.tar.gz (905kB)\n",
      "Requirement already satisfied: httplib2>=0.9.1 in /usr/local/envs/py2env/lib/python2.7/site-packages (from oauth2client->tensor2tensor==1.10) (0.12.0)\n",
      "Requirement already satisfied: pyasn1>=0.1.7 in /usr/local/envs/py2env/lib/python2.7/site-packages (from oauth2client->tensor2tensor==1.10) (0.4.4)\n",
      "Requirement already satisfied: pyasn1-modules>=0.0.5 in /usr/local/envs/py2env/lib/python2.7/site-packages (from oauth2client->tensor2tensor==1.10) (0.2.2)\n",
      "Requirement already satisfied: rsa>=3.1.4 in /usr/local/envs/py2env/lib/python2.7/site-packages (from oauth2client->tensor2tensor==1.10) (3.4.2)\n",
      "Collecting pyglet>=1.2.0 (from gym->tensor2tensor==1.10)\n",
      "  Downloading https://files.pythonhosted.org/packages/1c/fc/dad5eaaab68f0c21e2f906a94ddb98175662cc5a654eee404d59554ce0fa/pyglet-1.3.2-py2.py3-none-any.whl (1.0MB)\n",
      "Collecting greenlet>=0.4.14; platform_python_implementation == \"CPython\" (from gevent->tensor2tensor==1.10)\n",
      "  Downloading https://files.pythonhosted.org/packages/8b/6e/f2d25875713ad0885c8d3c69269697406652e6f64e1a6bd8264f7a609327/greenlet-0.4.15-cp27-cp27mu-manylinux1_x86_64.whl\n",
      "Requirement already satisfied: itsdangerous>=0.21 in /usr/local/envs/py2env/lib/python2.7/site-packages (from flask->tensor2tensor==1.10) (1.1.0)\n",
      "Requirement already satisfied: click>=2.0 in /usr/local/envs/py2env/lib/python2.7/site-packages (from flask->tensor2tensor==1.10) (7.0)\n",
      "Requirement already satisfied: Jinja2>=2.4 in /usr/local/envs/py2env/lib/python2.7/site-packages (from flask->tensor2tensor==1.10) (2.8)\n",
      "Requirement already satisfied: Werkzeug>=0.7 in /usr/local/envs/py2env/lib/python2.7/site-packages (from flask->tensor2tensor==1.10) (0.14.1)\n",
      "Requirement already satisfied: uritemplate<4dev,>=3.0.0 in /usr/local/envs/py2env/lib/python2.7/site-packages (from google-api-python-client->tensor2tensor==1.10) (3.0.0)\n",
      "Requirement already satisfied: chardet<3.1.0,>=3.0.2 in /usr/local/envs/py2env/lib/python2.7/site-packages (from requests->tensor2tensor==1.10) (3.0.4)\n",
      "Requirement already satisfied: idna<2.7,>=2.5 in /usr/local/envs/py2env/lib/python2.7/site-packages (from requests->tensor2tensor==1.10) (2.6)\n",
      "Requirement already satisfied: urllib3<1.23,>=1.21.1 in /usr/local/envs/py2env/lib/python2.7/site-packages (from requests->tensor2tensor==1.10) (1.22)\n",
      "Requirement already satisfied: certifi>=2017.4.17 in /usr/local/envs/py2env/lib/python2.7/site-packages (from requests->tensor2tensor==1.10) (2018.11.29)\n",
      "Requirement already satisfied: funcsigs>=1 in /usr/local/envs/py2env/lib/python2.7/site-packages (from mock>=2.0.0->tensorflow==1.10) (1.0.0)\n",
      "Requirement already satisfied: pbr>=0.11 in /usr/local/envs/py2env/lib/python2.7/site-packages (from mock>=2.0.0->tensorflow==1.10) (5.1.1)\n",
      "Requirement already satisfied: futures>=3.1.1; python_version < \"3\" in /usr/local/envs/py2env/lib/python2.7/site-packages (from tensorboard<1.11.0,>=1.10.0->tensorflow==1.10) (3.2.0)\n",
      "Requirement already satisfied: markdown>=2.6.8 in /usr/local/envs/py2env/lib/python2.7/site-packages (from tensorboard<1.11.0,>=1.10.0->tensorflow==1.10) (2.6.11)\n",
      "Requirement already satisfied: alembic>=0.8.8 in /usr/local/envs/py2env/lib/python2.7/site-packages (from rdflib-sqlalchemy>=0.3.8->gutenberg) (0.8.10)\n",
      "Requirement already satisfied: SQLAlchemy>=1.1.4 in /usr/local/envs/py2env/lib/python2.7/site-packages (from rdflib-sqlalchemy>=0.3.8->gutenberg) (1.2.16)\n",
      "Collecting isodate (from rdflib>=4.2.0->gutenberg)\n",
      "  Downloading https://files.pythonhosted.org/packages/9b/9f/b36f7774ff5ea8e428fdcfc4bb332c39ee5b9362ddd3d40d9516a55221b2/isodate-0.6.0-py2.py3-none-any.whl (45kB)\n",
      "Requirement already satisfied: pyparsing in /usr/local/envs/py2env/lib/python2.7/site-packages (from rdflib>=4.2.0->gutenberg) (2.3.0)\n",
      "Requirement already satisfied: MarkupSafe in /usr/local/envs/py2env/lib/python2.7/site-packages (from Jinja2>=2.4->flask->tensor2tensor==1.10) (1.1.0)\n",
      "Requirement already satisfied: ordereddict in /usr/local/envs/py2env/lib/python2.7/site-packages (from funcsigs>=1->mock>=2.0.0->tensorflow==1.10) (1.1)\n",
      "Requirement already satisfied: Mako in /usr/local/envs/py2env/lib/python2.7/site-packages (from alembic>=0.8.8->rdflib-sqlalchemy>=0.3.8->gutenberg) (1.0.7)\n",
      "Requirement already satisfied: python-editor>=0.3 in /usr/local/envs/py2env/lib/python2.7/site-packages (from alembic>=0.8.8->rdflib-sqlalchemy>=0.3.8->gutenberg) (1.0.3)\n",
      "Building wheels for collected packages: gutenberg, gym, bz2file, rdflib-sqlalchemy, rdflib\n",
      "  Running setup.py bdist_wheel for gutenberg: started\n",
      "  Running setup.py bdist_wheel for gutenberg: finished with status 'done'\n",
      "  Stored in directory: /content/.cache/pip/wheels/8e/cd/75/4bc6f16541a1b7a69b02168da567695b2271c23ac4a0a0a453\n",
      "  Running setup.py bdist_wheel for gym: started\n",
      "  Running setup.py bdist_wheel for gym: finished with status 'done'\n",
      "  Stored in directory: /content/.cache/pip/wheels/bf/b9/fd/e1f54a4b99eca10de0d37cc7ecc2ac29a2e51b4eff7e1e5ca7\n",
      "  Running setup.py bdist_wheel for bz2file: started\n",
      "  Running setup.py bdist_wheel for bz2file: finished with status 'done'\n",
      "  Stored in directory: /content/.cache/pip/wheels/81/75/d6/e1317bf09bf1af5a30befc2a007869fa6e1f516b8f7c591cb9\n",
      "  Running setup.py bdist_wheel for rdflib-sqlalchemy: started\n",
      "  Running setup.py bdist_wheel for rdflib-sqlalchemy: finished with status 'done'\n",
      "  Stored in directory: /content/.cache/pip/wheels/8c/7f/e5/2cfedb41ce9149b8af8c35a063b4fd1b8c1573c6391bbd5b53\n",
      "  Running setup.py bdist_wheel for rdflib: started\n",
      "  Running setup.py bdist_wheel for rdflib: finished with status 'done'\n",
      "  Stored in directory: /content/.cache/pip/wheels/8d/f6/b7/f5e9501d0f006fc9fd497c930206952856b2191ab5c836cb97\n",
      "Successfully built gutenberg gym bz2file rdflib-sqlalchemy rdflib\n",
      "Installing collected packages: tqdm, pyglet, gym, greenlet, gevent, mesh-tensorflow, bz2file, tensor2tensor, setuptools, tensorboard, tensorflow, isodate, rdflib, rdflib-sqlalchemy, gutenberg\n",
      "  Found existing installation: setuptools 40.6.3\n",
      "    Uninstalling setuptools-40.6.3:\n",
      "      Successfully uninstalled setuptools-40.6.3\n",
      "  Found existing installation: tensorboard 1.8.0\n",
      "    Uninstalling tensorboard-1.8.0:\n",
      "      Successfully uninstalled tensorboard-1.8.0\n",
      "  Found existing installation: tensorflow 1.8.0\n",
      "    Uninstalling tensorflow-1.8.0:\n",
      "      Successfully uninstalled tensorflow-1.8.0\n",
      "Successfully installed bz2file-0.98 gevent-1.4.0 greenlet-0.4.15 gutenberg-0.7.0 gym-0.12.0 isodate-0.6.0 mesh-tensorflow-0.0.5 pyglet-1.3.2 rdflib-4.2.2 rdflib-sqlalchemy-0.3.8 setuptools-39.1.0 tensor2tensor-1.10.0 tensorboard-1.10.0 tensorflow-1.10.0 tqdm-4.31.1\n"
     ]
    }
   ],
   "source": [
    "%%bash\n",
    "pip install tensor2tensor==${TFVERSION} tensorflow==${TFVERSION} gutenberg \n",
    "#git clone https://github.com/tensorflow/tensor2tensor.git\n",
    "#cd tensor2tensor; pip install --user -e ."
   ]
  },
  {
   "cell_type": "markdown",
   "metadata": {},
   "source": [
    "If the following cell does not reflect the version of tensorflow and tensor2tensor that you just installed, click **\"Reset Session\"** on the notebook so that the Python environment picks up the new packages."
   ]
  },
  {
   "cell_type": "code",
   "execution_count": 4,
   "metadata": {},
   "outputs": [
    {
     "name": "stdout",
     "output_type": "stream",
     "text": [
      "mesh-tensorflow==0.0.5\n",
      "tensor2tensor==1.10.0\n",
      "tensorboard==1.10.0\n",
      "tensorflow==1.10.0\n"
     ]
    }
   ],
   "source": [
    "%%bash\n",
    "pip freeze | grep tensor"
   ]
  },
  {
   "cell_type": "code",
   "execution_count": 5,
   "metadata": {},
   "outputs": [
    {
     "name": "stdout",
     "output_type": "stream",
     "text": [
      "qwiklabs-gcp-36677528dc4d202e\n",
      "qwiklabs-gcp-36677528dc4d202e\n",
      "europe-west1\n"
     ]
    }
   ],
   "source": [
    "import os\n",
    "output = os.popen(\"gcloud config get-value project\").readlines()\n",
    "project_name = output[0][:-1]\n",
    "\n",
    "# change these to try this notebook out\n",
    "PROJECT = project_name\n",
    "BUCKET = project_name\n",
    "#BUCKET = BUCKET.replace(\"qwiklabs-gcp-\", \"inna-bckt-\")\n",
    "REGION = 'europe-west1'  ## note: Cloud ML Engine not availabe in europe-west3!\n",
    "\n",
    "\n",
    "# this is what this notebook is demonstrating\n",
    "PROBLEM= 'poetry_line_problem'\n",
    "\n",
    "# for bash\n",
    "os.environ['PROJECT'] = PROJECT\n",
    "os.environ['BUCKET'] = BUCKET\n",
    "os.environ['REGION'] = REGION\n",
    "os.environ['PROBLEM'] = PROBLEM\n",
    "\n",
    "print(PROJECT)\n",
    "print(BUCKET)\n",
    "print(REGION)\n",
    "\n",
    "#os.environ['PATH'] = os.environ['PATH'] + ':' + os.getcwd() + '/tensor2tensor/tensor2tensor/bin/'"
   ]
  },
  {
   "cell_type": "code",
   "execution_count": 6,
   "metadata": {},
   "outputs": [
    {
     "name": "stderr",
     "output_type": "stream",
     "text": [
      "Updated property [core/project].\n",
      "Updated property [compute/region].\n"
     ]
    }
   ],
   "source": [
    "%%bash\n",
    "gcloud config set project $PROJECT\n",
    "gcloud config set compute/region $REGION"
   ]
  },
  {
   "cell_type": "markdown",
   "metadata": {},
   "source": [
    "### Download data\n",
    "\n",
    "We will get some <a href=\"https://www.gutenberg.org/wiki/Poetry_(Bookshelf)\">poetry anthologies</a> from Project Gutenberg."
   ]
  },
  {
   "cell_type": "code",
   "execution_count": 7,
   "metadata": {},
   "outputs": [],
   "source": [
    "%%bash\n",
    "rm -rf data/poetry\n",
    "mkdir -p data/poetry"
   ]
  },
  {
   "cell_type": "code",
   "execution_count": 8,
   "metadata": {},
   "outputs": [
    {
     "name": "stdout",
     "output_type": "stream",
     "text": [
      "Wrote lines 0 to 2802 from Victorian songs\n",
      "Wrote lines 2802 to 7503 from Baldwin collection\n",
      "Wrote lines 7503 to 14069 from Swinburne collection\n",
      "Wrote lines 14069 to 14926 from Blake\n",
      "Wrote lines 14926 to 42441 from Bulchevys collection\n",
      "Wrote lines 42441 to 51789 from Palgrave-Pearse collection\n",
      "Wrote lines 51789 to 56298 from Knowles collection\n"
     ]
    }
   ],
   "source": [
    "from gutenberg.acquire import load_etext\n",
    "from gutenberg.cleanup import strip_headers\n",
    "import re\n",
    "\n",
    "books = [\n",
    "  # bookid, skip N lines\n",
    "  (26715, 1000, 'Victorian songs'),\n",
    "  (30235, 580, 'Baldwin collection'),\n",
    "  (35402, 710, 'Swinburne collection'),\n",
    "  (574, 15, 'Blake'),\n",
    "  (1304, 172, 'Bulchevys collection'),\n",
    "  (19221, 223, 'Palgrave-Pearse collection'),\n",
    "  (15553, 522, 'Knowles collection') \n",
    "]\n",
    "\n",
    "with open('data/poetry/raw.txt', 'w') as ofp:\n",
    "  lineno = 0\n",
    "  for (id_nr, toskip, title) in books:\n",
    "    startline = lineno\n",
    "    text = strip_headers(load_etext(id_nr)).strip()\n",
    "    lines = text.split('\\n')[toskip:]\n",
    "    # any line that is all upper case is a title or author name\n",
    "    # also don't want any lines with years (numbers)\n",
    "    for line in lines:\n",
    "      if (len(line) > 0 \n",
    "          and line.upper() != line \n",
    "          and not re.match('.*[0-9]+.*', line)\n",
    "          and len(line) < 50\n",
    "         ):\n",
    "        cleaned = re.sub('[^a-z\\'\\-]+', ' ', line.strip().lower())\n",
    "        ofp.write(cleaned)\n",
    "        ofp.write('\\n')\n",
    "        lineno = lineno + 1\n",
    "      else:\n",
    "        ofp.write('\\n')\n",
    "    print('Wrote lines {} to {} from {}'.format(startline, lineno, title))"
   ]
  },
  {
   "cell_type": "code",
   "execution_count": 9,
   "metadata": {},
   "outputs": [
    {
     "name": "stdout",
     "output_type": "stream",
     "text": [
      "88133 data/poetry/raw.txt\r\n"
     ]
    }
   ],
   "source": [
    "!wc -l data/poetry/*.txt"
   ]
  },
  {
   "cell_type": "code",
   "execution_count": 10,
   "metadata": {},
   "outputs": [
    {
     "name": "stdout",
     "output_type": "stream",
     "text": [
      "\r\n",
      "\r\n",
      "\r\n",
      "\r\n",
      "\r\n",
      "\r\n",
      "i sat beside the streamlet \r\n",
      "i watched the water flow \r\n",
      "as we together watched it\r\n",
      "one little year ago \r\n"
     ]
    }
   ],
   "source": [
    "!head data/poetry/*.txt"
   ]
  },
  {
   "cell_type": "markdown",
   "metadata": {},
   "source": [
    "## Create training dataset\n",
    "\n",
    "We are going to train a machine learning model to write poetry given a starting point. We'll give it one line, and it is going to tell us the next line.  So, naturally, we will train it on real poetry. Our feature will be a line of a poem and the label will be next line of that poem.\n",
    "<p>\n",
    "Our training dataset will consist of two files.  The first file will consist of the input lines of poetry and the other file will consist of the corresponding output lines, one output line per input line."
   ]
  },
  {
   "cell_type": "code",
   "execution_count": 11,
   "metadata": {},
   "outputs": [],
   "source": [
    "with open('data/poetry/raw.txt', 'r') as rawfp,\\\n",
    "  open('data/poetry/input.txt', 'w') as infp,\\\n",
    "  open('data/poetry/output.txt', 'w') as outfp:\n",
    "    \n",
    "    prev_line = ''\n",
    "    for curr_line in rawfp:\n",
    "        curr_line = curr_line.strip()\n",
    "        # poems break at empty lines, so this ensures we train only\n",
    "        # on lines of the same poem\n",
    "        if len(prev_line) > 0 and len(curr_line) > 0:       \n",
    "            infp.write(prev_line + '\\n')\n",
    "            outfp.write(curr_line + '\\n')\n",
    "        prev_line = curr_line      "
   ]
  },
  {
   "cell_type": "code",
   "execution_count": 12,
   "metadata": {},
   "outputs": [
    {
     "name": "stdout",
     "output_type": "stream",
     "text": [
      "==> data/poetry/input.txt <==\r\n",
      "i sat beside the streamlet\r\n",
      "i watched the water flow\r\n",
      "as we together watched it\r\n",
      "one little year ago\r\n",
      "the soft rain pattered on the leaves\r\n",
      "\r\n",
      "==> data/poetry/output.txt <==\r\n",
      "i watched the water flow\r\n",
      "as we together watched it\r\n",
      "one little year ago\r\n",
      "the soft rain pattered on the leaves\r\n",
      "the april grass was wet\r\n",
      "\r\n",
      "==> data/poetry/raw.txt <==\r\n",
      "\r\n",
      "\r\n",
      "\r\n",
      "\r\n",
      "\r\n"
     ]
    }
   ],
   "source": [
    "!head -5 data/poetry/*.txt"
   ]
  },
  {
   "cell_type": "markdown",
   "metadata": {},
   "source": [
    "We do not need to generate the data beforehand -- instead, we can have Tensor2Tensor create the training dataset for us. So, in the code below, I will use only data/poetry/raw.txt -- obviously, this allows us to productionize our model better.  Simply keep collecting raw data and generate the training/test data at the time of training."
   ]
  },
  {
   "cell_type": "markdown",
   "metadata": {},
   "source": [
    "### Set up problem\n",
    "The Problem in tensor2tensor is where you specify parameters like the size of your vocabulary and where to get the training data from."
   ]
  },
  {
   "cell_type": "code",
   "execution_count": 13,
   "metadata": {},
   "outputs": [],
   "source": [
    "%%bash\n",
    "rm -rf poetry\n",
    "mkdir -p poetry/trainer"
   ]
  },
  {
   "cell_type": "code",
   "execution_count": 14,
   "metadata": {},
   "outputs": [
    {
     "name": "stdout",
     "output_type": "stream",
     "text": [
      "Writing poetry/trainer/problem.py\n"
     ]
    }
   ],
   "source": [
    "%%writefile poetry/trainer/problem.py\n",
    "import os\n",
    "import tensorflow as tf\n",
    "from tensor2tensor.utils import registry\n",
    "from tensor2tensor.models import transformer\n",
    "from tensor2tensor.data_generators import problem\n",
    "from tensor2tensor.data_generators import text_encoder\n",
    "from tensor2tensor.data_generators import text_problems\n",
    "from tensor2tensor.data_generators import generator_utils\n",
    "\n",
    "\n",
    "@registry.register_problem\n",
    "class PoetryLineProblem(text_problems.Text2TextProblem):\n",
    "  \"\"\"Predict next line of poetry from the last line. From Gutenberg texts.\"\"\"\n",
    "\n",
    "  @property\n",
    "  def approx_vocab_size(self):\n",
    "    return 2**13  # ~8k\n",
    "\n",
    "  @property\n",
    "  def is_generate_per_split(self):\n",
    "    # generate_data will NOT shard the data into TRAIN and EVAL for us.\n",
    "    return False\n",
    "\n",
    "  @property\n",
    "  def dataset_splits(self):\n",
    "    \"\"\"Splits of data to produce and number of output shards for each.\"\"\"\n",
    "    # 10% evaluation data\n",
    "    return [{\n",
    "        \"split\": problem.DatasetSplit.TRAIN,\n",
    "        \"shards\": 90,\n",
    "    }, {\n",
    "        \"split\": problem.DatasetSplit.EVAL,\n",
    "        \"shards\": 10,\n",
    "    }]\n",
    "\n",
    "  def generate_samples(self, data_dir, tmp_dir, dataset_split):\n",
    "    with open('data/poetry/raw.txt', 'r') as rawfp:\n",
    "      prev_line = ''\n",
    "      for curr_line in rawfp:\n",
    "        curr_line = curr_line.strip()\n",
    "        # poems break at empty lines, so this ensures we train only\n",
    "        # on lines of the same poem\n",
    "        if len(prev_line) > 0 and len(curr_line) > 0:       \n",
    "            yield {\n",
    "                \"inputs\": prev_line,\n",
    "                \"targets\": curr_line\n",
    "            }\n",
    "        prev_line = curr_line          \n",
    "\n",
    "\n",
    "# Smaller than the typical translate model, and with more regularization\n",
    "@registry.register_hparams\n",
    "def transformer_poetry():\n",
    "  hparams = transformer.transformer_base()\n",
    "  hparams.num_hidden_layers = 2\n",
    "  hparams.hidden_size = 128\n",
    "  hparams.filter_size = 512\n",
    "  hparams.num_heads = 4\n",
    "  hparams.attention_dropout = 0.6\n",
    "  hparams.layer_prepostprocess_dropout = 0.6\n",
    "  hparams.learning_rate = 0.05\n",
    "  return hparams\n",
    "\n",
    "@registry.register_hparams\n",
    "def transformer_poetry_tpu():\n",
    "  hparams = transformer_poetry()\n",
    "  transformer.update_hparams_for_tpu(hparams)\n",
    "  return hparams\n",
    "\n",
    "# hyperparameter tuning ranges\n",
    "@registry.register_ranged_hparams\n",
    "def transformer_poetry_range(rhp):\n",
    "  rhp.set_float(\"learning_rate\", 0.05, 0.25, scale=rhp.LOG_SCALE)\n",
    "  rhp.set_int(\"num_hidden_layers\", 2, 4)\n",
    "  rhp.set_discrete(\"hidden_size\", [128, 256, 512])\n",
    "  rhp.set_float(\"attention_dropout\", 0.4, 0.7)"
   ]
  },
  {
   "cell_type": "code",
   "execution_count": 15,
   "metadata": {},
   "outputs": [
    {
     "name": "stdout",
     "output_type": "stream",
     "text": [
      "Writing poetry/trainer/__init__.py\n"
     ]
    }
   ],
   "source": [
    "%%writefile poetry/trainer/__init__.py\n",
    "from . import problem"
   ]
  },
  {
   "cell_type": "code",
   "execution_count": 16,
   "metadata": {},
   "outputs": [
    {
     "name": "stdout",
     "output_type": "stream",
     "text": [
      "Writing poetry/setup.py\n"
     ]
    }
   ],
   "source": [
    "%%writefile poetry/setup.py\n",
    "from setuptools import find_packages\n",
    "from setuptools import setup\n",
    "\n",
    "REQUIRED_PACKAGES = [\n",
    "  'tensor2tensor'\n",
    "]\n",
    "\n",
    "setup(\n",
    "    name='poetry',\n",
    "    version='0.1',\n",
    "    author = 'Google',\n",
    "    author_email = 'training-feedback@cloud.google.com',\n",
    "    install_requires=REQUIRED_PACKAGES,\n",
    "    packages=find_packages(),\n",
    "    include_package_data=True,\n",
    "    description='Poetry Line Problem',\n",
    "    requires=[]\n",
    ")"
   ]
  },
  {
   "cell_type": "code",
   "execution_count": 17,
   "metadata": {},
   "outputs": [],
   "source": [
    "!touch poetry/__init__.py"
   ]
  },
  {
   "cell_type": "code",
   "execution_count": 18,
   "metadata": {},
   "outputs": [
    {
     "name": "stdout",
     "output_type": "stream",
     "text": [
      "poetry\r\n",
      "poetry/trainer\r\n",
      "poetry/trainer/problem.py\r\n",
      "poetry/trainer/__init__.py\r\n",
      "poetry/setup.py\r\n",
      "poetry/__init__.py\r\n"
     ]
    }
   ],
   "source": [
    "!find poetry"
   ]
  },
  {
   "cell_type": "markdown",
   "metadata": {},
   "source": [
    "## Generate training data \n",
    "\n",
    "Our problem (translation) requires the creation of text sequences from the training dataset.  This is done using t2t-datagen and the Problem defined in the previous section.\n",
    "\n",
    "(Ignore any runtime warnings about np.float64. they are harmless)."
   ]
  },
  {
   "cell_type": "code",
   "execution_count": 19,
   "metadata": {},
   "outputs": [
    {
     "name": "stderr",
     "output_type": "stream",
     "text": [
      "/usr/local/envs/py2env/lib/python2.7/site-packages/h5py/__init__.py:36: FutureWarning: Conversion of the second argument of issubdtype from `float` to `np.floating` is deprecated. In future, it will be treated as `np.float64 == np.dtype(float).type`.\n",
      "  from ._conv import register_converters as _register_converters\n",
      "INFO:tensorflow:Importing user module trainer from path /content/datalab/gcp-ml-02-advanced-ml-with-tf-on-gcp/04-sequence-models-tensorflow-gcp/poetry\n",
      "INFO:tensorflow:Generating problems:\n",
      "    poetry:\n",
      "      * poetry_line_problem\n",
      "INFO:tensorflow:Generating data for poetry_line_problem.\n",
      "INFO:tensorflow:Generating vocab file: ./t2t_data/vocab.poetry_line_problem.8192.subwords\n",
      "INFO:tensorflow:Trying min_count 500\n",
      "INFO:tensorflow:Iteration 0\n",
      "INFO:tensorflow:vocab_size = 1189\n",
      "INFO:tensorflow:Iteration 1\n",
      "INFO:tensorflow:vocab_size = 676\n",
      "INFO:tensorflow:Iteration 2\n",
      "INFO:tensorflow:vocab_size = 704\n",
      "INFO:tensorflow:Iteration 3\n",
      "INFO:tensorflow:vocab_size = 702\n",
      "INFO:tensorflow:Trying min_count 250\n",
      "INFO:tensorflow:Iteration 0\n",
      "INFO:tensorflow:vocab_size = 2025\n",
      "INFO:tensorflow:Iteration 1\n",
      "INFO:tensorflow:vocab_size = 1097\n",
      "INFO:tensorflow:Iteration 2\n",
      "INFO:tensorflow:vocab_size = 1130\n",
      "INFO:tensorflow:Iteration 3\n",
      "INFO:tensorflow:vocab_size = 1129\n",
      "INFO:tensorflow:Trying min_count 125\n",
      "INFO:tensorflow:Iteration 0\n",
      "INFO:tensorflow:vocab_size = 3386\n",
      "INFO:tensorflow:Iteration 1\n",
      "INFO:tensorflow:vocab_size = 1756\n",
      "INFO:tensorflow:Iteration 2\n",
      "INFO:tensorflow:vocab_size = 1798\n",
      "INFO:tensorflow:Iteration 3\n",
      "INFO:tensorflow:vocab_size = 1799\n",
      "INFO:tensorflow:Trying min_count 62\n",
      "INFO:tensorflow:Iteration 0\n",
      "INFO:tensorflow:vocab_size = 5620\n",
      "INFO:tensorflow:Iteration 1\n",
      "INFO:tensorflow:vocab_size = 2771\n",
      "INFO:tensorflow:Iteration 2\n",
      "INFO:tensorflow:vocab_size = 2832\n",
      "INFO:tensorflow:Iteration 3\n",
      "INFO:tensorflow:vocab_size = 2823\n",
      "INFO:tensorflow:Trying min_count 31\n",
      "INFO:tensorflow:Iteration 0\n",
      "INFO:tensorflow:vocab_size = 9026\n",
      "INFO:tensorflow:Iteration 1\n",
      "INFO:tensorflow:vocab_size = 4270\n",
      "INFO:tensorflow:Iteration 2\n",
      "INFO:tensorflow:vocab_size = 4362\n",
      "INFO:tensorflow:Iteration 3\n",
      "INFO:tensorflow:vocab_size = 4363\n",
      "INFO:tensorflow:Trying min_count 15\n",
      "INFO:tensorflow:Iteration 0\n",
      "INFO:tensorflow:vocab_size = 14356\n",
      "INFO:tensorflow:Iteration 1\n",
      "INFO:tensorflow:vocab_size = 6615\n",
      "INFO:tensorflow:Iteration 2\n",
      "INFO:tensorflow:vocab_size = 6754\n",
      "INFO:tensorflow:Iteration 3\n",
      "INFO:tensorflow:vocab_size = 6739\n",
      "INFO:tensorflow:Trying min_count 7\n",
      "INFO:tensorflow:Iteration 0\n",
      "INFO:tensorflow:vocab_size = 22520\n",
      "INFO:tensorflow:Iteration 1\n",
      "INFO:tensorflow:vocab_size = 10075\n",
      "INFO:tensorflow:Iteration 2\n",
      "INFO:tensorflow:vocab_size = 10220\n",
      "INFO:tensorflow:Iteration 3\n",
      "INFO:tensorflow:vocab_size = 10191\n",
      "INFO:tensorflow:Trying min_count 11\n",
      "INFO:tensorflow:Iteration 0\n",
      "INFO:tensorflow:vocab_size = 17325\n",
      "INFO:tensorflow:Iteration 1\n",
      "INFO:tensorflow:vocab_size = 7831\n",
      "INFO:tensorflow:Iteration 2\n",
      "INFO:tensorflow:vocab_size = 7973\n",
      "INFO:tensorflow:Iteration 3\n",
      "INFO:tensorflow:vocab_size = 7957\n",
      "INFO:tensorflow:Trying min_count 9\n",
      "INFO:tensorflow:Iteration 0\n",
      "INFO:tensorflow:vocab_size = 19507\n",
      "INFO:tensorflow:Iteration 1\n",
      "INFO:tensorflow:vocab_size = 8776\n",
      "INFO:tensorflow:Iteration 2\n",
      "INFO:tensorflow:vocab_size = 8943\n",
      "INFO:tensorflow:Iteration 3\n",
      "INFO:tensorflow:vocab_size = 8938\n",
      "INFO:tensorflow:Trying min_count 10\n",
      "INFO:tensorflow:Iteration 0\n",
      "INFO:tensorflow:vocab_size = 18370\n",
      "INFO:tensorflow:Iteration 1\n",
      "INFO:tensorflow:vocab_size = 8289\n",
      "INFO:tensorflow:Iteration 2\n",
      "INFO:tensorflow:vocab_size = 8432\n",
      "INFO:tensorflow:Iteration 3\n",
      "INFO:tensorflow:vocab_size = 8425\n",
      "INFO:tensorflow:Generating case 0.\n",
      "INFO:tensorflow:Generated 44341 Examples\n",
      "INFO:tensorflow:Shuffling data...\n",
      "INFO:tensorflow:Data shuffled.\n"
     ]
    }
   ],
   "source": [
    "%%bash\n",
    "DATA_DIR=./t2t_data\n",
    "TMP_DIR=$DATA_DIR/tmp\n",
    "rm -rf $DATA_DIR $TMP_DIR\n",
    "mkdir -p $DATA_DIR $TMP_DIR\n",
    "# Generate data\n",
    "t2t-datagen \\\n",
    "  --t2t_usr_dir=./poetry/trainer \\\n",
    "  --problem=$PROBLEM \\\n",
    "  --data_dir=$DATA_DIR \\\n",
    "  --tmp_dir=$TMP_DIR"
   ]
  },
  {
   "cell_type": "code",
   "execution_count": 20,
   "metadata": {},
   "outputs": [
    {
     "name": "stdout",
     "output_type": "stream",
     "text": [
      "poetry_line_problem-dev-00000-of-00010\r\n",
      "poetry_line_problem-dev-00001-of-00010\r\n",
      "poetry_line_problem-dev-00002-of-00010\r\n",
      "poetry_line_problem-dev-00003-of-00010\r\n",
      "poetry_line_problem-dev-00004-of-00010\r\n",
      "poetry_line_problem-dev-00005-of-00010\r\n",
      "poetry_line_problem-dev-00006-of-00010\r\n",
      "poetry_line_problem-dev-00007-of-00010\r\n",
      "poetry_line_problem-dev-00008-of-00010\r\n",
      "poetry_line_problem-dev-00009-of-00010\r\n",
      "ls: write error: Broken pipe\r\n"
     ]
    }
   ],
   "source": [
    "!ls t2t_data | head"
   ]
  },
  {
   "cell_type": "markdown",
   "metadata": {},
   "source": [
    "## Provide Cloud ML Engine access to data\n",
    "\n",
    "Copy the data to Google Cloud Storage, and then provide access to the data"
   ]
  },
  {
   "cell_type": "code",
   "execution_count": 21,
   "metadata": {},
   "outputs": [
    {
     "name": "stderr",
     "output_type": "stream",
     "text": [
      "CommandException: 1 files/objects could not be removed.\n",
      "Copying file://./t2t_data/poetry_line_problem-dev-00000-of-00010 [Content-Type=application/octet-stream]...\n",
      "/ [0 files][    0.0 B/ 32.3 KiB]                                                \r",
      "Copying file://./t2t_data/poetry_line_problem-dev-00001-of-00010 [Content-Type=application/octet-stream]...\n",
      "/ [0 files][    0.0 B/ 64.6 KiB]                                                \r",
      "Copying file://./t2t_data/poetry_line_problem-dev-00002-of-00010 [Content-Type=application/octet-stream]...\n",
      "/ [0 files][    0.0 B/ 97.0 KiB]                                                \r",
      "Copying file://./t2t_data/poetry_line_problem-dev-00003-of-00010 [Content-Type=application/octet-stream]...\n",
      "/ [0 files][    0.0 B/129.4 KiB]                                                \r",
      "Copying file://./t2t_data/poetry_line_problem-dev-00004-of-00010 [Content-Type=application/octet-stream]...\n",
      "/ [0 files][    0.0 B/161.9 KiB]                                                \r",
      "Copying file://./t2t_data/poetry_line_problem-dev-00005-of-00010 [Content-Type=application/octet-stream]...\n",
      "/ [1 files][129.4 KiB/161.9 KiB]                                                \r",
      "/ [1 files][129.4 KiB/194.1 KiB]                                                \r",
      "/ [2 files][161.9 KiB/194.1 KiB]                                                \r",
      "Copying file://./t2t_data/poetry_line_problem-dev-00006-of-00010 [Content-Type=application/octet-stream]...\n",
      "/ [2 files][161.9 KiB/226.4 KiB]                                                \r",
      "Copying file://./t2t_data/poetry_line_problem-dev-00007-of-00010 [Content-Type=application/octet-stream]...\n",
      "/ [3/101 files][194.1 KiB/  3.2 MiB]   5% Done                                  \r",
      "/ [4/101 files][194.1 KiB/  3.2 MiB]   5% Done                                  \r",
      "/ [4/101 files][194.1 KiB/  3.2 MiB]   5% Done                                  \r",
      "Copying file://./t2t_data/poetry_line_problem-dev-00008-of-00010 [Content-Type=application/octet-stream]...\n",
      "/ [4/101 files][194.1 KiB/  3.2 MiB]   5% Done                                  \r",
      "/ [5/101 files][291.1 KiB/  3.2 MiB]   8% Done                                  \r",
      "/ [6/101 files][291.1 KiB/  3.2 MiB]   8% Done                                  \r",
      "Copying file://./t2t_data/poetry_line_problem-dev-00009-of-00010 [Content-Type=application/octet-stream]...\n",
      "/ [6/101 files][291.1 KiB/  3.2 MiB]   8% Done                                  \r",
      "Copying file://./t2t_data/poetry_line_problem-train-00000-of-00090 [Content-Type=application/octet-stream]...\n",
      "/ [6/101 files][291.1 KiB/  3.2 MiB]   8% Done                                  \r",
      "Copying file://./t2t_data/poetry_line_problem-train-00001-of-00090 [Content-Type=application/octet-stream]...\n",
      "Copying file://./t2t_data/poetry_line_problem-train-00002-of-00090 [Content-Type=application/octet-stream]...\n",
      "/ [7/101 files][356.3 KiB/  3.2 MiB]  10% Done                                  \r",
      "/ [7/101 files][356.3 KiB/  3.2 MiB]  10% Done                                  \r",
      "/ [8/101 files][356.3 KiB/  3.2 MiB]  10% Done                                  \r",
      "/ [8/101 files][356.3 KiB/  3.2 MiB]  10% Done                                  \r",
      "/ [9/101 files][356.3 KiB/  3.2 MiB]  10% Done                                  \r",
      "Copying file://./t2t_data/poetry_line_problem-train-00003-of-00090 [Content-Type=application/octet-stream]...\n",
      "/ [9/101 files][356.3 KiB/  3.2 MiB]  10% Done                                  \r",
      "Copying file://./t2t_data/poetry_line_problem-train-00004-of-00090 [Content-Type=application/octet-stream]...\n",
      "/ [10/101 files][421.2 KiB/  3.2 MiB]  12% Done                                 \r",
      "/ [10/101 files][453.8 KiB/  3.2 MiB]  13% Done                                 \r",
      "/ [11/101 files][486.3 KiB/  3.2 MiB]  14% Done                                 \r",
      "Copying file://./t2t_data/poetry_line_problem-train-00005-of-00090 [Content-Type=application/octet-stream]...\n",
      "/ [11/101 files][486.3 KiB/  3.2 MiB]  14% Done                                 \r",
      "Copying file://./t2t_data/poetry_line_problem-train-00006-of-00090 [Content-Type=application/octet-stream]...\n",
      "/ [12/101 files][518.8 KiB/  3.2 MiB]  15% Done                                 \r",
      "/ [13/101 files][518.8 KiB/  3.2 MiB]  15% Done                                 \r",
      "/ [14/101 files][518.8 KiB/  3.2 MiB]  15% Done                                 \r",
      "Copying file://./t2t_data/poetry_line_problem-train-00007-of-00090 [Content-Type=application/octet-stream]...\n",
      "Copying file://./t2t_data/poetry_line_problem-train-00008-of-00090 [Content-Type=application/octet-stream]...\n",
      "/ [15/101 files][518.8 KiB/  3.2 MiB]  15% Done                                 \r",
      "/ [15/101 files][518.8 KiB/  3.2 MiB]  15% Done                                 \r",
      "/ [15/101 files][518.8 KiB/  3.2 MiB]  15% Done                                 \r",
      "/ [15/101 files][518.8 KiB/  3.2 MiB]  15% Done                                 \r",
      "Copying file://./t2t_data/poetry_line_problem-train-00009-of-00090 [Content-Type=application/octet-stream]...\n",
      "/ [15/101 files][518.8 KiB/  3.2 MiB]  15% Done                                 \r",
      "-\r",
      "Copying file://./t2t_data/poetry_line_problem-train-00010-of-00090 [Content-Type=application/octet-stream]...\n",
      "- [16/101 files][518.8 KiB/  3.2 MiB]  15% Done                                 \r",
      "- [16/101 files][518.8 KiB/  3.2 MiB]  15% Done                                 \r",
      "Copying file://./t2t_data/poetry_line_problem-train-00011-of-00090 [Content-Type=application/octet-stream]...\n",
      "Copying file://./t2t_data/poetry_line_problem-train-00013-of-00090 [Content-Type=application/octet-stream]...\n",
      "- [17/101 files][681.2 KiB/  3.2 MiB]  20% Done                                 \r",
      "- [17/101 files][681.2 KiB/  3.2 MiB]  20% Done                                 \r",
      "- [18/101 files][681.2 KiB/  3.2 MiB]  20% Done                                 \r",
      "- [19/101 files][681.2 KiB/  3.2 MiB]  20% Done                                 \r",
      "- [20/101 files][681.2 KiB/  3.2 MiB]  20% Done                                 \r",
      "- [21/101 files][681.2 KiB/  3.2 MiB]  20% Done                                 \r",
      "Copying file://./t2t_data/poetry_line_problem-train-00012-of-00090 [Content-Type=application/octet-stream]...\n",
      "Copying file://./t2t_data/poetry_line_problem-train-00014-of-00090 [Content-Type=application/octet-stream]...\n",
      "- [21/101 files][681.2 KiB/  3.2 MiB]  20% Done                                 \r",
      "- [21/101 files][681.2 KiB/  3.2 MiB]  20% Done                                 \r",
      "- [21/101 files][681.2 KiB/  3.2 MiB]  20% Done                                 \r",
      "Copying file://./t2t_data/poetry_line_problem-train-00015-of-00090 [Content-Type=application/octet-stream]...\n",
      "- [21/101 files][681.2 KiB/  3.2 MiB]  20% Done                                 \r",
      "Copying file://./t2t_data/poetry_line_problem-train-00016-of-00090 [Content-Type=application/octet-stream]...\n",
      "Copying file://./t2t_data/poetry_line_problem-train-00017-of-00090 [Content-Type=application/octet-stream]...\n",
      "- [22/101 files][843.4 KiB/  3.2 MiB]  25% Done                                 \r",
      "- [23/101 files][843.4 KiB/  3.2 MiB]  25% Done                                 \r",
      "- [23/101 files][843.4 KiB/  3.2 MiB]  25% Done                                 \r",
      "- [23/101 files][843.4 KiB/  3.2 MiB]  25% Done                                 \r",
      "- [24/101 files][843.4 KiB/  3.2 MiB]  25% Done                                 \r",
      "- [25/101 files][843.4 KiB/  3.2 MiB]  25% Done                                 \r",
      "Copying file://./t2t_data/poetry_line_problem-train-00018-of-00090 [Content-Type=application/octet-stream]...\n",
      "Copying file://./t2t_data/poetry_line_problem-train-00019-of-00090 [Content-Type=application/octet-stream]...\n",
      "- [25/101 files][843.4 KiB/  3.2 MiB]  25% Done                                 \r",
      "- [25/101 files][843.4 KiB/  3.2 MiB]  25% Done                                 \r",
      "- [26/101 files][843.4 KiB/  3.2 MiB]  25% Done                                 \r",
      "Copying file://./t2t_data/poetry_line_problem-train-00020-of-00090 [Content-Type=application/octet-stream]...\n",
      "- [26/101 files][843.4 KiB/  3.2 MiB]  25% Done                                 \r",
      "- [27/101 files][ 1005 KiB/  3.2 MiB]  30% Done                                 \r",
      "Copying file://./t2t_data/poetry_line_problem-train-00021-of-00090 [Content-Type=application/octet-stream]...\n",
      "- [27/101 files][ 1005 KiB/  3.2 MiB]  30% Done                                 \r",
      "Copying file://./t2t_data/poetry_line_problem-train-00022-of-00090 [Content-Type=application/octet-stream]...\n",
      "- [28/101 files][ 1005 KiB/  3.2 MiB]  30% Done                                 \r",
      "- [29/101 files][ 1005 KiB/  3.2 MiB]  30% Done                                 \r",
      "Copying file://./t2t_data/poetry_line_problem-train-00023-of-00090 [Content-Type=application/octet-stream]...\n",
      "- [29/101 files][ 1005 KiB/  3.2 MiB]  30% Done                                 \r",
      "- [29/101 files][ 1005 KiB/  3.2 MiB]  30% Done                                 \r",
      "- [30/101 files][ 1005 KiB/  3.2 MiB]  30% Done                                 \r",
      "Copying file://./t2t_data/poetry_line_problem-train-00024-of-00090 [Content-Type=application/octet-stream]...\n",
      "- [31/101 files][ 1005 KiB/  3.2 MiB]  30% Done                                 \r",
      "- [31/101 files][ 1005 KiB/  3.2 MiB]  30% Done                                 \r",
      "\\\r",
      "Copying file://./t2t_data/poetry_line_problem-train-00025-of-00090 [Content-Type=application/octet-stream]...\n",
      "\\ [31/101 files][ 1005 KiB/  3.2 MiB]  30% Done                                 \r",
      "\\ [32/101 files][  1.1 MiB/  3.2 MiB]  35% Done                                 \r",
      "Copying file://./t2t_data/poetry_line_problem-train-00026-of-00090 [Content-Type=application/octet-stream]...\n",
      "\\ [32/101 files][  1.1 MiB/  3.2 MiB]  35% Done                                 \r",
      "Copying file://./t2t_data/poetry_line_problem-train-00027-of-00090 [Content-Type=application/octet-stream]...\n",
      "\\ [33/101 files][  1.2 MiB/  3.2 MiB]  36% Done                                 \r",
      "\\ [34/101 files][  1.2 MiB/  3.2 MiB]  36% Done                                 \r",
      "\\ [35/101 files][  1.2 MiB/  3.2 MiB]  36% Done                                 \r",
      "\\ [36/101 files][  1.2 MiB/  3.2 MiB]  36% Done                                 \r",
      "Copying file://./t2t_data/poetry_line_problem-train-00028-of-00090 [Content-Type=application/octet-stream]...\n",
      "Copying file://./t2t_data/poetry_line_problem-train-00029-of-00090 [Content-Type=application/octet-stream]...\n",
      "\\ [36/101 files][  1.2 MiB/  3.2 MiB]  36% Done                                 \r",
      "Copying file://./t2t_data/poetry_line_problem-train-00030-of-00090 [Content-Type=application/octet-stream]...\n",
      "\\ [36/101 files][  1.2 MiB/  3.2 MiB]  36% Done                                 \r",
      "\\ [36/101 files][  1.2 MiB/  3.2 MiB]  36% Done                                 \r",
      "\\ [36/101 files][  1.2 MiB/  3.2 MiB]  36% Done                                 \r",
      "Copying file://./t2t_data/poetry_line_problem-train-00031-of-00090 [Content-Type=application/octet-stream]...\n",
      "\\ [37/101 files][  1.2 MiB/  3.2 MiB]  36% Done                                 \r",
      "\\ [37/101 files][  1.2 MiB/  3.2 MiB]  36% Done                                 \r",
      "Copying file://./t2t_data/poetry_line_problem-train-00032-of-00090 [Content-Type=application/octet-stream]...\n",
      "\\ [38/101 files][  1.3 MiB/  3.2 MiB]  41% Done                                 \r",
      "\\ [38/101 files][  1.3 MiB/  3.2 MiB]  41% Done                                 \r",
      "\\ [39/101 files][  1.3 MiB/  3.2 MiB]  41% Done                                 \r",
      "Copying file://./t2t_data/poetry_line_problem-train-00033-of-00090 [Content-Type=application/octet-stream]...\n",
      "\\ [39/101 files][  1.3 MiB/  3.2 MiB]  41% Done                                 \r",
      "\\ [40/101 files][  1.4 MiB/  3.2 MiB]  43% Done                                 \r",
      "\\ [41/101 files][  1.4 MiB/  3.2 MiB]  43% Done                                 \r",
      "Copying file://./t2t_data/poetry_line_problem-train-00034-of-00090 [Content-Type=application/octet-stream]...\n",
      "Copying file://./t2t_data/poetry_line_problem-train-00035-of-00090 [Content-Type=application/octet-stream]...\n",
      "\\ [41/101 files][  1.4 MiB/  3.2 MiB]  43% Done                                 \r",
      "\\ [41/101 files][  1.4 MiB/  3.2 MiB]  43% Done                                 \r",
      "\\ [42/101 files][  1.4 MiB/  3.2 MiB]  43% Done                                 \r",
      "Copying file://./t2t_data/poetry_line_problem-train-00036-of-00090 [Content-Type=application/octet-stream]...\n",
      "\\ [42/101 files][  1.4 MiB/  3.2 MiB]  43% Done                                 \r",
      "Copying file://./t2t_data/poetry_line_problem-train-00038-of-00090 [Content-Type=application/octet-stream]...\n",
      "\\ [43/101 files][  1.4 MiB/  3.2 MiB]  43% Done                                 \r",
      "\\ [44/101 files][  1.4 MiB/  3.2 MiB]  43% Done                                 \r",
      "Copying file://./t2t_data/poetry_line_problem-train-00037-of-00090 [Content-Type=application/octet-stream]...\n",
      "\\ [44/101 files][  1.4 MiB/  3.2 MiB]  44% Done                                 \r",
      "\\ [44/101 files][  1.4 MiB/  3.2 MiB]  44% Done                                 \r",
      "Copying file://./t2t_data/poetry_line_problem-train-00039-of-00090 [Content-Type=application/octet-stream]...\n",
      "\\ [45/101 files][  1.6 MiB/  3.2 MiB]  48% Done                                 \r",
      "\\ [45/101 files][  1.6 MiB/  3.2 MiB]  48% Done                                 \r",
      "\\ [46/101 files][  1.6 MiB/  3.2 MiB]  49% Done                                 \r",
      "\\ [47/101 files][  1.6 MiB/  3.2 MiB]  49% Done                                 \r",
      "Copying file://./t2t_data/poetry_line_problem-train-00040-of-00090 [Content-Type=application/octet-stream]...\n",
      "Copying file://./t2t_data/poetry_line_problem-train-00041-of-00090 [Content-Type=application/octet-stream]...\n",
      "\\ [47/101 files][  1.6 MiB/  3.2 MiB]  49% Done                                 \r",
      "\\ [47/101 files][  1.6 MiB/  3.2 MiB]  49% Done                                 \r",
      "\\ [48/101 files][  1.6 MiB/  3.2 MiB]  49% Done                                 \r",
      "|\r",
      "| [49/101 files][  1.6 MiB/  3.2 MiB]  49% Done                                 \r",
      "Copying file://./t2t_data/poetry_line_problem-train-00042-of-00090 [Content-Type=application/octet-stream]...\n",
      "Copying file://./t2t_data/poetry_line_problem-train-00043-of-00090 [Content-Type=application/octet-stream]...\n",
      "| [49/101 files][  1.6 MiB/  3.2 MiB]  49% Done                                 \r",
      "| [49/101 files][  1.6 MiB/  3.2 MiB]  49% Done                                 \r",
      "| [50/101 files][  1.6 MiB/  3.2 MiB]  50% Done                                 \r",
      "Copying file://./t2t_data/poetry_line_problem-train-00044-of-00090 [Content-Type=application/octet-stream]...\n",
      "| [50/101 files][  1.7 MiB/  3.2 MiB]  51% Done                                 \r",
      "Copying file://./t2t_data/poetry_line_problem-train-00045-of-00090 [Content-Type=application/octet-stream]...\n",
      "| [51/101 files][  1.7 MiB/  3.2 MiB]  53% Done                                 \r",
      "| [51/101 files][  1.7 MiB/  3.2 MiB]  53% Done                                 \r",
      "| [52/101 files][  1.7 MiB/  3.2 MiB]  53% Done                                 \r",
      "Copying file://./t2t_data/poetry_line_problem-train-00046-of-00090 [Content-Type=application/octet-stream]...\n",
      "| [52/101 files][  1.7 MiB/  3.2 MiB]  53% Done                                 \r",
      "Copying file://./t2t_data/poetry_line_problem-train-00047-of-00090 [Content-Type=application/octet-stream]...\n",
      "Copying file://./t2t_data/poetry_line_problem-train-00048-of-00090 [Content-Type=application/octet-stream]...\n",
      "| [53/101 files][  1.8 MiB/  3.2 MiB]  55% Done                                 \r",
      "| [53/101 files][  1.8 MiB/  3.2 MiB]  55% Done                                 \r",
      "| [54/101 files][  1.8 MiB/  3.2 MiB]  55% Done                                 \r",
      "| [54/101 files][  1.8 MiB/  3.2 MiB]  55% Done                                 \r",
      "| [55/101 files][  1.8 MiB/  3.2 MiB]  55% Done                                 \r",
      "Copying file://./t2t_data/poetry_line_problem-train-00049-of-00090 [Content-Type=application/octet-stream]...\n",
      "| [55/101 files][  1.8 MiB/  3.2 MiB]  55% Done                                 \r",
      "| [56/101 files][  1.8 MiB/  3.2 MiB]  56% Done                                 \r",
      "Copying file://./t2t_data/poetry_line_problem-train-00050-of-00090 [Content-Type=application/octet-stream]...\n",
      "| [56/101 files][  1.8 MiB/  3.2 MiB]  56% Done                                 \r",
      "| [57/101 files][  1.9 MiB/  3.2 MiB]  58% Done                                 \r",
      "Copying file://./t2t_data/poetry_line_problem-train-00051-of-00090 [Content-Type=application/octet-stream]...\n",
      "| [57/101 files][  1.9 MiB/  3.2 MiB]  58% Done                                 \r",
      "Copying file://./t2t_data/poetry_line_problem-train-00052-of-00090 [Content-Type=application/octet-stream]...\n",
      "| [58/101 files][  1.9 MiB/  3.2 MiB]  58% Done                                 \r",
      "| [58/101 files][  1.9 MiB/  3.2 MiB]  59% Done                                 \r",
      "| [59/101 files][  2.0 MiB/  3.2 MiB]  60% Done                                 \r",
      "| [60/101 files][  2.0 MiB/  3.2 MiB]  60% Done                                 \r",
      "Copying file://./t2t_data/poetry_line_problem-train-00053-of-00090 [Content-Type=application/octet-stream]...\n",
      "Copying file://./t2t_data/poetry_line_problem-train-00054-of-00090 [Content-Type=application/octet-stream]...\n",
      "| [60/101 files][  2.0 MiB/  3.2 MiB]  60% Done                                 \r",
      "| [60/101 files][  2.0 MiB/  3.2 MiB]  60% Done                                 \r",
      "Copying file://./t2t_data/poetry_line_problem-train-00055-of-00090 [Content-Type=application/octet-stream]...\n",
      "| [61/101 files][  2.0 MiB/  3.2 MiB]  61% Done                                 \r",
      "| [61/101 files][  2.0 MiB/  3.2 MiB]  62% Done                                 \r",
      "| [62/101 files][  2.1 MiB/  3.2 MiB]  64% Done                                 \r",
      "Copying file://./t2t_data/poetry_line_problem-train-00056-of-00090 [Content-Type=application/octet-stream]...\n",
      "| [62/101 files][  2.1 MiB/  3.2 MiB]  64% Done                                 \r",
      "Copying file://./t2t_data/poetry_line_problem-train-00057-of-00090 [Content-Type=application/octet-stream]...\n",
      "| [63/101 files][  2.1 MiB/  3.2 MiB]  65% Done                                 \r",
      "| [64/101 files][  2.1 MiB/  3.2 MiB]  65% Done                                 \r",
      "| [64/101 files][  2.1 MiB/  3.2 MiB]  65% Done                                 \r",
      "| [65/101 files][  2.1 MiB/  3.2 MiB]  65% Done                                 \r",
      "| [66/101 files][  2.1 MiB/  3.2 MiB]  65% Done                                 \r",
      "Copying file://./t2t_data/poetry_line_problem-train-00059-of-00090 [Content-Type=application/octet-stream]...\n",
      "Copying file://./t2t_data/poetry_line_problem-train-00058-of-00090 [Content-Type=application/octet-stream]...\n",
      "Copying file://./t2t_data/poetry_line_problem-train-00060-of-00090 [Content-Type=application/octet-stream]...\n",
      "| [66/101 files][  2.1 MiB/  3.2 MiB]  65% Done                                 \r",
      "| [66/101 files][  2.1 MiB/  3.2 MiB]  65% Done                                 \r",
      "| [66/101 files][  2.1 MiB/  3.2 MiB]  65% Done                                 \r",
      "Copying file://./t2t_data/poetry_line_problem-train-00061-of-00090 [Content-Type=application/octet-stream]...\n",
      "| [67/101 files][  2.1 MiB/  3.2 MiB]  65% Done                                 \r",
      "| [67/101 files][  2.1 MiB/  3.2 MiB]  65% Done                                 \r",
      "/\r",
      "Copying file://./t2t_data/poetry_line_problem-train-00062-of-00090 [Content-Type=application/octet-stream]...\n",
      "/ [68/101 files][  2.3 MiB/  3.2 MiB]  70% Done                                 \r",
      "/ [68/101 files][  2.3 MiB/  3.2 MiB]  70% Done                                 \r",
      "/ [69/101 files][  2.3 MiB/  3.2 MiB]  70% Done                                 \r",
      "/ [70/101 files][  2.3 MiB/  3.2 MiB]  70% Done                                 \r",
      "/ [71/101 files][  2.3 MiB/  3.2 MiB]  70% Done                                 \r",
      "Copying file://./t2t_data/poetry_line_problem-train-00065-of-00090 [Content-Type=application/octet-stream]...\n",
      "Copying file://./t2t_data/poetry_line_problem-train-00064-of-00090 [Content-Type=application/octet-stream]...\n",
      "/ [71/101 files][  2.3 MiB/  3.2 MiB]  70% Done                                 \r",
      "Copying file://./t2t_data/poetry_line_problem-train-00063-of-00090 [Content-Type=application/octet-stream]...\n",
      "/ [71/101 files][  2.3 MiB/  3.2 MiB]  70% Done                                 \r",
      "/ [71/101 files][  2.3 MiB/  3.2 MiB]  70% Done                                 \r",
      "/ [72/101 files][  2.3 MiB/  3.2 MiB]  70% Done                                 \r",
      "Copying file://./t2t_data/poetry_line_problem-train-00066-of-00090 [Content-Type=application/octet-stream]...\n",
      "/ [72/101 files][  2.3 MiB/  3.2 MiB]  70% Done                                 \r",
      "/ [73/101 files][  2.4 MiB/  3.2 MiB]  75% Done                                 \r",
      "Copying file://./t2t_data/poetry_line_problem-train-00067-of-00090 [Content-Type=application/octet-stream]...\n",
      "/ [73/101 files][  2.4 MiB/  3.2 MiB]  75% Done                                 \r",
      "Copying file://./t2t_data/poetry_line_problem-train-00069-of-00090 [Content-Type=application/octet-stream]...\n",
      "/ [74/101 files][  2.4 MiB/  3.2 MiB]  75% Done                                 \r",
      "/ [75/101 files][  2.4 MiB/  3.2 MiB]  75% Done                                 \r",
      "/ [76/101 files][  2.4 MiB/  3.2 MiB]  75% Done                                 \r",
      "Copying file://./t2t_data/poetry_line_problem-train-00070-of-00090 [Content-Type=application/octet-stream]...\n",
      "Copying file://./t2t_data/poetry_line_problem-train-00068-of-00090 [Content-Type=application/octet-stream]...\n",
      "/ [76/101 files][  2.4 MiB/  3.2 MiB]  75% Done                                 \r",
      "/ [76/101 files][  2.4 MiB/  3.2 MiB]  75% Done                                 \r",
      "/ [76/101 files][  2.4 MiB/  3.2 MiB]  75% Done                                 \r",
      "/ [77/101 files][  2.4 MiB/  3.2 MiB]  75% Done                                 \r",
      "Copying file://./t2t_data/poetry_line_problem-train-00071-of-00090 [Content-Type=application/octet-stream]...\n",
      "/ [77/101 files][  2.5 MiB/  3.2 MiB]  76% Done                                 \r",
      "Copying file://./t2t_data/poetry_line_problem-train-00072-of-00090 [Content-Type=application/octet-stream]...\n",
      "/ [78/101 files][  2.6 MiB/  3.2 MiB]  80% Done                                 \r",
      "/ [78/101 files][  2.6 MiB/  3.2 MiB]  80% Done                                 \r",
      "/ [79/101 files][  2.6 MiB/  3.2 MiB]  81% Done                                 \r",
      "Copying file://./t2t_data/poetry_line_problem-train-00073-of-00090 [Content-Type=application/octet-stream]...\n",
      "/ [79/101 files][  2.6 MiB/  3.2 MiB]  81% Done                                 \r",
      "Copying file://./t2t_data/poetry_line_problem-train-00074-of-00090 [Content-Type=application/octet-stream]...\n",
      "Copying file://./t2t_data/poetry_line_problem-train-00075-of-00090 [Content-Type=application/octet-stream]...\n",
      "/ [80/101 files][  2.6 MiB/  3.2 MiB]  81% Done                                 \r",
      "/ [81/101 files][  2.6 MiB/  3.2 MiB]  81% Done                                 \r",
      "/ [81/101 files][  2.6 MiB/  3.2 MiB]  81% Done                                 \r",
      "/ [81/101 files][  2.6 MiB/  3.2 MiB]  81% Done                                 \r",
      "/ [82/101 files][  2.6 MiB/  3.2 MiB]  81% Done                                 \r",
      "/ [83/101 files][  2.6 MiB/  3.2 MiB]  81% Done                                 \r",
      "Copying file://./t2t_data/poetry_line_problem-train-00076-of-00090 [Content-Type=application/octet-stream]...\n",
      "Copying file://./t2t_data/poetry_line_problem-train-00077-of-00090 [Content-Type=application/octet-stream]...\n",
      "/ [83/101 files][  2.6 MiB/  3.2 MiB]  81% Done                                 \r",
      "/ [83/101 files][  2.6 MiB/  3.2 MiB]  81% Done                                 \r",
      "/ [84/101 files][  2.8 MiB/  3.2 MiB]  86% Done                                 \r",
      "-\r",
      "Copying file://./t2t_data/poetry_line_problem-train-00078-of-00090 [Content-Type=application/octet-stream]...\n",
      "- [84/101 files][  2.8 MiB/  3.2 MiB]  86% Done                                 \r",
      "Copying file://./t2t_data/poetry_line_problem-train-00079-of-00090 [Content-Type=application/octet-stream]...\n",
      "- [85/101 files][  2.8 MiB/  3.2 MiB]  86% Done                                 \r",
      "- [85/101 files][  2.8 MiB/  3.2 MiB]  86% Done                                 \r",
      "- [86/101 files][  2.8 MiB/  3.2 MiB]  87% Done                                 \r",
      "- [87/101 files][  2.8 MiB/  3.2 MiB]  87% Done                                 \r",
      "Copying file://./t2t_data/poetry_line_problem-train-00081-of-00090 [Content-Type=application/octet-stream]...\n",
      "Copying file://./t2t_data/poetry_line_problem-train-00080-of-00090 [Content-Type=application/octet-stream]...\n",
      "- [87/101 files][  2.8 MiB/  3.2 MiB]  87% Done                                 \r",
      "- [87/101 files][  2.8 MiB/  3.2 MiB]  87% Done                                 \r",
      "- [88/101 files][  2.8 MiB/  3.2 MiB]  87% Done                                 \r",
      "Copying file://./t2t_data/poetry_line_problem-train-00082-of-00090 [Content-Type=application/octet-stream]...\n",
      "- [88/101 files][  2.9 MiB/  3.2 MiB]  88% Done                                 \r",
      "Copying file://./t2t_data/poetry_line_problem-train-00083-of-00090 [Content-Type=application/octet-stream]...\n",
      "- [89/101 files][  2.9 MiB/  3.2 MiB]  90% Done                                 \r",
      "- [89/101 files][  2.9 MiB/  3.2 MiB]  90% Done                                 \r",
      "- [90/101 files][  2.9 MiB/  3.2 MiB]  91% Done                                 \r",
      "Copying file://./t2t_data/poetry_line_problem-train-00084-of-00090 [Content-Type=application/octet-stream]...\n",
      "- [90/101 files][  2.9 MiB/  3.2 MiB]  91% Done                                 \r",
      "- [91/101 files][  3.0 MiB/  3.2 MiB]  93% Done                                 \r",
      "- [92/101 files][  3.0 MiB/  3.2 MiB]  93% Done                                 \r",
      "Copying file://./t2t_data/poetry_line_problem-train-00085-of-00090 [Content-Type=application/octet-stream]...\n",
      "- [92/101 files][  3.0 MiB/  3.2 MiB]  93% Done                                 \r",
      "Copying file://./t2t_data/poetry_line_problem-train-00086-of-00090 [Content-Type=application/octet-stream]...\n",
      "- [92/101 files][  3.0 MiB/  3.2 MiB]  93% Done                                 \r",
      "- [93/101 files][  3.0 MiB/  3.2 MiB]  93% Done                                 \r",
      "Copying file://./t2t_data/poetry_line_problem-train-00087-of-00090 [Content-Type=application/octet-stream]...\n",
      "- [93/101 files][  3.0 MiB/  3.2 MiB]  93% Done                                 \r",
      "Copying file://./t2t_data/poetry_line_problem-train-00088-of-00090 [Content-Type=application/octet-stream]...\n",
      "- [94/101 files][  3.0 MiB/  3.2 MiB]  93% Done                                 \r",
      "- [94/101 files][  3.0 MiB/  3.2 MiB]  93% Done                                 \r",
      "- [95/101 files][  3.0 MiB/  3.2 MiB]  93% Done                                 \r",
      "Copying file://./t2t_data/poetry_line_problem-train-00089-of-00090 [Content-Type=application/octet-stream]...\n",
      "- [95/101 files][  3.0 MiB/  3.2 MiB]  93% Done                                 \r",
      "Copying file://./t2t_data/vocab.poetry_line_problem.8192.subwords [Content-Type=application/octet-stream]...\n",
      "- [96/101 files][  3.2 MiB/  3.2 MiB]  97% Done                                 \r",
      "- [96/101 files][  3.2 MiB/  3.2 MiB]  97% Done                                 \r",
      "- [97/101 files][  3.2 MiB/  3.2 MiB]  97% Done                                 \r",
      "- [98/101 files][  3.2 MiB/  3.2 MiB]  97% Done                                 \r",
      "- [99/101 files][  3.2 MiB/  3.2 MiB]  99% Done                                 \r",
      "- [100/101 files][  3.2 MiB/  3.2 MiB]  99% Done                                \r",
      "- [101/101 files][  3.2 MiB/  3.2 MiB] 100% Done                                \r\n",
      "Operation completed over 101 objects/3.2 MiB.                                    \n"
     ]
    }
   ],
   "source": [
    "%%bash\n",
    "DATA_DIR=./t2t_data\n",
    "gsutil -m rm -r gs://${BUCKET}/poetry/\n",
    "gsutil -m cp ${DATA_DIR}/${PROBLEM}* ${DATA_DIR}/vocab* gs://${BUCKET}/poetry/data"
   ]
  },
  {
   "cell_type": "code",
   "execution_count": 22,
   "metadata": {},
   "outputs": [
    {
     "name": "stdout",
     "output_type": "stream",
     "text": [
      "Authorizing the Cloud ML Service account service-1032299714650@cloud-ml.google.com.iam.gserviceaccount.com to access files in qwiklabs-gcp-36677528dc4d202e\n"
     ]
    },
    {
     "name": "stderr",
     "output_type": "stream",
     "text": [
      "  % Total    % Received % Xferd  Average Speed   Time    Time     Time  Current\n",
      "                                 Dload  Upload   Total   Spent    Left  Speed\n",
      "\r",
      "  0     0    0     0    0     0      0      0 --:--:-- --:--:-- --:--:--     0\r",
      "100   234    0   234    0     0    243      0 --:--:-- --:--:-- --:--:--   243\r",
      "100   234    0   234    0     0    243      0 --:--:-- --:--:-- --:--:--   243\n",
      "Updated default ACL on gs://qwiklabs-gcp-36677528dc4d202e/\n",
      "Updated ACL on gs://qwiklabs-gcp-36677528dc4d202e/datalab-backups/europe-west1-c/mydatalabvm/content/daily-20190318074044\n",
      "Updated ACL on gs://qwiklabs-gcp-36677528dc4d202e/datalab-backups/europe-west1-c/mydatalabvm/content/hourly-20190318074044\n",
      "Updated ACL on gs://qwiklabs-gcp-36677528dc4d202e/poetry/data/poetry_line_problem-dev-00002-of-00010\n",
      "Updated ACL on gs://qwiklabs-gcp-36677528dc4d202e/poetry/data/poetry_line_problem-dev-00003-of-00010\n",
      "Updated ACL on gs://qwiklabs-gcp-36677528dc4d202e/poetry/data/poetry_line_problem-dev-00005-of-00010\n",
      "Updated ACL on gs://qwiklabs-gcp-36677528dc4d202e/poetry/data/poetry_line_problem-dev-00000-of-00010\n",
      "Updated ACL on gs://qwiklabs-gcp-36677528dc4d202e/poetry/data/poetry_line_problem-dev-00004-of-00010\n",
      "Updated ACL on gs://qwiklabs-gcp-36677528dc4d202e/poetry/data/poetry_line_problem-dev-00001-of-00010\n",
      "Updated ACL on gs://qwiklabs-gcp-36677528dc4d202e/datalab-backups/europe-west1-c/mydatalabvm/content/weekly-20190318074044\n",
      "Updated ACL on gs://qwiklabs-gcp-36677528dc4d202e/poetry/data/poetry_line_problem-dev-00007-of-00010\n",
      "Updated ACL on gs://qwiklabs-gcp-36677528dc4d202e/poetry/data/poetry_line_problem-dev-00009-of-00010\n",
      "Updated ACL on gs://qwiklabs-gcp-36677528dc4d202e/poetry/data/poetry_line_problem-dev-00008-of-00010\n",
      "Updated ACL on gs://qwiklabs-gcp-36677528dc4d202e/poetry/data/poetry_line_problem-train-00000-of-00090\n",
      "Updated ACL on gs://qwiklabs-gcp-36677528dc4d202e/poetry/data/poetry_line_problem-dev-00006-of-00010\n",
      "Updated ACL on gs://qwiklabs-gcp-36677528dc4d202e/poetry/data/poetry_line_problem-train-00002-of-00090\n",
      "Updated ACL on gs://qwiklabs-gcp-36677528dc4d202e/poetry/data/poetry_line_problem-train-00005-of-00090\n",
      "Updated ACL on gs://qwiklabs-gcp-36677528dc4d202e/poetry/data/poetry_line_problem-train-00001-of-00090\n",
      "Updated ACL on gs://qwiklabs-gcp-36677528dc4d202e/poetry/data/poetry_line_problem-train-00003-of-00090\n",
      "Updated ACL on gs://qwiklabs-gcp-36677528dc4d202e/poetry/data/poetry_line_problem-train-00004-of-00090\n",
      "Updated ACL on gs://qwiklabs-gcp-36677528dc4d202e/poetry/data/poetry_line_problem-train-00006-of-00090\n",
      "Updated ACL on gs://qwiklabs-gcp-36677528dc4d202e/poetry/data/poetry_line_problem-train-00009-of-00090\n",
      "Updated ACL on gs://qwiklabs-gcp-36677528dc4d202e/poetry/data/poetry_line_problem-train-00008-of-00090\n",
      "Updated ACL on gs://qwiklabs-gcp-36677528dc4d202e/poetry/data/poetry_line_problem-train-00010-of-00090\n",
      "Updated ACL on gs://qwiklabs-gcp-36677528dc4d202e/poetry/data/poetry_line_problem-train-00007-of-00090\n",
      "Updated ACL on gs://qwiklabs-gcp-36677528dc4d202e/poetry/data/poetry_line_problem-train-00011-of-00090\n",
      "Updated ACL on gs://qwiklabs-gcp-36677528dc4d202e/poetry/data/poetry_line_problem-train-00013-of-00090\n",
      "Updated ACL on gs://qwiklabs-gcp-36677528dc4d202e/poetry/data/poetry_line_problem-train-00012-of-00090\n",
      "Updated ACL on gs://qwiklabs-gcp-36677528dc4d202e/poetry/data/poetry_line_problem-train-00014-of-00090\n",
      "Updated ACL on gs://qwiklabs-gcp-36677528dc4d202e/poetry/data/poetry_line_problem-train-00015-of-00090\n",
      "Updated ACL on gs://qwiklabs-gcp-36677528dc4d202e/poetry/data/poetry_line_problem-train-00017-of-00090\n",
      "Updated ACL on gs://qwiklabs-gcp-36677528dc4d202e/poetry/data/poetry_line_problem-train-00019-of-00090\n",
      "Updated ACL on gs://qwiklabs-gcp-36677528dc4d202e/poetry/data/poetry_line_problem-train-00016-of-00090\n",
      "Updated ACL on gs://qwiklabs-gcp-36677528dc4d202e/poetry/data/poetry_line_problem-train-00018-of-00090\n",
      "Updated ACL on gs://qwiklabs-gcp-36677528dc4d202e/poetry/data/poetry_line_problem-train-00020-of-00090\n",
      "Updated ACL on gs://qwiklabs-gcp-36677528dc4d202e/poetry/data/poetry_line_problem-train-00021-of-00090\n",
      "Updated ACL on gs://qwiklabs-gcp-36677528dc4d202e/poetry/data/poetry_line_problem-train-00022-of-00090\n",
      "Updated ACL on gs://qwiklabs-gcp-36677528dc4d202e/poetry/data/poetry_line_problem-train-00023-of-00090\n",
      "Updated ACL on gs://qwiklabs-gcp-36677528dc4d202e/poetry/data/poetry_line_problem-train-00024-of-00090\n",
      "Updated ACL on gs://qwiklabs-gcp-36677528dc4d202e/poetry/data/poetry_line_problem-train-00025-of-00090\n",
      "Updated ACL on gs://qwiklabs-gcp-36677528dc4d202e/poetry/data/poetry_line_problem-train-00026-of-00090\n",
      "Updated ACL on gs://qwiklabs-gcp-36677528dc4d202e/poetry/data/poetry_line_problem-train-00028-of-00090\n",
      "Updated ACL on gs://qwiklabs-gcp-36677528dc4d202e/poetry/data/poetry_line_problem-train-00027-of-00090\n",
      "Updated ACL on gs://qwiklabs-gcp-36677528dc4d202e/poetry/data/poetry_line_problem-train-00030-of-00090\n",
      "Updated ACL on gs://qwiklabs-gcp-36677528dc4d202e/poetry/data/poetry_line_problem-train-00029-of-00090\n",
      "Updated ACL on gs://qwiklabs-gcp-36677528dc4d202e/poetry/data/poetry_line_problem-train-00031-of-00090\n",
      "Updated ACL on gs://qwiklabs-gcp-36677528dc4d202e/poetry/data/poetry_line_problem-train-00033-of-00090\n",
      "Updated ACL on gs://qwiklabs-gcp-36677528dc4d202e/poetry/data/poetry_line_problem-train-00032-of-00090\n",
      "Updated ACL on gs://qwiklabs-gcp-36677528dc4d202e/poetry/data/poetry_line_problem-train-00035-of-00090\n",
      "Updated ACL on gs://qwiklabs-gcp-36677528dc4d202e/poetry/data/poetry_line_problem-train-00034-of-00090\n",
      "Updated ACL on gs://qwiklabs-gcp-36677528dc4d202e/poetry/data/poetry_line_problem-train-00036-of-00090\n",
      "Updated ACL on gs://qwiklabs-gcp-36677528dc4d202e/poetry/data/poetry_line_problem-train-00037-of-00090\n",
      "Updated ACL on gs://qwiklabs-gcp-36677528dc4d202e/poetry/data/poetry_line_problem-train-00038-of-00090\n",
      "Updated ACL on gs://qwiklabs-gcp-36677528dc4d202e/poetry/data/poetry_line_problem-train-00039-of-00090\n",
      "Updated ACL on gs://qwiklabs-gcp-36677528dc4d202e/poetry/data/poetry_line_problem-train-00040-of-00090\n",
      "Updated ACL on gs://qwiklabs-gcp-36677528dc4d202e/poetry/data/poetry_line_problem-train-00042-of-00090\n",
      "Updated ACL on gs://qwiklabs-gcp-36677528dc4d202e/poetry/data/poetry_line_problem-train-00041-of-00090\n",
      "Updated ACL on gs://qwiklabs-gcp-36677528dc4d202e/poetry/data/poetry_line_problem-train-00043-of-00090\n",
      "Updated ACL on gs://qwiklabs-gcp-36677528dc4d202e/poetry/data/poetry_line_problem-train-00044-of-00090\n",
      "Updated ACL on gs://qwiklabs-gcp-36677528dc4d202e/poetry/data/poetry_line_problem-train-00045-of-00090\n",
      "Updated ACL on gs://qwiklabs-gcp-36677528dc4d202e/poetry/data/poetry_line_problem-train-00046-of-00090\n",
      "Updated ACL on gs://qwiklabs-gcp-36677528dc4d202e/poetry/data/poetry_line_problem-train-00048-of-00090\n",
      "Updated ACL on gs://qwiklabs-gcp-36677528dc4d202e/poetry/data/poetry_line_problem-train-00047-of-00090\n",
      "Updated ACL on gs://qwiklabs-gcp-36677528dc4d202e/poetry/data/poetry_line_problem-train-00049-of-00090\n",
      "Updated ACL on gs://qwiklabs-gcp-36677528dc4d202e/poetry/data/poetry_line_problem-train-00050-of-00090\n",
      "Updated ACL on gs://qwiklabs-gcp-36677528dc4d202e/poetry/data/poetry_line_problem-train-00051-of-00090\n",
      "Updated ACL on gs://qwiklabs-gcp-36677528dc4d202e/poetry/data/poetry_line_problem-train-00054-of-00090\n",
      "Updated ACL on gs://qwiklabs-gcp-36677528dc4d202e/poetry/data/poetry_line_problem-train-00052-of-00090\n",
      "Updated ACL on gs://qwiklabs-gcp-36677528dc4d202e/poetry/data/poetry_line_problem-train-00053-of-00090\n",
      "Updated ACL on gs://qwiklabs-gcp-36677528dc4d202e/poetry/data/poetry_line_problem-train-00055-of-00090\n",
      "Updated ACL on gs://qwiklabs-gcp-36677528dc4d202e/poetry/data/poetry_line_problem-train-00056-of-00090\n",
      "Updated ACL on gs://qwiklabs-gcp-36677528dc4d202e/poetry/data/poetry_line_problem-train-00057-of-00090\n",
      "Updated ACL on gs://qwiklabs-gcp-36677528dc4d202e/poetry/data/poetry_line_problem-train-00058-of-00090\n",
      "Updated ACL on gs://qwiklabs-gcp-36677528dc4d202e/poetry/data/poetry_line_problem-train-00059-of-00090\n",
      "Updated ACL on gs://qwiklabs-gcp-36677528dc4d202e/poetry/data/poetry_line_problem-train-00060-of-00090\n",
      "Updated ACL on gs://qwiklabs-gcp-36677528dc4d202e/poetry/data/poetry_line_problem-train-00061-of-00090\n",
      "Updated ACL on gs://qwiklabs-gcp-36677528dc4d202e/poetry/data/poetry_line_problem-train-00062-of-00090\n",
      "Updated ACL on gs://qwiklabs-gcp-36677528dc4d202e/poetry/data/poetry_line_problem-train-00063-of-00090\n",
      "Updated ACL on gs://qwiklabs-gcp-36677528dc4d202e/poetry/data/poetry_line_problem-train-00065-of-00090\n",
      "Updated ACL on gs://qwiklabs-gcp-36677528dc4d202e/poetry/data/poetry_line_problem-train-00066-of-00090\n",
      "Updated ACL on gs://qwiklabs-gcp-36677528dc4d202e/poetry/data/poetry_line_problem-train-00067-of-00090\n",
      "Updated ACL on gs://qwiklabs-gcp-36677528dc4d202e/poetry/data/poetry_line_problem-train-00064-of-00090\n",
      "Updated ACL on gs://qwiklabs-gcp-36677528dc4d202e/poetry/data/poetry_line_problem-train-00068-of-00090\n",
      "Updated ACL on gs://qwiklabs-gcp-36677528dc4d202e/poetry/data/poetry_line_problem-train-00069-of-00090\n",
      "Updated ACL on gs://qwiklabs-gcp-36677528dc4d202e/poetry/data/poetry_line_problem-train-00070-of-00090\n",
      "Updated ACL on gs://qwiklabs-gcp-36677528dc4d202e/poetry/data/poetry_line_problem-train-00072-of-00090\n",
      "Updated ACL on gs://qwiklabs-gcp-36677528dc4d202e/poetry/data/poetry_line_problem-train-00073-of-00090\n",
      "Updated ACL on gs://qwiklabs-gcp-36677528dc4d202e/poetry/data/poetry_line_problem-train-00071-of-00090\n",
      "Updated ACL on gs://qwiklabs-gcp-36677528dc4d202e/poetry/data/poetry_line_problem-train-00074-of-00090\n",
      "Updated ACL on gs://qwiklabs-gcp-36677528dc4d202e/poetry/data/poetry_line_problem-train-00076-of-00090\n",
      "Updated ACL on gs://qwiklabs-gcp-36677528dc4d202e/poetry/data/poetry_line_problem-train-00075-of-00090\n",
      "Updated ACL on gs://qwiklabs-gcp-36677528dc4d202e/poetry/data/poetry_line_problem-train-00078-of-00090\n",
      "Updated ACL on gs://qwiklabs-gcp-36677528dc4d202e/poetry/data/poetry_line_problem-train-00077-of-00090\n",
      "Updated ACL on gs://qwiklabs-gcp-36677528dc4d202e/poetry/data/poetry_line_problem-train-00080-of-00090\n",
      "Updated ACL on gs://qwiklabs-gcp-36677528dc4d202e/poetry/data/poetry_line_problem-train-00079-of-00090\n",
      "Updated ACL on gs://qwiklabs-gcp-36677528dc4d202e/poetry/data/poetry_line_problem-train-00081-of-00090\n",
      "Updated ACL on gs://qwiklabs-gcp-36677528dc4d202e/poetry/data/poetry_line_problem-train-00082-of-00090\n",
      "Updated ACL on gs://qwiklabs-gcp-36677528dc4d202e/poetry/data/poetry_line_problem-train-00083-of-00090\n",
      "Updated ACL on gs://qwiklabs-gcp-36677528dc4d202e/poetry/data/poetry_line_problem-train-00084-of-00090\n",
      "Updated ACL on gs://qwiklabs-gcp-36677528dc4d202e/poetry/data/poetry_line_problem-train-00085-of-00090\n",
      "Updated ACL on gs://qwiklabs-gcp-36677528dc4d202e/poetry/data/poetry_line_problem-train-00086-of-00090\n",
      "Updated ACL on gs://qwiklabs-gcp-36677528dc4d202e/poetry/data/poetry_line_problem-train-00088-of-00090\n",
      "Updated ACL on gs://qwiklabs-gcp-36677528dc4d202e/poetry/data/poetry_line_problem-train-00089-of-00090\n",
      "Updated ACL on gs://qwiklabs-gcp-36677528dc4d202e/poetry/data/poetry_line_problem-train-00087-of-00090\n",
      "Updated ACL on gs://qwiklabs-gcp-36677528dc4d202e/poetry/data/vocab.poetry_line_problem.8192.subwords\n",
      "Updated ACL on gs://qwiklabs-gcp-36677528dc4d202e/\n"
     ]
    }
   ],
   "source": [
    "%%bash\n",
    "PROJECT_ID=$PROJECT\n",
    "AUTH_TOKEN=$(gcloud auth print-access-token)\n",
    "SVC_ACCOUNT=$(curl -X GET -H \"Content-Type: application/json\" \\\n",
    "    -H \"Authorization: Bearer $AUTH_TOKEN\" \\\n",
    "    https://ml.googleapis.com/v1/projects/${PROJECT_ID}:getConfig \\\n",
    "    | python -c \"import json; import sys; response = json.load(sys.stdin); \\\n",
    "    print(response['serviceAccount'])\")\n",
    "\n",
    "echo \"Authorizing the Cloud ML Service account $SVC_ACCOUNT to access files in $BUCKET\"\n",
    "gsutil -m defacl ch -u $SVC_ACCOUNT:R gs://$BUCKET\n",
    "gsutil -m acl ch -u $SVC_ACCOUNT:R -r gs://$BUCKET  # error message (if bucket is empty) can be ignored\n",
    "gsutil -m acl ch -u $SVC_ACCOUNT:W gs://$BUCKET"
   ]
  },
  {
   "cell_type": "markdown",
   "metadata": {},
   "source": [
    "## Train model locally\n",
    "\n",
    "Let's run it locally on a subset of the data to make sure it works."
   ]
  },
  {
   "cell_type": "code",
   "execution_count": 23,
   "metadata": {},
   "outputs": [
    {
     "name": "stderr",
     "output_type": "stream",
     "text": [
      "CommandException: 1 files/objects could not be removed.\n",
      "Copying gs://qwiklabs-gcp-36677528dc4d202e/poetry/data/poetry_line_problem-train-00080-of-00090 [Content-Type=application/octet-stream]...\n",
      "/ [0 files][    0.0 B/ 32.4 KiB]                                                \r",
      "Copying gs://qwiklabs-gcp-36677528dc4d202e/poetry/data/poetry_line_problem-train-00081-of-00090 [Content-Type=application/octet-stream]...\n",
      "/ [0 files][    0.0 B/ 64.8 KiB]                                                \r",
      "Copying gs://qwiklabs-gcp-36677528dc4d202e/poetry/data/poetry_line_problem-train-00082-of-00090 [Content-Type=application/octet-stream]...\n",
      "/ [0 files][    0.0 B/ 97.1 KiB]                                                \r",
      "Copying gs://qwiklabs-gcp-36677528dc4d202e/poetry/data/poetry_line_problem-train-00083-of-00090 [Content-Type=application/octet-stream]...\n",
      "/ [0 files][    0.0 B/129.5 KiB]                                                \r",
      "Copying gs://qwiklabs-gcp-36677528dc4d202e/poetry/data/poetry_line_problem-train-00084-of-00090 [Content-Type=application/octet-stream]...\n",
      "/ [0 files][    0.0 B/161.9 KiB]                                                \r",
      "Copying gs://qwiklabs-gcp-36677528dc4d202e/poetry/data/poetry_line_problem-train-00085-of-00090 [Content-Type=application/octet-stream]...\n",
      "Copying gs://qwiklabs-gcp-36677528dc4d202e/poetry/data/poetry_line_problem-train-00086-of-00090 [Content-Type=application/octet-stream]...\n",
      "Copying gs://qwiklabs-gcp-36677528dc4d202e/poetry/data/poetry_line_problem-train-00087-of-00090 [Content-Type=application/octet-stream]...\n",
      "-\r",
      "- [1/12 files][161.9 KiB/425.2 KiB]  38% Done                                   \r",
      "- [2/12 files][161.9 KiB/425.2 KiB]  38% Done                                   \r",
      "- [3/12 files][161.9 KiB/425.2 KiB]  38% Done                                   \r",
      "- [4/12 files][161.9 KiB/425.2 KiB]  38% Done                                   \r",
      "- [5/12 files][161.9 KiB/425.2 KiB]  38% Done                                   \r",
      "- [5/12 files][161.9 KiB/425.2 KiB]  38% Done                                   \r",
      "- [5/12 files][161.9 KiB/425.2 KiB]  38% Done                                   \r",
      "- [5/12 files][161.9 KiB/425.2 KiB]  38% Done                                   \r",
      "Copying gs://qwiklabs-gcp-36677528dc4d202e/poetry/data/poetry_line_problem-train-00088-of-00090 [Content-Type=application/octet-stream]...\n",
      "- [5/12 files][161.9 KiB/425.2 KiB]  38% Done                                   \r",
      "Copying gs://qwiklabs-gcp-36677528dc4d202e/poetry/data/poetry_line_problem-train-00089-of-00090 [Content-Type=application/octet-stream]...\n",
      "- [5/12 files][161.9 KiB/425.2 KiB]  38% Done                                   \r",
      "Copying gs://qwiklabs-gcp-36677528dc4d202e/poetry/data/poetry_line_problem-dev-00000-of-00010 [Content-Type=application/octet-stream]...\n",
      "Copying gs://qwiklabs-gcp-36677528dc4d202e/poetry/data/vocab.poetry_line_problem.8192.subwords [Content-Type=application/octet-stream]...\n",
      "\\\r",
      "\\ [6/12 files][194.2 KiB/425.2 KiB]  45% Done                                   \r",
      "\\ [6/12 files][194.2 KiB/425.2 KiB]  45% Done                                   \r",
      "\\ [7/12 files][323.8 KiB/425.2 KiB]  76% Done                                   \r",
      "\\ [8/12 files][323.8 KiB/425.2 KiB]  76% Done                                   \r",
      "\\ [9/12 files][323.8 KiB/425.2 KiB]  76% Done                                   \r",
      "\\ [10/12 files][323.8 KiB/425.2 KiB]  76% Done                                  \r",
      "\\ [10/12 files][323.8 KiB/425.2 KiB]  76% Done                                  \r",
      "|\r",
      "| [11/12 files][356.0 KiB/425.2 KiB]  83% Done                                  \r",
      "| [12/12 files][425.2 KiB/425.2 KiB] 100% Done                                  \r\n",
      "Operation completed over 12 objects/425.2 KiB.                                   \n"
     ]
    }
   ],
   "source": [
    "%%bash\n",
    "BASE=gs://${BUCKET}/poetry/data\n",
    "OUTDIR=gs://${BUCKET}/poetry/subset\n",
    "gsutil -m rm -r $OUTDIR\n",
    "gsutil -m cp \\\n",
    "    ${BASE}/${PROBLEM}-train-0008* \\\n",
    "    ${BASE}/${PROBLEM}-dev-00000*  \\\n",
    "    ${BASE}/vocab* \\\n",
    "    $OUTDIR"
   ]
  },
  {
   "cell_type": "markdown",
   "metadata": {},
   "source": [
    "Note: the following will work only if you are running Datalab on a reasonably powerful machine. Don't be alarmed if your process is killed."
   ]
  },
  {
   "cell_type": "code",
   "execution_count": 24,
   "metadata": {},
   "outputs": [
    {
     "name": "stdout",
     "output_type": "stream",
     "text": [
      ":::MLPv0.5.0 transformer 1552895131.927037954 (/usr/local/envs/py2env/bin/t2t-trainer:28) run_start\n",
      ":::MLPv0.5.0 transformer 1552895131.927907944 (/usr/local/envs/py2env/bin/t2t-trainer:28) run_set_random_seed\n",
      ":::MLPv0.5.0 transformer 1552895132.756633043 (/usr/local/envs/py2env/lib/python2.7/site-packages/tensor2tensor/data_generators/problem.py:869) input_order\n",
      ":::MLPv0.5.0 transformer 1552895134.561281919 (/usr/local/envs/py2env/lib/python2.7/site-packages/tensor2tensor/utils/t2t_model.py:213) model_hp_initializer_gain: 1.0\n",
      ":::MLPv0.5.0 transformer 1552895135.019500971 (/usr/local/envs/py2env/lib/python2.7/site-packages/tensor2tensor/models/transformer.py:186) model_hp_layer_postprocess_dropout: 0.6\n",
      ":::MLPv0.5.0 transformer 1552895135.044451952 (/usr/local/envs/py2env/lib/python2.7/site-packages/tensor2tensor/models/transformer.py:101) model_hp_hidden_layers: 2\n",
      ":::MLPv0.5.0 transformer 1552895135.045995951 (/usr/local/envs/py2env/lib/python2.7/site-packages/tensor2tensor/models/transformer.py:101) model_hp_attention_num_heads: 4\n",
      ":::MLPv0.5.0 transformer 1552895135.047359943 (/usr/local/envs/py2env/lib/python2.7/site-packages/tensor2tensor/models/transformer.py:101) model_hp_attention_dropout: 0.6\n",
      ":::MLPv0.5.0 transformer 1552895135.418438911 (/usr/local/envs/py2env/lib/python2.7/site-packages/tensor2tensor/layers/transformer_layers.py:182) model_hp_ffn_filter: {\"filter_size\": 512, \"activation\": \"relu\", \"use_bias\": \"True\"}\n",
      ":::MLPv0.5.0 transformer 1552895135.419912100 (/usr/local/envs/py2env/lib/python2.7/site-packages/tensor2tensor/layers/transformer_layers.py:182) model_hp_ffn_dense: {\"use_bias\": \"True\", \"hidden_size\": 128}\n",
      ":::MLPv0.5.0 transformer 1552895135.421242952 (/usr/local/envs/py2env/lib/python2.7/site-packages/tensor2tensor/layers/transformer_layers.py:182) model_hp_relu_dropout: 0.1\n",
      ":::MLPv0.5.0 transformer 1552895136.146784067 (/usr/local/envs/py2env/lib/python2.7/site-packages/tensor2tensor/layers/transformer_layers.py:182) model_hp_ffn_filter: {\"filter_size\": 512, \"activation\": \"relu\", \"use_bias\": \"True\"}\n",
      ":::MLPv0.5.0 transformer 1552895136.148277044 (/usr/local/envs/py2env/lib/python2.7/site-packages/tensor2tensor/layers/transformer_layers.py:182) model_hp_ffn_dense: {\"use_bias\": \"True\", \"hidden_size\": 128}\n",
      ":::MLPv0.5.0 transformer 1552895136.149610043 (/usr/local/envs/py2env/lib/python2.7/site-packages/tensor2tensor/layers/transformer_layers.py:182) model_hp_relu_dropout: 0.1\n",
      ":::MLPv0.5.0 transformer 1552895136.297349930 (/usr/local/envs/py2env/lib/python2.7/site-packages/tensor2tensor/models/transformer.py:101) model_hp_norm: {\"hidden_size\": 128}\n",
      ":::MLPv0.5.0 transformer 1552895136.419972897 (/usr/local/envs/py2env/lib/python2.7/site-packages/tensor2tensor/models/transformer.py:202) model_hp_layer_postprocess_dropout: 0.6\n",
      ":::MLPv0.5.0 transformer 1552895136.430557013 (/usr/local/envs/py2env/lib/python2.7/site-packages/tensor2tensor/models/transformer.py:153) model_hp_hidden_layers: 2\n",
      ":::MLPv0.5.0 transformer 1552895136.431948900 (/usr/local/envs/py2env/lib/python2.7/site-packages/tensor2tensor/models/transformer.py:153) model_hp_attention_num_heads: 4\n",
      ":::MLPv0.5.0 transformer 1552895136.433202028 (/usr/local/envs/py2env/lib/python2.7/site-packages/tensor2tensor/models/transformer.py:153) model_hp_attention_dropout: 0.6\n",
      ":::MLPv0.5.0 transformer 1552895137.112973928 (/usr/local/envs/py2env/lib/python2.7/site-packages/tensor2tensor/models/transformer.py:1290) model_hp_ffn_filter: {\"filter_size\": 512, \"activation\": \"relu\", \"use_bias\": \"True\"}\n",
      ":::MLPv0.5.0 transformer 1552895137.114445925 (/usr/local/envs/py2env/lib/python2.7/site-packages/tensor2tensor/models/transformer.py:1290) model_hp_ffn_dense: {\"use_bias\": \"True\", \"hidden_size\": 128}\n",
      ":::MLPv0.5.0 transformer 1552895137.115734100 (/usr/local/envs/py2env/lib/python2.7/site-packages/tensor2tensor/models/transformer.py:1290) model_hp_relu_dropout: 0.1\n",
      ":::MLPv0.5.0 transformer 1552895138.161696911 (/usr/local/envs/py2env/lib/python2.7/site-packages/tensor2tensor/models/transformer.py:1290) model_hp_ffn_filter: {\"filter_size\": 512, \"activation\": \"relu\", \"use_bias\": \"True\"}\n",
      ":::MLPv0.5.0 transformer 1552895138.163171053 (/usr/local/envs/py2env/lib/python2.7/site-packages/tensor2tensor/models/transformer.py:1290) model_hp_ffn_dense: {\"use_bias\": \"True\", \"hidden_size\": 128}\n",
      ":::MLPv0.5.0 transformer 1552895138.164499044 (/usr/local/envs/py2env/lib/python2.7/site-packages/tensor2tensor/models/transformer.py:1290) model_hp_relu_dropout: 0.1\n",
      ":::MLPv0.5.0 transformer 1552895138.290337086 (/usr/local/envs/py2env/lib/python2.7/site-packages/tensor2tensor/models/transformer.py:153) model_hp_norm: {\"hidden_size\": 128}\n",
      ":::MLPv0.5.0 transformer 1552895138.486736059 (/usr/local/envs/py2env/lib/python2.7/site-packages/tensor2tensor/utils/optimize.py:45) opt_name: \"Adam\"\n",
      ":::MLPv0.5.0 transformer 1552895138.487838030 (/usr/local/envs/py2env/lib/python2.7/site-packages/tensor2tensor/utils/optimize.py:45) opt_hp_Adam_beta1: 0.9\n",
      ":::MLPv0.5.0 transformer 1552895138.488898993 (/usr/local/envs/py2env/lib/python2.7/site-packages/tensor2tensor/utils/optimize.py:45) opt_hp_Adam_beta2: 0.997\n",
      ":::MLPv0.5.0 transformer 1552895138.489995956 (/usr/local/envs/py2env/lib/python2.7/site-packages/tensor2tensor/utils/optimize.py:45) opt_hp_Adam_epsilon: 1e-09\n",
      ":::MLPv0.5.0 transformer 1552895257.707860947 (/usr/local/envs/py2env/lib/python2.7/site-packages/tensor2tensor/utils/t2t_model.py:213) model_hp_initializer_gain: 1.0\n",
      ":::MLPv0.5.0 transformer 1552895258.089337111 (/usr/local/envs/py2env/lib/python2.7/site-packages/tensor2tensor/models/transformer.py:186) model_hp_layer_postprocess_dropout: 0.0\n",
      ":::MLPv0.5.0 transformer 1552895258.091588020 (/usr/local/envs/py2env/lib/python2.7/site-packages/tensor2tensor/models/transformer.py:101) model_hp_hidden_layers: 2\n",
      ":::MLPv0.5.0 transformer 1552895258.093324900 (/usr/local/envs/py2env/lib/python2.7/site-packages/tensor2tensor/models/transformer.py:101) model_hp_attention_num_heads: 4\n",
      ":::MLPv0.5.0 transformer 1552895258.095002890 (/usr/local/envs/py2env/lib/python2.7/site-packages/tensor2tensor/models/transformer.py:101) model_hp_attention_dropout: 0.0\n",
      ":::MLPv0.5.0 transformer 1552895258.464665890 (/usr/local/envs/py2env/lib/python2.7/site-packages/tensor2tensor/layers/transformer_layers.py:182) model_hp_ffn_filter: {\"filter_size\": 512, \"activation\": \"relu\", \"use_bias\": \"True\"}\n",
      ":::MLPv0.5.0 transformer 1552895258.466574907 (/usr/local/envs/py2env/lib/python2.7/site-packages/tensor2tensor/layers/transformer_layers.py:182) model_hp_ffn_dense: {\"use_bias\": \"True\", \"hidden_size\": 128}\n",
      ":::MLPv0.5.0 transformer 1552895258.468313932 (/usr/local/envs/py2env/lib/python2.7/site-packages/tensor2tensor/layers/transformer_layers.py:182) model_hp_relu_dropout: 0.0\n",
      ":::MLPv0.5.0 transformer 1552895259.373850107 (/usr/local/envs/py2env/lib/python2.7/site-packages/tensor2tensor/layers/transformer_layers.py:182) model_hp_ffn_filter: {\"filter_size\": 512, \"activation\": \"relu\", \"use_bias\": \"True\"}\n",
      ":::MLPv0.5.0 transformer 1552895259.375730038 (/usr/local/envs/py2env/lib/python2.7/site-packages/tensor2tensor/layers/transformer_layers.py:182) model_hp_ffn_dense: {\"use_bias\": \"True\", \"hidden_size\": 128}\n",
      ":::MLPv0.5.0 transformer 1552895259.377434969 (/usr/local/envs/py2env/lib/python2.7/site-packages/tensor2tensor/layers/transformer_layers.py:182) model_hp_relu_dropout: 0.0\n",
      ":::MLPv0.5.0 transformer 1552895259.504076958 (/usr/local/envs/py2env/lib/python2.7/site-packages/tensor2tensor/models/transformer.py:101) model_hp_norm: {\"hidden_size\": 128}\n",
      ":::MLPv0.5.0 transformer 1552895259.620898962 (/usr/local/envs/py2env/lib/python2.7/site-packages/tensor2tensor/models/transformer.py:202) model_hp_layer_postprocess_dropout: 0.0\n",
      ":::MLPv0.5.0 transformer 1552895259.622891903 (/usr/local/envs/py2env/lib/python2.7/site-packages/tensor2tensor/models/transformer.py:153) model_hp_hidden_layers: 2\n",
      ":::MLPv0.5.0 transformer 1552895259.624548912 (/usr/local/envs/py2env/lib/python2.7/site-packages/tensor2tensor/models/transformer.py:153) model_hp_attention_num_heads: 4\n",
      ":::MLPv0.5.0 transformer 1552895259.626162052 (/usr/local/envs/py2env/lib/python2.7/site-packages/tensor2tensor/models/transformer.py:153) model_hp_attention_dropout: 0.0\n",
      ":::MLPv0.5.0 transformer 1552895260.258492947 (/usr/local/envs/py2env/lib/python2.7/site-packages/tensor2tensor/models/transformer.py:1290) model_hp_ffn_filter: {\"filter_size\": 512, \"activation\": \"relu\", \"use_bias\": \"True\"}\n",
      ":::MLPv0.5.0 transformer 1552895260.260397911 (/usr/local/envs/py2env/lib/python2.7/site-packages/tensor2tensor/models/transformer.py:1290) model_hp_ffn_dense: {\"use_bias\": \"True\", \"hidden_size\": 128}\n",
      ":::MLPv0.5.0 transformer 1552895260.262176037 (/usr/local/envs/py2env/lib/python2.7/site-packages/tensor2tensor/models/transformer.py:1290) model_hp_relu_dropout: 0.0\n",
      ":::MLPv0.5.0 transformer 1552895261.050591946 (/usr/local/envs/py2env/lib/python2.7/site-packages/tensor2tensor/models/transformer.py:1290) model_hp_ffn_filter: {\"filter_size\": 512, \"activation\": \"relu\", \"use_bias\": \"True\"}\n",
      ":::MLPv0.5.0 transformer 1552895261.052520037 (/usr/local/envs/py2env/lib/python2.7/site-packages/tensor2tensor/models/transformer.py:1290) model_hp_ffn_dense: {\"use_bias\": \"True\", \"hidden_size\": 128}\n",
      ":::MLPv0.5.0 transformer 1552895261.054243088 (/usr/local/envs/py2env/lib/python2.7/site-packages/tensor2tensor/models/transformer.py:1290) model_hp_relu_dropout: 0.0\n",
      ":::MLPv0.5.0 transformer 1552895261.169596910 (/usr/local/envs/py2env/lib/python2.7/site-packages/tensor2tensor/models/transformer.py:153) model_hp_norm: {\"hidden_size\": 128}\n",
      ":::MLPv0.5.0 transformer 1552895271.889769077 (/usr/local/envs/py2env/lib/python2.7/site-packages/tensor2tensor/utils/t2t_model.py:213) model_hp_initializer_gain: 1.0\n",
      ":::MLPv0.5.0 transformer 1552895272.256840944 (/usr/local/envs/py2env/lib/python2.7/site-packages/tensor2tensor/models/transformer.py:186) model_hp_layer_postprocess_dropout: 0.0\n",
      ":::MLPv0.5.0 transformer 1552895272.258392096 (/usr/local/envs/py2env/lib/python2.7/site-packages/tensor2tensor/models/transformer.py:101) model_hp_hidden_layers: 2\n",
      ":::MLPv0.5.0 transformer 1552895272.259630919 (/usr/local/envs/py2env/lib/python2.7/site-packages/tensor2tensor/models/transformer.py:101) model_hp_attention_num_heads: 4\n",
      ":::MLPv0.5.0 transformer 1552895272.260806084 (/usr/local/envs/py2env/lib/python2.7/site-packages/tensor2tensor/models/transformer.py:101) model_hp_attention_dropout: 0.0\n",
      ":::MLPv0.5.0 transformer 1552895272.602667093 (/usr/local/envs/py2env/lib/python2.7/site-packages/tensor2tensor/layers/transformer_layers.py:182) model_hp_ffn_filter: {\"filter_size\": 512, \"activation\": \"relu\", \"use_bias\": \"True\"}\n",
      ":::MLPv0.5.0 transformer 1552895272.604084015 (/usr/local/envs/py2env/lib/python2.7/site-packages/tensor2tensor/layers/transformer_layers.py:182) model_hp_ffn_dense: {\"use_bias\": \"True\", \"hidden_size\": 128}\n",
      ":::MLPv0.5.0 transformer 1552895272.605319023 (/usr/local/envs/py2env/lib/python2.7/site-packages/tensor2tensor/layers/transformer_layers.py:182) model_hp_relu_dropout: 0.0\n",
      ":::MLPv0.5.0 transformer 1552895273.064430952 (/usr/local/envs/py2env/lib/python2.7/site-packages/tensor2tensor/layers/transformer_layers.py:182) model_hp_ffn_filter: {\"filter_size\": 512, \"activation\": \"relu\", \"use_bias\": \"True\"}\n",
      ":::MLPv0.5.0 transformer 1552895273.065829039 (/usr/local/envs/py2env/lib/python2.7/site-packages/tensor2tensor/layers/transformer_layers.py:182) model_hp_ffn_dense: {\"use_bias\": \"True\", \"hidden_size\": 128}\n",
      ":::MLPv0.5.0 transformer 1552895273.067040920 (/usr/local/envs/py2env/lib/python2.7/site-packages/tensor2tensor/layers/transformer_layers.py:182) model_hp_relu_dropout: 0.0\n",
      ":::MLPv0.5.0 transformer 1552895273.192317009 (/usr/local/envs/py2env/lib/python2.7/site-packages/tensor2tensor/models/transformer.py:101) model_hp_norm: {\"hidden_size\": 128}\n",
      ":::MLPv0.5.0 transformer 1552895273.306257010 (/usr/local/envs/py2env/lib/python2.7/site-packages/tensor2tensor/models/transformer.py:202) model_hp_layer_postprocess_dropout: 0.0\n",
      ":::MLPv0.5.0 transformer 1552895273.307760954 (/usr/local/envs/py2env/lib/python2.7/site-packages/tensor2tensor/models/transformer.py:153) model_hp_hidden_layers: 2\n",
      ":::MLPv0.5.0 transformer 1552895273.308933973 (/usr/local/envs/py2env/lib/python2.7/site-packages/tensor2tensor/models/transformer.py:153) model_hp_attention_num_heads: 4\n",
      ":::MLPv0.5.0 transformer 1552895273.310060024 (/usr/local/envs/py2env/lib/python2.7/site-packages/tensor2tensor/models/transformer.py:153) model_hp_attention_dropout: 0.0\n",
      ":::MLPv0.5.0 transformer 1552895273.942902088 (/usr/local/envs/py2env/lib/python2.7/site-packages/tensor2tensor/models/transformer.py:1290) model_hp_ffn_filter: {\"filter_size\": 512, \"activation\": \"relu\", \"use_bias\": \"True\"}\n",
      ":::MLPv0.5.0 transformer 1552895273.944247961 (/usr/local/envs/py2env/lib/python2.7/site-packages/tensor2tensor/models/transformer.py:1290) model_hp_ffn_dense: {\"use_bias\": \"True\", \"hidden_size\": 128}\n",
      ":::MLPv0.5.0 transformer 1552895273.945440054 (/usr/local/envs/py2env/lib/python2.7/site-packages/tensor2tensor/models/transformer.py:1290) model_hp_relu_dropout: 0.0\n",
      ":::MLPv0.5.0 transformer 1552895275.640496969 (/usr/local/envs/py2env/lib/python2.7/site-packages/tensor2tensor/models/transformer.py:1290) model_hp_ffn_filter: {\"filter_size\": 512, \"activation\": \"relu\", \"use_bias\": \"True\"}\n",
      ":::MLPv0.5.0 transformer 1552895275.641866922 (/usr/local/envs/py2env/lib/python2.7/site-packages/tensor2tensor/models/transformer.py:1290) model_hp_ffn_dense: {\"use_bias\": \"True\", \"hidden_size\": 128}\n",
      ":::MLPv0.5.0 transformer 1552895275.643069029 (/usr/local/envs/py2env/lib/python2.7/site-packages/tensor2tensor/models/transformer.py:1290) model_hp_relu_dropout: 0.0\n",
      ":::MLPv0.5.0 transformer 1552895275.755984068 (/usr/local/envs/py2env/lib/python2.7/site-packages/tensor2tensor/models/transformer.py:153) model_hp_norm: {\"hidden_size\": 128}\n",
      ":::MLPv0.5.0 transformer 1552895283.908411980 (/usr/local/envs/py2env/bin/t2t-trainer:28) run_final\n"
     ]
    },
    {
     "name": "stderr",
     "output_type": "stream",
     "text": [
      "/usr/local/envs/py2env/lib/python2.7/site-packages/h5py/__init__.py:36: FutureWarning: Conversion of the second argument of issubdtype from `float` to `np.floating` is deprecated. In future, it will be treated as `np.float64 == np.dtype(float).type`.\n",
      "  from ._conv import register_converters as _register_converters\n",
      "INFO:tensorflow:Importing user module trainer from path /content/datalab/gcp-ml-02-advanced-ml-with-tf-on-gcp/04-sequence-models-tensorflow-gcp/poetry\n",
      "WARNING:tensorflow:From /usr/local/envs/py2env/lib/python2.7/site-packages/tensor2tensor/utils/trainer_lib.py:230: __init__ (from tensorflow.contrib.learn.python.learn.estimators.run_config) is deprecated and will be removed in a future version.\n",
      "Instructions for updating:\n",
      "When switching to tf.estimator.Estimator, use tf.estimator.RunConfig instead.\n",
      "INFO:tensorflow:Configuring DataParallelism to replicate the model.\n",
      "INFO:tensorflow:schedule=continuous_train_and_eval\n",
      "INFO:tensorflow:worker_gpu=1\n",
      "INFO:tensorflow:sync=False\n",
      "WARNING:tensorflow:Schedule=continuous_train_and_eval. Assuming that training is running on a single machine.\n",
      "INFO:tensorflow:datashard_devices: ['gpu:0']\n",
      "INFO:tensorflow:caching_devices: None\n",
      "INFO:tensorflow:ps_devices: ['gpu:0']\n",
      "INFO:tensorflow:Using config: {'_save_checkpoints_secs': None, '_keep_checkpoint_max': 20, '_task_type': None, '_cluster_spec': <tensorflow.python.training.server_lib.ClusterSpec object at 0x7f04a8e1d990>, '_keep_checkpoint_every_n_hours': 10000, '_session_config': gpu_options {\n",
      "  per_process_gpu_memory_fraction: 0.95\n",
      "}\n",
      "allow_soft_placement: true\n",
      "graph_options {\n",
      "  optimizer_options {\n",
      "  }\n",
      "}\n",
      ", 'use_tpu': False, '_tf_random_seed': None, '_device_fn': None, '_num_worker_replicas': 0, '_task_id': 0, '_log_step_count_steps': 100, '_evaluation_master': '', 't2t_device_info': {'num_async_replicas': 1}, '_num_ps_replicas': 0, '_train_distribute': None, '_is_chief': True, '_tf_config': gpu_options {\n",
      "  per_process_gpu_memory_fraction: 1.0\n",
      "}\n",
      ", '_save_checkpoints_steps': 1000, '_environment': 'local', '_master': '', '_model_dir': './trained_model', 'data_parallelism': <tensor2tensor.utils.expert_utils.Parallelism object at 0x7f04a8e1d9d0>, '_save_summary_steps': 100}\n",
      "WARNING:tensorflow:Estimator's model_fn (<function wrapping_model_fn at 0x7f04a8e1bd70>) includes params argument, but params are not passed to Estimator.\n",
      "WARNING:tensorflow:ValidationMonitor only works with --schedule=train_and_evaluate\n",
      "INFO:tensorflow:Running training and evaluation locally (non-distributed).\n",
      "INFO:tensorflow:Start train and evaluate loop. The evaluate will happen after every checkpoint. Checkpoint frequency is determined based on RunConfig arguments: save_checkpoints_steps 1000 or save_checkpoints_secs None.\n",
      "INFO:tensorflow:Reading data files from gs://qwiklabs-gcp-36677528dc4d202e/poetry/subset/poetry_line_problem-train*\n",
      "INFO:tensorflow:partition: 0 num_data_files: 10\n",
      "INFO:tensorflow:Calling model_fn.\n",
      "INFO:tensorflow:Setting T2TModel mode to 'train'\n",
      "INFO:tensorflow:Using variable initializer: uniform_unit_scaling\n",
      "INFO:tensorflow:Transforming feature 'inputs' with symbol_modality_8425_128.bottom\n",
      "WARNING:tensorflow:From /usr/local/envs/py2env/lib/python2.7/site-packages/tensorflow/python/framework/function.py:986: calling create_op (from tensorflow.python.framework.ops) with compute_shapes is deprecated and will be removed in a future version.\n",
      "Instructions for updating:\n",
      "Shapes are always computed; don't use the compute_shapes as it has no effect.\n",
      "INFO:tensorflow:Transforming feature 'targets' with symbol_modality_8425_128.targets_bottom\n",
      "INFO:tensorflow:Building model body\n",
      "INFO:tensorflow:Transforming body output with symbol_modality_8425_128.top\n",
      "INFO:tensorflow:Base learning rate: 2.000000\n",
      "INFO:tensorflow:Trainable Variables Total size: 2005632\n",
      "INFO:tensorflow:Using optimizer Adam\n",
      "/usr/local/envs/py2env/lib/python2.7/site-packages/tensorflow/python/ops/gradients_impl.py:108: UserWarning: Converting sparse IndexedSlices to a dense Tensor of unknown shape. This may consume a large amount of memory.\n",
      "  \"Converting sparse IndexedSlices to a dense Tensor of unknown shape. \"\n",
      "INFO:tensorflow:Done calling model_fn.\n",
      "INFO:tensorflow:Create CheckpointSaverHook.\n",
      "INFO:tensorflow:Graph was finalized.\n",
      "INFO:tensorflow:Running local_init_op.\n",
      "INFO:tensorflow:Done running local_init_op.\n",
      "INFO:tensorflow:Saving checkpoints for 0 into ./trained_model/model.ckpt.\n",
      "2019-03-18 07:46:13.492857: I tensorflow/core/kernels/data/shuffle_dataset_op.cc:97] Filling up shuffle buffer (this may take a while): 122 of 512\n",
      "2019-03-18 07:46:23.382560: I tensorflow/core/kernels/data/shuffle_dataset_op.cc:97] Filling up shuffle buffer (this may take a while): 265 of 512\n",
      "2019-03-18 07:46:33.371027: I tensorflow/core/kernels/data/shuffle_dataset_op.cc:97] Filling up shuffle buffer (this may take a while): 416 of 512\n",
      "2019-03-18 07:46:39.891217: I tensorflow/core/kernels/data/shuffle_dataset_op.cc:135] Shuffle buffer filled.\n",
      "2019-03-18 07:46:41.666068: W tensorflow/core/framework/allocator.cc:108] Allocation of 118893600 exceeds 10% of system memory.\n",
      "2019-03-18 07:46:42.178342: W tensorflow/core/framework/allocator.cc:108] Allocation of 118893600 exceeds 10% of system memory.\n",
      "INFO:tensorflow:loss = 8.300942, step = 1\n",
      "2019-03-18 07:46:53.224610: W tensorflow/core/framework/allocator.cc:108] Allocation of 113232000 exceeds 10% of system memory.\n",
      "2019-03-18 07:46:53.642618: W tensorflow/core/framework/allocator.cc:108] Allocation of 113232000 exceeds 10% of system memory.\n",
      "2019-03-18 07:46:58.127735: W tensorflow/core/framework/allocator.cc:108] Allocation of 99078000 exceeds 10% of system memory.\n",
      "INFO:tensorflow:Saving checkpoints for 10 into ./trained_model/model.ckpt.\n",
      "INFO:tensorflow:Reading data files from gs://qwiklabs-gcp-36677528dc4d202e/poetry/subset/poetry_line_problem-dev*\n",
      "INFO:tensorflow:partition: 0 num_data_files: 1\n",
      "INFO:tensorflow:Calling model_fn.\n",
      "INFO:tensorflow:Setting T2TModel mode to 'eval'\n",
      "INFO:tensorflow:Setting hparams.layer_prepostprocess_dropout to 0.0\n",
      "INFO:tensorflow:Setting hparams.symbol_dropout to 0.0\n",
      "INFO:tensorflow:Setting hparams.label_smoothing to 0.0\n",
      "INFO:tensorflow:Setting hparams.attention_dropout to 0.0\n",
      "INFO:tensorflow:Setting hparams.dropout to 0.0\n",
      "INFO:tensorflow:Setting hparams.relu_dropout to 0.0\n",
      "INFO:tensorflow:Using variable initializer: uniform_unit_scaling\n",
      "INFO:tensorflow:Transforming feature 'inputs' with symbol_modality_8425_128.bottom\n",
      "INFO:tensorflow:Transforming feature 'targets' with symbol_modality_8425_128.targets_bottom\n",
      "INFO:tensorflow:Building model body\n",
      "INFO:tensorflow:Transforming body output with symbol_modality_8425_128.top\n",
      "INFO:tensorflow:Done calling model_fn.\n",
      "INFO:tensorflow:Starting evaluation at 2019-03-18-07:47:42\n",
      "INFO:tensorflow:Graph was finalized.\n",
      "INFO:tensorflow:Restoring parameters from ./trained_model/model.ckpt-10\n",
      "INFO:tensorflow:Running local_init_op.\n",
      "INFO:tensorflow:Done running local_init_op.\n",
      "INFO:tensorflow:Finished evaluation at 2019-03-18-07:47:49\n",
      "INFO:tensorflow:Saving dict for global step 10: global_step = 10, loss = 9.459803, metrics-poetry_line_problem/targets/accuracy = 0.0013612851, metrics-poetry_line_problem/targets/accuracy_per_sequence = 0.0, metrics-poetry_line_problem/targets/accuracy_top5 = 0.0024503132, metrics-poetry_line_problem/targets/approx_bleu_score = 0.74583924, metrics-poetry_line_problem/targets/neg_log_perplexity = -9.495169, metrics-poetry_line_problem/targets/rouge_2_fscore = 0.7827965, metrics-poetry_line_problem/targets/rouge_L_fscore = 0.81350553\n",
      "INFO:tensorflow:Saving 'checkpoint_path' summary for global step 10: ./trained_model/model.ckpt-10\n",
      "INFO:tensorflow:Loss for final step: 8.289749.\n",
      "INFO:tensorflow:Reading data files from gs://qwiklabs-gcp-36677528dc4d202e/poetry/subset/poetry_line_problem-dev*\n",
      "INFO:tensorflow:partition: 0 num_data_files: 1\n",
      "INFO:tensorflow:Calling model_fn.\n",
      "INFO:tensorflow:Setting T2TModel mode to 'eval'\n",
      "INFO:tensorflow:Setting hparams.layer_prepostprocess_dropout to 0.0\n",
      "INFO:tensorflow:Setting hparams.symbol_dropout to 0.0\n",
      "INFO:tensorflow:Setting hparams.label_smoothing to 0.0\n",
      "INFO:tensorflow:Setting hparams.attention_dropout to 0.0\n",
      "INFO:tensorflow:Setting hparams.dropout to 0.0\n",
      "INFO:tensorflow:Setting hparams.relu_dropout to 0.0\n",
      "INFO:tensorflow:Using variable initializer: uniform_unit_scaling\n",
      "INFO:tensorflow:Transforming feature 'inputs' with symbol_modality_8425_128.bottom\n",
      "INFO:tensorflow:Transforming feature 'targets' with symbol_modality_8425_128.targets_bottom\n",
      "INFO:tensorflow:Building model body\n",
      "INFO:tensorflow:Transforming body output with symbol_modality_8425_128.top\n",
      "INFO:tensorflow:Done calling model_fn.\n",
      "INFO:tensorflow:Starting evaluation at 2019-03-18-07:47:56\n",
      "INFO:tensorflow:Graph was finalized.\n",
      "INFO:tensorflow:Restoring parameters from ./trained_model/model.ckpt-10\n",
      "INFO:tensorflow:Running local_init_op.\n",
      "INFO:tensorflow:Done running local_init_op.\n",
      "INFO:tensorflow:Finished evaluation at 2019-03-18-07:48:03\n",
      "INFO:tensorflow:Saving dict for global step 10: global_step = 10, loss = 9.459803, metrics-poetry_line_problem/targets/accuracy = 0.0013612851, metrics-poetry_line_problem/targets/accuracy_per_sequence = 0.0, metrics-poetry_line_problem/targets/accuracy_top5 = 0.0024503132, metrics-poetry_line_problem/targets/approx_bleu_score = 0.74583924, metrics-poetry_line_problem/targets/neg_log_perplexity = -9.495169, metrics-poetry_line_problem/targets/rouge_2_fscore = 0.7827965, metrics-poetry_line_problem/targets/rouge_L_fscore = 0.81350553\n",
      "INFO:tensorflow:Saving 'checkpoint_path' summary for global step 10: ./trained_model/model.ckpt-10\n"
     ]
    }
   ],
   "source": [
    "%%bash\n",
    "DATA_DIR=gs://${BUCKET}/poetry/subset\n",
    "OUTDIR=./trained_model\n",
    "rm -rf $OUTDIR\n",
    "t2t-trainer \\\n",
    "  --data_dir=gs://${BUCKET}/poetry/subset \\\n",
    "  --t2t_usr_dir=./poetry/trainer \\\n",
    "  --problem=$PROBLEM \\\n",
    "  --model=transformer \\\n",
    "  --hparams_set=transformer_poetry \\\n",
    "  --output_dir=$OUTDIR --job-dir=$OUTDIR --train_steps=10"
   ]
  },
  {
   "cell_type": "markdown",
   "metadata": {},
   "source": [
    "## Train on Cloud ML Engine\n",
    "\n",
    "tensor2tensor has a convenient --cloud_mlengine option to kick off the training on the managed service.\n",
    "It uses the [Python API](https://cloud.google.com/ml-engine/docs/training-jobs) mentioned in the Cloud ML Engine docs, rather than requiring you to use gcloud to submit the job.\n",
    "<p>\n",
    "Note: your project needs P100 quota in the region.\n",
    "<p>\n",
    "The echo is because t2t-trainer asks you to confirm before submitting the job to the cloud."
   ]
  },
  {
   "cell_type": "code",
   "execution_count": 25,
   "metadata": {},
   "outputs": [
    {
     "name": "stdout",
     "output_type": "stream",
     "text": [
      "gs://qwiklabs-gcp-36677528dc4d202e/poetry/model europe-west1 poetry_190318_074920\n",
      ":::MLPv0.5.0 transformer 1552895369.110341072 (/usr/local/envs/py2env/bin/t2t-trainer:28) run_start\n",
      ":::MLPv0.5.0 transformer 1552895369.111148119 (/usr/local/envs/py2env/bin/t2t-trainer:28) run_set_random_seed\n",
      "Confirm (Y/n)? > "
     ]
    },
    {
     "name": "stderr",
     "output_type": "stream",
     "text": [
      "CommandException: 1 files/objects could not be removed.\n",
      "/usr/local/envs/py2env/lib/python2.7/site-packages/h5py/__init__.py:36: FutureWarning: Conversion of the second argument of issubdtype from `float` to `np.floating` is deprecated. In future, it will be treated as `np.float64 == np.dtype(float).type`.\n",
      "  from ._conv import register_converters as _register_converters\n",
      "INFO:tensorflow:Importing user module trainer from path /content/datalab/gcp-ml-02-advanced-ml-with-tf-on-gcp/04-sequence-models-tensorflow-gcp/poetry\n",
      "INFO:tensorflow:Launching job transformer_poetry_line_problem_t2t_20190318_074929 with ML Engine spec:\n",
      "{'trainingInput': {'jobDir': 'gs://qwiklabs-gcp-36677528dc4d202e/poetry/model', 'runtimeVersion': '1.9', 'scaleTier': 'CUSTOM', 'masterType': 'standard_p100', 'region': u'europe-west1', 'args': ['--eval_steps=100', '--worker_gpu_memory_fraction=0.95', '--ps_job=/job:ps', '--decode_hparams=', '--sync=False', '--optionally_use_dist_strat=False', '--eval_use_test_set=False', '--worker_id=0', '--eval_early_stopping_metric_minimize=True', '--worker_replicas=1', '--train_steps=7500', '--cloud_tpu_name=None-tpu', '--disable_ffmpeg=False', '--registry_help=False', '--eval_throttle_seconds=600', '--worker_gpu=1', '--keep_checkpoint_max=20', '--save_checkpoints_secs=0', '--gpu_order=', '--log_step_count_steps=100', '--master=', '--generate_data=False', '--intra_op_parallelism_threads=0', '--enable_graph_rewriter=False', '--export_saved_model=False', '--output_dir=gs://qwiklabs-gcp-36677528dc4d202e/poetry/model', '--profile=False', '--std_server_protocol=grpc', '--tmp_dir=/tmp/t2t_datagen', '--schedule=continuous_train_and_eval', '--inter_op_parallelism_threads=0', '--iterations_per_loop=100', '--hparams=', '--use_tpu=False', '--eval_early_stopping_metric_delta=0.1', '--eval_run_autoregressive=False', '--tfdbg=False', '--local_eval_frequency=1000', '--data_dir=gs://qwiklabs-gcp-36677528dc4d202e/poetry/subset', '--ps_replicas=0', '--use_tpu_estimator=False', '--parsing_path=', '--problem=poetry_line_problem', '--log_device_placement=False', '--hparams_set=transformer_poetry', '--dbgprofile=False', '--timit_paths=', '--ps_gpu=0', '--tpu_num_shards=8', '--locally_shard_to_cpu=False', '--xla_compile=False', '--worker_job=/job:localhost', '--model=transformer', '--keep_checkpoint_every_n_hours=10000', '--eval_early_stopping_metric=loss'], 'pythonModule': 'tensor2tensor.bin.t2t_trainer', 'pythonVersion': '2.7'}, 'jobId': 'transformer_poetry_line_problem_t2t_20190318_074929'}\n",
      "INFO:tensorflow:Tarring and pushing local Tensor2Tensor package.\n",
      "INFO:tensorflow:Found PyPI T2T installation. Launching tensor2tensor==1.10.0\n",
      "Copying file:///tmp/tensor2tensor_tmp.tar.gz [Content-Type=application/x-tar]...\n",
      "/ [0 files][    0.0 B/  272.0 B]                                                \r",
      "/ [1 files][  272.0 B/  272.0 B]                                                \r\n",
      "Operation completed over 1 objects/272.0 B.                                      \n",
      "INFO:tensorflow:Tarring and pushing t2t_usr_dir.\n",
      "Copying file:///tmp/t2t_usr_container.tar.gz [Content-Type=application/x-tar]...\n",
      "/ [0 files][    0.0 B/  2.6 KiB]                                                \r",
      "/ [1 files][  2.6 KiB/  2.6 KiB]                                                \r\n",
      "Operation completed over 1 objects/2.6 KiB.                                      \n",
      "INFO:tensorflow:Launched transformer_poetry_line_problem_t2t_20190318_074929. See console to track: https://console.cloud.google.com/mlengine/jobs/.\n"
     ]
    }
   ],
   "source": [
    "%%bash\n",
    "GPU=\"--train_steps=7500 --cloud_mlengine --worker_gpu=1 --hparams_set=transformer_poetry\"\n",
    "\n",
    "DATADIR=gs://${BUCKET}/poetry/data\n",
    "OUTDIR=gs://${BUCKET}/poetry/model\n",
    "JOBNAME=poetry_$(date -u +%y%m%d_%H%M%S)\n",
    "echo $OUTDIR $REGION $JOBNAME\n",
    "gsutil -m rm -rf $OUTDIR\n",
    "echo \"'Y'\" | t2t-trainer \\\n",
    "  --data_dir=gs://${BUCKET}/poetry/subset \\\n",
    "  --t2t_usr_dir=./poetry/trainer \\\n",
    "  --problem=$PROBLEM \\\n",
    "  --model=transformer \\\n",
    "  --output_dir=$OUTDIR \\\n",
    "  ${GPU}"
   ]
  },
  {
   "cell_type": "markdown",
   "metadata": {},
   "source": [
    "The job took about <b>25 minutes</b> for me and ended with these evaluation metrics:\n",
    "<pre>\n",
    "Saving dict for global step 8000: global_step = 8000, loss = 6.03338, \n",
    "metrics-poetry_line_problem/accuracy = 0.138544, \n",
    "metrics-poetry_line_problem/accuracy_per_sequence = 0.0, \n",
    "metrics-poetry_line_problem/accuracy_top5 = 0.232037, \n",
    "metrics-poetry_line_problem/approx_bleu_score = 0.00492648, \n",
    "metrics-poetry_line_problem/neg_log_perplexity = -6.68994, \n",
    "metrics-poetry_line_problem/rouge_2_fscore = 0.00256089, \n",
    "metrics-poetry_line_problem/rouge_L_fscore = 0.128194\n",
    "</pre>\n",
    "\n",
    "Notice that accuracy_per_sequence is 0 -- Considering that we are asking the NN to be rather creative, that doesn't surprise me. Why am I looking at accuracy_per_sequence and not the other metrics? This is because it is more appropriate for problem we are solving; metrics like Bleu score are better for translation."
   ]
  },
  {
   "cell_type": "markdown",
   "metadata": {},
   "source": [
    "What I got doing the lab (18 Mar 2019):\n",
    "\n",
    "```\n",
    "Saving dict for global step 7500: global_step = 7500, loss = 7.2016287, \n",
    "metrics-poetry_line_problem/targets/accuracy = 0.16934386, \n",
    "metrics-poetry_line_problem/targets/accuracy_per_sequence = 0.0, \n",
    "metrics-poetry_line_problem/targets/accuracy_top5 = 0.2730738, \n",
    "metrics-poetry_line_problem/targets/approx_bleu_score = 0.013282104, \n",
    "metrics-poetry_line_problem/targets/neg_log_perplexity = -7.0870624,\n",
    "metrics-poetry_line_problem/targets/rouge_2_fscore = 0.017581841, \n",
    "metrics-poetry_line_problem/targets/rouge_L_fscore = 0.19151948\n",
    "```"
   ]
  },
  {
   "cell_type": "code",
   "execution_count": 26,
   "metadata": {},
   "outputs": [
    {
     "name": "stdout",
     "output_type": "stream",
     "text": [
      "gs://qwiklabs-gcp-36677528dc4d202e/poetry/model/\n",
      "gs://qwiklabs-gcp-36677528dc4d202e/poetry/model/checkpoint\n",
      "gs://qwiklabs-gcp-36677528dc4d202e/poetry/model/events.out.tfevents.1552895592.cmle-training-13978447539340267300\n",
      "gs://qwiklabs-gcp-36677528dc4d202e/poetry/model/flags.txt\n",
      "gs://qwiklabs-gcp-36677528dc4d202e/poetry/model/flags_t2t.txt\n",
      "gs://qwiklabs-gcp-36677528dc4d202e/poetry/model/graph.pbtxt\n",
      "gs://qwiklabs-gcp-36677528dc4d202e/poetry/model/hparams.json\n",
      "gs://qwiklabs-gcp-36677528dc4d202e/poetry/model/model.ckpt-0.data-00000-of-00002\n",
      "gs://qwiklabs-gcp-36677528dc4d202e/poetry/model/model.ckpt-0.data-00001-of-00002\n",
      "gs://qwiklabs-gcp-36677528dc4d202e/poetry/model/model.ckpt-0.index\n",
      "gs://qwiklabs-gcp-36677528dc4d202e/poetry/model/model.ckpt-0.meta\n",
      "gs://qwiklabs-gcp-36677528dc4d202e/poetry/model/model.ckpt-1000.data-00000-of-00002\n",
      "gs://qwiklabs-gcp-36677528dc4d202e/poetry/model/model.ckpt-1000.data-00001-of-00002\n",
      "gs://qwiklabs-gcp-36677528dc4d202e/poetry/model/model.ckpt-1000.index\n",
      "gs://qwiklabs-gcp-36677528dc4d202e/poetry/model/model.ckpt-1000.meta\n",
      "gs://qwiklabs-gcp-36677528dc4d202e/poetry/model/model.ckpt-2000.data-00000-of-00002\n",
      "gs://qwiklabs-gcp-36677528dc4d202e/poetry/model/model.ckpt-2000.data-00001-of-00002\n",
      "gs://qwiklabs-gcp-36677528dc4d202e/poetry/model/model.ckpt-2000.index\n",
      "gs://qwiklabs-gcp-36677528dc4d202e/poetry/model/model.ckpt-2000.meta\n",
      "gs://qwiklabs-gcp-36677528dc4d202e/poetry/model/model.ckpt-3000.data-00000-of-00002\n",
      "gs://qwiklabs-gcp-36677528dc4d202e/poetry/model/model.ckpt-3000.data-00001-of-00002\n",
      "gs://qwiklabs-gcp-36677528dc4d202e/poetry/model/model.ckpt-3000.index\n",
      "gs://qwiklabs-gcp-36677528dc4d202e/poetry/model/model.ckpt-3000.meta\n",
      "gs://qwiklabs-gcp-36677528dc4d202e/poetry/model/model.ckpt-4000.data-00000-of-00002\n",
      "gs://qwiklabs-gcp-36677528dc4d202e/poetry/model/model.ckpt-4000.data-00001-of-00002\n",
      "gs://qwiklabs-gcp-36677528dc4d202e/poetry/model/model.ckpt-4000.index\n",
      "gs://qwiklabs-gcp-36677528dc4d202e/poetry/model/model.ckpt-4000.meta\n",
      "gs://qwiklabs-gcp-36677528dc4d202e/poetry/model/model.ckpt-5000.data-00000-of-00002\n",
      "gs://qwiklabs-gcp-36677528dc4d202e/poetry/model/model.ckpt-5000.data-00001-of-00002\n",
      "gs://qwiklabs-gcp-36677528dc4d202e/poetry/model/model.ckpt-5000.index\n",
      "gs://qwiklabs-gcp-36677528dc4d202e/poetry/model/model.ckpt-5000.meta\n",
      "gs://qwiklabs-gcp-36677528dc4d202e/poetry/model/model.ckpt-6000.data-00000-of-00002\n",
      "gs://qwiklabs-gcp-36677528dc4d202e/poetry/model/model.ckpt-6000.data-00001-of-00002\n",
      "gs://qwiklabs-gcp-36677528dc4d202e/poetry/model/model.ckpt-6000.index\n",
      "gs://qwiklabs-gcp-36677528dc4d202e/poetry/model/model.ckpt-6000.meta\n",
      "gs://qwiklabs-gcp-36677528dc4d202e/poetry/model/model.ckpt-7000.data-00000-of-00002\n",
      "gs://qwiklabs-gcp-36677528dc4d202e/poetry/model/model.ckpt-7000.data-00001-of-00002\n",
      "gs://qwiklabs-gcp-36677528dc4d202e/poetry/model/model.ckpt-7000.index\n",
      "gs://qwiklabs-gcp-36677528dc4d202e/poetry/model/model.ckpt-7000.meta\n",
      "gs://qwiklabs-gcp-36677528dc4d202e/poetry/model/model.ckpt-7500.data-00000-of-00002\n",
      "gs://qwiklabs-gcp-36677528dc4d202e/poetry/model/model.ckpt-7500.data-00001-of-00002\n",
      "gs://qwiklabs-gcp-36677528dc4d202e/poetry/model/model.ckpt-7500.index\n",
      "gs://qwiklabs-gcp-36677528dc4d202e/poetry/model/model.ckpt-7500.meta\n",
      "gs://qwiklabs-gcp-36677528dc4d202e/poetry/model/t2t_usr_container.tar.gz\n",
      "gs://qwiklabs-gcp-36677528dc4d202e/poetry/model/tensor2tensor_tmp.tar.gz\n",
      "gs://qwiklabs-gcp-36677528dc4d202e/poetry/model/eval/\n"
     ]
    }
   ],
   "source": [
    "%%bash\n",
    "gsutil ls gs://${BUCKET}/poetry/model"
   ]
  },
  {
   "cell_type": "markdown",
   "metadata": {},
   "source": [
    "## Train on a directly-connected TPU\n",
    "\n",
    "If you are running on a VM connected directly to a Cloud TPU, you can run t2t-trainer directly. Unfortunately, you won't see any output from Jupyter while the program is running.\n",
    "\n",
    "Compare this command line to the one using GPU in the previous section."
   ]
  },
  {
   "cell_type": "markdown",
   "metadata": {},
   "source": [
    "First, enable the Cloud TPU API, otherwise this will error out:\n",
    "\n",
    "```\n",
    "googleapiclient.errors.HttpError: <HttpError 403 when requesting https://tpu.googleapis.com/v1alpha1/projects/qwiklabs-gcp-36677528dc4d202e/locations/europe-west1-c/nodes/laktpu?alt=json returned \"Cloud TPU API has not been used in project 1032299714650 before or it is disabled. Enable it by visiting https://console.developers.google.com/apis/api/tpu.googleapis.com/overview?project=1032299714650 then retry. If you enabled this API recently, wait a few minutes for the action to propagate to our systems and retry.\">\n",
    "```"
   ]
  },
  {
   "cell_type": "code",
   "execution_count": 28,
   "metadata": {},
   "outputs": [
    {
     "name": "stdout",
     "output_type": "stream",
     "text": [
      "gs://qwiklabs-gcp-36677528dc4d202e/poetry/model_tpu europe-west1 poetry_190318_081103\n",
      ":::MLPv0.5.0 transformer 1552896671.071044922 (/usr/local/envs/py2env/bin/t2t-trainer:28) run_start\n",
      ":::MLPv0.5.0 transformer 1552896671.071803093 (/usr/local/envs/py2env/bin/t2t-trainer:28) run_set_random_seed\n"
     ]
    },
    {
     "name": "stderr",
     "output_type": "stream",
     "text": [
      "CommandException: 1 files/objects could not be removed.\n",
      "/usr/local/envs/py2env/lib/python2.7/site-packages/h5py/__init__.py:36: FutureWarning: Conversion of the second argument of issubdtype from `float` to `np.floating` is deprecated. In future, it will be treated as `np.float64 == np.dtype(float).type`.\n",
      "  from ._conv import register_converters as _register_converters\n",
      "INFO:tensorflow:Importing user module trainer from path /content/datalab/gcp-ml-02-advanced-ml-with-tf-on-gcp/04-sequence-models-tensorflow-gcp/poetry\n",
      "Traceback (most recent call last):\n",
      "  File \"/usr/local/envs/py2env/bin/t2t-trainer\", line 33, in <module>\n",
      "    tf.app.run()\n",
      "  File \"/usr/local/envs/py2env/lib/python2.7/site-packages/tensorflow/python/platform/app.py\", line 125, in run\n",
      "    _sys.exit(main(argv))\n",
      "  File \"/usr/local/envs/py2env/bin/t2t-trainer\", line 28, in main\n",
      "    t2t_trainer.main(argv)\n",
      "  File \"/usr/local/envs/py2env/lib/python2.7/site-packages/tensor2tensor/bin/t2t_trainer.py\", line 376, in main\n",
      "    exp = exp_fn(create_run_config(hparams), hparams)\n",
      "  File \"/usr/local/envs/py2env/lib/python2.7/site-packages/tensor2tensor/bin/t2t_trainer.py\", line 264, in create_run_config\n",
      "    cloud_tpu_name=FLAGS.cloud_tpu_name)\n",
      "  File \"/usr/local/envs/py2env/lib/python2.7/site-packages/tensor2tensor/utils/trainer_lib.py\", line 230, in create_run_config\n",
      "    config = run_config_cls(**run_config_args)\n",
      "  File \"/usr/local/envs/py2env/lib/python2.7/site-packages/tensorflow/contrib/tpu/python/tpu/tpu_config.py\", line 180, in __init__\n",
      "    self._master = cluster.master()\n",
      "  File \"/usr/local/envs/py2env/lib/python2.7/site-packages/tensorflow/contrib/cluster_resolver/python/training/tpu_cluster_resolver.py\", line 220, in master\n",
      "    job_tasks = self.cluster_spec().job_tasks(self._job_name)\n",
      "  File \"/usr/local/envs/py2env/lib/python2.7/site-packages/tensorflow/contrib/cluster_resolver/python/training/tpu_cluster_resolver.py\", line 258, in cluster_spec\n",
      "    response = request.execute()\n",
      "  File \"/usr/local/envs/py2env/lib/python2.7/site-packages/oauth2client/util.py\", line 135, in positional_wrapper\n",
      "    return wrapped(*args, **kwargs)\n",
      "  File \"/usr/local/envs/py2env/lib/python2.7/site-packages/googleapiclient/http.py\", line 840, in execute\n",
      "    raise HttpError(resp, content, uri=self.uri)\n",
      "googleapiclient.errors.HttpError: <HttpError 403 when requesting https://tpu.googleapis.com/v1alpha1/projects/qwiklabs-gcp-36677528dc4d202e/locations/europe-west1-c/nodes/laktpu?alt=json returned \"Location europe-west1-c is not found or access is unauthorized.\">\n"
     ]
    }
   ],
   "source": [
    "%%bash\n",
    "# use one of these\n",
    "TPU=\"--train_steps=7500 --use_tpu=True --cloud_tpu_name=laktpu --hparams_set=transformer_poetry_tpu\"\n",
    "\n",
    "DATADIR=gs://${BUCKET}/poetry/data\n",
    "OUTDIR=gs://${BUCKET}/poetry/model_tpu\n",
    "JOBNAME=poetry_$(date -u +%y%m%d_%H%M%S)\n",
    "echo $OUTDIR $REGION $JOBNAME\n",
    "gsutil -m rm -rf $OUTDIR\n",
    "echo \"'Y'\" | t2t-trainer \\\n",
    "  --data_dir=gs://${BUCKET}/poetry/subset \\\n",
    "  --t2t_usr_dir=./poetry/trainer \\\n",
    "  --problem=$PROBLEM \\\n",
    "  --model=transformer \\\n",
    "  --output_dir=$OUTDIR \\\n",
    "  ${TPU}"
   ]
  },
  {
   "cell_type": "code",
   "execution_count": null,
   "metadata": {},
   "outputs": [],
   "source": [
    "%%bash\n",
    "gsutil ls gs://${BUCKET}/poetry/model_tpu"
   ]
  },
  {
   "cell_type": "markdown",
   "metadata": {},
   "source": [
    "The job took about <b>10 minutes</b> for me and ended with these evaluation metrics:\n",
    "<pre>\n",
    "Saving dict for global step 8000: global_step = 8000, loss = 6.03338, metrics-poetry_line_problem/accuracy = 0.138544, metrics-poetry_line_problem/accuracy_per_sequence = 0.0, metrics-poetry_line_problem/accuracy_top5 = 0.232037, metrics-poetry_line_problem/approx_bleu_score = 0.00492648, metrics-poetry_line_problem/neg_log_perplexity = -6.68994, metrics-poetry_line_problem/rouge_2_fscore = 0.00256089, metrics-poetry_line_problem/rouge_L_fscore = 0.128194\n",
    "</pre>\n",
    "Notice that accuracy_per_sequence is 0 -- Considering that we are asking the NN to be rather creative, that doesn't surprise me. Why am I looking at accuracy_per_sequence and not the other metrics? This is because it is more appropriate for problem we are solving; metrics like Bleu score are better for translation."
   ]
  },
  {
   "cell_type": "markdown",
   "metadata": {},
   "source": [
    "## Training longer\n",
    "\n",
    "Let's train on 4 GPUs for 75,000 steps. Note the change in the last line of the job."
   ]
  },
  {
   "cell_type": "code",
   "execution_count": null,
   "metadata": {},
   "outputs": [],
   "source": [
    "%%bash\n",
    "\n",
    "XXX This takes 3 hours on 4 GPUs. Remove this line if you are sure you want to do this.\n",
    "\n",
    "DATADIR=gs://${BUCKET}/poetry/data\n",
    "OUTDIR=gs://${BUCKET}/poetry/model_full2\n",
    "JOBNAME=poetry_$(date -u +%y%m%d_%H%M%S)\n",
    "echo $OUTDIR $REGION $JOBNAME\n",
    "gsutil -m rm -rf $OUTDIR\n",
    "echo \"'Y'\" | t2t-trainer \\\n",
    "  --data_dir=gs://${BUCKET}/poetry/subset \\\n",
    "  --t2t_usr_dir=./poetry/trainer \\\n",
    "  --problem=$PROBLEM \\\n",
    "  --model=transformer \\\n",
    "  --hparams_set=transformer_poetry \\\n",
    "  --output_dir=$OUTDIR \\\n",
    "  --train_steps=75000 --cloud_mlengine --worker_gpu=4"
   ]
  },
  {
   "cell_type": "markdown",
   "metadata": {},
   "source": [
    "This job took <b>12 hours</b> for me and ended with these metrics:\n",
    "<pre>\n",
    "global_step = 76000, loss = 4.99763, metrics-poetry_line_problem/accuracy = 0.219792, metrics-poetry_line_problem/accuracy_per_sequence = 0.0192308, metrics-poetry_line_problem/accuracy_top5 = 0.37618, metrics-poetry_line_problem/approx_bleu_score = 0.017955, metrics-poetry_line_problem/neg_log_perplexity = -5.38725, metrics-poetry_line_problem/rouge_2_fscore = 0.0325563, metrics-poetry_line_problem/rouge_L_fscore = 0.210618\n",
    "</pre>\n",
    "At least the accuracy per sequence is no longer zero. It is now 0.0192308 ... note that we are using a relatively small dataset (12K lines) and this is *tiny* in the world of natural language problems.\n",
    "<p>\n",
    "In order that you have your expectations set correctly: a high-performing translation model needs 400-million lines of input and takes 1 whole day on a TPU pod!"
   ]
  },
  {
   "cell_type": "markdown",
   "metadata": {},
   "source": [
    "## Batch-predict\n",
    "\n",
    "How will our poetry model do when faced with Rumi's spiritual couplets?"
   ]
  },
  {
   "cell_type": "code",
   "execution_count": 29,
   "metadata": {},
   "outputs": [
    {
     "name": "stdout",
     "output_type": "stream",
     "text": [
      "Writing data/poetry/rumi.txt\n"
     ]
    }
   ],
   "source": [
    "%%writefile data/poetry/rumi.txt\n",
    "Where did the handsome beloved go?\n",
    "I wonder, where did that tall, shapely cypress tree go?\n",
    "He spread his light among us like a candle.\n",
    "Where did he go? So strange, where did he go without me?\n",
    "All day long my heart trembles like a leaf.\n",
    "All alone at midnight, where did that beloved go?\n",
    "Go to the road, and ask any passing traveler — \n",
    "That soul-stirring companion, where did he go?\n",
    "Go to the garden, and ask the gardener — \n",
    "That tall, shapely rose stem, where did he go?\n",
    "Go to the rooftop, and ask the watchman — \n",
    "That unique sultan, where did he go?\n",
    "Like a madman, I search in the meadows!\n",
    "That deer in the meadows, where did he go?\n",
    "My tearful eyes overflow like a river — \n",
    "That pearl in the vast sea, where did he go?\n",
    "All night long, I implore both moon and Venus — \n",
    "That lovely face, like a moon, where did he go?\n",
    "If he is mine, why is he with others?\n",
    "Since he’s not here, to what “there” did he go?\n",
    "If his heart and soul are joined with God,\n",
    "And he left this realm of earth and water, where did he go?\n",
    "Tell me clearly, Shams of Tabriz,\n",
    "Of whom it is said, “The sun never dies” — where did he go?"
   ]
  },
  {
   "cell_type": "markdown",
   "metadata": {},
   "source": [
    "Let's write out the odd-numbered lines. We'll compare how close our model can get to the beauty of Rumi's second lines given his first."
   ]
  },
  {
   "cell_type": "code",
   "execution_count": 30,
   "metadata": {},
   "outputs": [
    {
     "name": "stdout",
     "output_type": "stream",
     "text": [
      "where did the handsome beloved go\n",
      "he spread his light among us like a candle\n",
      "all day long my heart trembles like a leaf\n"
     ]
    }
   ],
   "source": [
    "%%bash\n",
    "awk 'NR % 2 == 1' data/poetry/rumi.txt | tr '[:upper:]' '[:lower:]' | sed \"s/[^a-z\\'-\\ ]//g\" > data/poetry/rumi_leads.txt\n",
    "head -3 data/poetry/rumi_leads.txt"
   ]
  },
  {
   "cell_type": "code",
   "execution_count": 31,
   "metadata": {},
   "outputs": [
    {
     "name": "stdout",
     "output_type": "stream",
     "text": [
      ":::MLPv0.5.0 transformer 1552896894.636256933 (/usr/local/envs/py2env/lib/python2.7/site-packages/tensor2tensor/utils/expert_utils.py:231) model_hp_layer_postprocess_dropout: 0.0\n",
      ":::MLPv0.5.0 transformer 1552896894.637926102 (/usr/local/envs/py2env/lib/python2.7/site-packages/tensor2tensor/models/transformer.py:101) model_hp_hidden_layers: 2\n",
      ":::MLPv0.5.0 transformer 1552896894.639075994 (/usr/local/envs/py2env/lib/python2.7/site-packages/tensor2tensor/models/transformer.py:101) model_hp_attention_num_heads: 4\n",
      ":::MLPv0.5.0 transformer 1552896894.640150070 (/usr/local/envs/py2env/lib/python2.7/site-packages/tensor2tensor/models/transformer.py:101) model_hp_attention_dropout: 0.0\n",
      ":::MLPv0.5.0 transformer 1552896895.024194956 (/usr/local/envs/py2env/lib/python2.7/site-packages/tensor2tensor/layers/transformer_layers.py:182) model_hp_ffn_filter: {\"filter_size\": 512, \"activation\": \"relu\", \"use_bias\": \"True\"}\n",
      ":::MLPv0.5.0 transformer 1552896895.025559902 (/usr/local/envs/py2env/lib/python2.7/site-packages/tensor2tensor/layers/transformer_layers.py:182) model_hp_ffn_dense: {\"use_bias\": \"True\", \"hidden_size\": 128}\n",
      ":::MLPv0.5.0 transformer 1552896895.026741028 (/usr/local/envs/py2env/lib/python2.7/site-packages/tensor2tensor/layers/transformer_layers.py:182) model_hp_relu_dropout: 0.0\n",
      ":::MLPv0.5.0 transformer 1552896895.518573999 (/usr/local/envs/py2env/lib/python2.7/site-packages/tensor2tensor/layers/transformer_layers.py:182) model_hp_ffn_filter: {\"filter_size\": 512, \"activation\": \"relu\", \"use_bias\": \"True\"}\n",
      ":::MLPv0.5.0 transformer 1552896895.519857883 (/usr/local/envs/py2env/lib/python2.7/site-packages/tensor2tensor/layers/transformer_layers.py:182) model_hp_ffn_dense: {\"use_bias\": \"True\", \"hidden_size\": 128}\n",
      ":::MLPv0.5.0 transformer 1552896895.520979881 (/usr/local/envs/py2env/lib/python2.7/site-packages/tensor2tensor/layers/transformer_layers.py:182) model_hp_relu_dropout: 0.0\n",
      ":::MLPv0.5.0 transformer 1552896895.650793076 (/usr/local/envs/py2env/lib/python2.7/site-packages/tensor2tensor/models/transformer.py:101) model_hp_norm: {\"hidden_size\": 128}\n",
      ":::MLPv0.5.0 transformer 1552896896.790473938 (/usr/local/envs/py2env/lib/python2.7/site-packages/tensor2tensor/utils/expert_utils.py:231) model_hp_layer_postprocess_dropout: 0.0\n",
      ":::MLPv0.5.0 transformer 1552896896.792460918 (/usr/local/envs/py2env/lib/python2.7/site-packages/tensor2tensor/models/transformer.py:153) model_hp_hidden_layers: 2\n",
      ":::MLPv0.5.0 transformer 1552896896.794018030 (/usr/local/envs/py2env/lib/python2.7/site-packages/tensor2tensor/models/transformer.py:153) model_hp_attention_num_heads: 4\n",
      ":::MLPv0.5.0 transformer 1552896896.795978069 (/usr/local/envs/py2env/lib/python2.7/site-packages/tensor2tensor/models/transformer.py:153) model_hp_attention_dropout: 0.0\n",
      ":::MLPv0.5.0 transformer 1552896897.352571964 (/usr/local/envs/py2env/lib/python2.7/site-packages/tensor2tensor/models/transformer.py:1290) model_hp_ffn_filter: {\"filter_size\": 512, \"activation\": \"relu\", \"use_bias\": \"True\"}\n",
      ":::MLPv0.5.0 transformer 1552896897.354186058 (/usr/local/envs/py2env/lib/python2.7/site-packages/tensor2tensor/models/transformer.py:1290) model_hp_ffn_dense: {\"use_bias\": \"True\", \"hidden_size\": 128}\n",
      ":::MLPv0.5.0 transformer 1552896897.355756044 (/usr/local/envs/py2env/lib/python2.7/site-packages/tensor2tensor/models/transformer.py:1290) model_hp_relu_dropout: 0.0\n",
      ":::MLPv0.5.0 transformer 1552896898.305880070 (/usr/local/envs/py2env/lib/python2.7/site-packages/tensor2tensor/models/transformer.py:1290) model_hp_ffn_filter: {\"filter_size\": 512, \"activation\": \"relu\", \"use_bias\": \"True\"}\n",
      ":::MLPv0.5.0 transformer 1552896898.307462931 (/usr/local/envs/py2env/lib/python2.7/site-packages/tensor2tensor/models/transformer.py:1290) model_hp_ffn_dense: {\"use_bias\": \"True\", \"hidden_size\": 128}\n",
      ":::MLPv0.5.0 transformer 1552896898.308825016 (/usr/local/envs/py2env/lib/python2.7/site-packages/tensor2tensor/models/transformer.py:1290) model_hp_relu_dropout: 0.0\n",
      ":::MLPv0.5.0 transformer 1552896898.422749043 (/usr/local/envs/py2env/lib/python2.7/site-packages/tensor2tensor/models/transformer.py:153) model_hp_norm: {\"hidden_size\": 128}\n"
     ]
    },
    {
     "name": "stderr",
     "output_type": "stream",
     "text": [
      "/usr/local/envs/py2env/lib/python2.7/site-packages/h5py/__init__.py:36: FutureWarning: Conversion of the second argument of issubdtype from `float` to `np.floating` is deprecated. In future, it will be treated as `np.float64 == np.dtype(float).type`.\n",
      "  from ._conv import register_converters as _register_converters\n",
      "INFO:tensorflow:Importing user module trainer from path /content/datalab/gcp-ml-02-advanced-ml-with-tf-on-gcp/04-sequence-models-tensorflow-gcp/poetry\n",
      "WARNING:tensorflow:From /usr/local/envs/py2env/lib/python2.7/site-packages/tensor2tensor/utils/trainer_lib.py:230: __init__ (from tensorflow.contrib.learn.python.learn.estimators.run_config) is deprecated and will be removed in a future version.\n",
      "Instructions for updating:\n",
      "When switching to tf.estimator.Estimator, use tf.estimator.RunConfig instead.\n",
      "INFO:tensorflow:Configuring DataParallelism to replicate the model.\n",
      "INFO:tensorflow:schedule=continuous_train_and_eval\n",
      "INFO:tensorflow:worker_gpu=1\n",
      "INFO:tensorflow:sync=False\n",
      "WARNING:tensorflow:Schedule=continuous_train_and_eval. Assuming that training is running on a single machine.\n",
      "INFO:tensorflow:datashard_devices: ['gpu:0']\n",
      "INFO:tensorflow:caching_devices: None\n",
      "INFO:tensorflow:ps_devices: ['gpu:0']\n",
      "INFO:tensorflow:Using config: {'_save_checkpoints_secs': None, '_keep_checkpoint_max': 20, '_task_type': None, '_cluster_spec': <tensorflow.python.training.server_lib.ClusterSpec object at 0x7f97611f91d0>, '_keep_checkpoint_every_n_hours': 10000, '_session_config': gpu_options {\n",
      "  per_process_gpu_memory_fraction: 0.95\n",
      "}\n",
      "allow_soft_placement: true\n",
      "graph_options {\n",
      "  optimizer_options {\n",
      "  }\n",
      "}\n",
      ", 'use_tpu': False, '_tf_random_seed': None, '_device_fn': None, '_num_worker_replicas': 0, '_task_id': 0, '_log_step_count_steps': 100, '_evaluation_master': '', 't2t_device_info': {'num_async_replicas': 1}, '_num_ps_replicas': 0, '_train_distribute': None, '_is_chief': True, '_tf_config': gpu_options {\n",
      "  per_process_gpu_memory_fraction: 1.0\n",
      "}\n",
      ", '_save_checkpoints_steps': 1000, '_environment': 'local', '_master': '', '_model_dir': 'gs://qwiklabs-gcp-36677528dc4d202e/poetry/model', 'data_parallelism': <tensor2tensor.utils.expert_utils.Parallelism object at 0x7f97611f9210>, '_save_summary_steps': 100}\n",
      "WARNING:tensorflow:Estimator's model_fn (<function wrapping_model_fn at 0x7f97611f5398>) includes params argument, but params are not passed to Estimator.\n",
      "INFO:tensorflow:decode_hp.batch_size not specified; default=32\n",
      "INFO:tensorflow:Performing decoding from file (data/poetry/rumi_leads.txt).\n",
      "INFO:tensorflow:Getting sorted inputs\n",
      "INFO:tensorflow: batch 1\n",
      "INFO:tensorflow:Decoding batch 0\n",
      "WARNING:tensorflow:Input graph does not use tf.data.Dataset or contain a QueueRunner. That means predict yields forever. This is probably a mistake.\n",
      "INFO:tensorflow:Calling model_fn.\n",
      "INFO:tensorflow:Setting T2TModel mode to 'infer'\n",
      "INFO:tensorflow:Setting hparams.layer_prepostprocess_dropout to 0.0\n",
      "INFO:tensorflow:Setting hparams.symbol_dropout to 0.0\n",
      "INFO:tensorflow:Setting hparams.label_smoothing to 0.0\n",
      "INFO:tensorflow:Setting hparams.attention_dropout to 0.0\n",
      "INFO:tensorflow:Setting hparams.dropout to 0.0\n",
      "INFO:tensorflow:Setting hparams.relu_dropout to 0.0\n",
      "INFO:tensorflow:Beam Decoding with beam size 4\n",
      "WARNING:tensorflow:From /usr/local/envs/py2env/lib/python2.7/site-packages/tensorflow/python/framework/function.py:986: calling create_op (from tensorflow.python.framework.ops) with compute_shapes is deprecated and will be removed in a future version.\n",
      "Instructions for updating:\n",
      "Shapes are always computed; don't use the compute_shapes as it has no effect.\n",
      "INFO:tensorflow:Done calling model_fn.\n",
      "INFO:tensorflow:Graph was finalized.\n",
      "INFO:tensorflow:Restoring parameters from gs://qwiklabs-gcp-36677528dc4d202e/poetry/model/model.ckpt-7500\n",
      "INFO:tensorflow:Running local_init_op.\n",
      "INFO:tensorflow:Done running local_init_op.\n",
      "INFO:tensorflow:Inference results INPUT: if his heart and soul are joined with god\n",
      "INFO:tensorflow:Inference results OUTPUT: and ready harbinger\n",
      "INFO:tensorflow:Inference results INPUT: if he is mine why is he with others\n",
      "INFO:tensorflow:Inference results OUTPUT: that thou sawest unperceived\n",
      "INFO:tensorflow:Inference results INPUT: all night long i implore both moon and venus\n",
      "INFO:tensorflow:Inference results OUTPUT: i could ill confine\n",
      "INFO:tensorflow:Inference results INPUT: go to the road and ask any passing traveler\n",
      "INFO:tensorflow:Inference results OUTPUT: and shiver'd around\n",
      "INFO:tensorflow:Inference results INPUT: all day long my heart trembles like a leaf\n",
      "INFO:tensorflow:Inference results OUTPUT: when thou sawest unperceived\n",
      "INFO:tensorflow:Inference results INPUT: he spread his light among us like a candle\n",
      "INFO:tensorflow:Inference results OUTPUT: timor mortis conturbat me\n",
      "INFO:tensorflow:Inference results INPUT: like a madman i search in the meadows\n",
      "INFO:tensorflow:Inference results OUTPUT: where thou hast thou learnt\n",
      "INFO:tensorflow:Inference results INPUT: go to the rooftop and ask the watchman\n",
      "INFO:tensorflow:Inference results OUTPUT: and sexty yeiris cowth' gordon\n",
      "INFO:tensorflow:Inference results INPUT: go to the garden and ask the gardener\n",
      "INFO:tensorflow:Inference results OUTPUT: to school school school school school school school school along\n",
      "INFO:tensorflow:Inference results INPUT: my tearful eyes overflow like a river\n",
      "INFO:tensorflow:Inference results OUTPUT: and shiver'd the cold hearth hearth\n",
      "INFO:tensorflow:Inference results INPUT: tell me clearly shams of tabriz\n",
      "INFO:tensorflow:Inference results OUTPUT: and dryburgh and eternal streams\n",
      "INFO:tensorflow:Inference results INPUT: where did the handsome beloved go\n",
      "INFO:tensorflow:Inference results OUTPUT: and the people plucking his feet\n",
      "INFO:tensorflow:Elapsed Time: 12.25114\n",
      "INFO:tensorflow:Averaged Single Token Generation Time: 0.0134214 (time 12.2403018 count 912)\n",
      "INFO:tensorflow:Writing decodes into data/poetry/rumi_leads.txt.transformer.transformer_poetry.poetry_line_problem.beam4.alpha0.6.decodes\n"
     ]
    }
   ],
   "source": [
    "%%bash\n",
    "# same as the above training job ...\n",
    "TOPDIR=gs://${BUCKET}\n",
    "OUTDIR=${TOPDIR}/poetry/model #_tpu  # or ${TOPDIR}/poetry/model_full\n",
    "DATADIR=${TOPDIR}/poetry/data\n",
    "MODEL=transformer\n",
    "HPARAMS=transformer_poetry #_tpu\n",
    "\n",
    "# the file with the input lines\n",
    "DECODE_FILE=data/poetry/rumi_leads.txt\n",
    "\n",
    "BEAM_SIZE=4\n",
    "ALPHA=0.6\n",
    "\n",
    "t2t-decoder \\\n",
    "  --data_dir=$DATADIR \\\n",
    "  --problem=$PROBLEM \\\n",
    "  --model=$MODEL \\\n",
    "  --hparams_set=$HPARAMS \\\n",
    "  --output_dir=$OUTDIR \\\n",
    "  --t2t_usr_dir=./poetry/trainer \\\n",
    "  --decode_hparams=\"beam_size=$BEAM_SIZE,alpha=$ALPHA\" \\\n",
    "  --decode_from_file=$DECODE_FILE"
   ]
  },
  {
   "cell_type": "markdown",
   "metadata": {},
   "source": [
    "<b> Note </b> if you get an error about \"AttributeError: 'HParams' object has no attribute 'problems'\" please <b>Reset Session</b>, run the cell that defines the PROBLEM and run the above cell again."
   ]
  },
  {
   "cell_type": "code",
   "execution_count": 32,
   "metadata": {},
   "outputs": [
    {
     "name": "stdout",
     "output_type": "stream",
     "text": [
      "and the people plucking his feet\n",
      "timor mortis conturbat me\n",
      "when thou sawest unperceived\n",
      "and shiver'd around\n",
      "to school school school school school school school school along\n",
      "and sexty yeiris cowth' gordon\n",
      "where thou hast thou learnt\n",
      "and shiver'd the cold hearth hearth\n",
      "i could ill confine\n",
      "that thou sawest unperceived\n",
      "and ready harbinger\n",
      "and dryburgh and eternal streams\n"
     ]
    }
   ],
   "source": [
    "%%bash  \n",
    "DECODE_FILE=data/poetry/rumi_leads.txt\n",
    "cat ${DECODE_FILE}.*.decodes"
   ]
  },
  {
   "cell_type": "markdown",
   "metadata": {},
   "source": [
    "Some of these are still phrases and not complete sentences. This indicates that we might need to train longer or better somehow. We need to diagnose the model ...\n",
    "<p>\n",
    "    \n",
    "### Diagnosing training run\n",
    "\n",
    "<p>\n",
    "Let's diagnose the training run to see what we'd improve the next time around.\n",
    "(Note that this package may not be present on Jupyter -- `pip install pydatalab` if necessary)"
   ]
  },
  {
   "cell_type": "code",
   "execution_count": 33,
   "metadata": {},
   "outputs": [
    {
     "name": "stderr",
     "output_type": "stream",
     "text": [
      "/usr/local/envs/py2env/lib/python2.7/site-packages/h5py/__init__.py:36: FutureWarning: Conversion of the second argument of issubdtype from `float` to `np.floating` is deprecated. In future, it will be treated as `np.float64 == np.dtype(float).type`.\n",
      "  from ._conv import register_converters as _register_converters\n"
     ]
    },
    {
     "data": {
      "text/html": [
       "<p>TensorBoard was started successfully with pid 18143. Click <a href=\"/_proxy/41311/\" target=\"_blank\">here</a> to access it.</p>"
      ]
     },
     "metadata": {},
     "output_type": "display_data"
    },
    {
     "data": {
      "text/plain": [
       "18143"
      ]
     },
     "execution_count": 33,
     "metadata": {},
     "output_type": "execute_result"
    }
   ],
   "source": [
    "from google.datalab.ml import TensorBoard\n",
    "TensorBoard().start('gs://{}/poetry/model_full'.format(BUCKET))"
   ]
  },
  {
   "cell_type": "code",
   "execution_count": 34,
   "metadata": {},
   "outputs": [
    {
     "name": "stdout",
     "output_type": "stream",
     "text": [
      "Stopped TensorBoard with pid 18143\n"
     ]
    }
   ],
   "source": [
    "for pid in TensorBoard.list()['pid']:\n",
    "    TensorBoard().stop(pid)\n",
    "    print('Stopped TensorBoard with pid {}'.format(pid))"
   ]
  },
  {
   "cell_type": "markdown",
   "metadata": {},
   "source": [
    "<table>\n",
    "<tr>\n",
    "<td><img src=\"diagrams/poetry_loss.png\"/></td>\n",
    "<td><img src=\"diagrams/poetry_acc.png\"/></td>\n",
    "</table>\n",
    "Looking at the loss curve, it is clear that we are overfitting (note that the orange training curve is well below the blue eval curve). Both loss curves and the accuracy-per-sequence curve, which is our key evaluation measure, plateaus after 40k. (The red curve is a faster way of computing the evaluation metric, and can be ignored). So, how do we improve the model? Well, we need to reduce overfitting and make sure the eval metrics keep going down as long as the loss is also going down.\n",
    "<p>\n",
    "What we really need to do is to get more data, but if that's not an option, we could try to reduce the NN and increase the dropout regularization. We could also do hyperparameter tuning on the dropout and network sizes."
   ]
  },
  {
   "cell_type": "markdown",
   "metadata": {},
   "source": [
    "## Hyperparameter tuning\n",
    "\n",
    "tensor2tensor also supports hyperparameter tuning on Cloud ML Engine. Note the addition of the autotune flags.\n",
    "<p>\n",
    "The `transformer_poetry_range` was registered in problem.py above."
   ]
  },
  {
   "cell_type": "code",
   "execution_count": null,
   "metadata": {},
   "outputs": [],
   "source": [
    "%%bash\n",
    "\n",
    "XXX This takes about 15 hours and consumes about 420 ML units.  Uncomment if you wish to proceed anyway\n",
    "\n",
    "DATADIR=gs://${BUCKET}/poetry/data\n",
    "OUTDIR=gs://${BUCKET}/poetry/model_hparam\n",
    "JOBNAME=poetry_$(date -u +%y%m%d_%H%M%S)\n",
    "echo $OUTDIR $REGION $JOBNAME\n",
    "gsutil -m rm -rf $OUTDIR\n",
    "echo \"'Y'\" | t2t-trainer \\\n",
    "  --data_dir=gs://${BUCKET}/poetry/subset \\\n",
    "  --t2t_usr_dir=./poetry/trainer \\\n",
    "  --problem=$PROBLEM \\\n",
    "  --model=transformer \\\n",
    "  --hparams_set=transformer_poetry \\\n",
    "  --output_dir=$OUTDIR \\\n",
    "  --hparams_range=transformer_poetry_range \\\n",
    "  --autotune_objective='metrics-poetry_line_problem/accuracy_per_sequence' \\\n",
    "  --autotune_maximize \\\n",
    "  --autotune_max_trials=4 \\\n",
    "  --autotune_parallel_trials=4 \\\n",
    "  --train_steps=7500 --cloud_mlengine --worker_gpu=4"
   ]
  },
  {
   "cell_type": "markdown",
   "metadata": {},
   "source": [
    "When I ran the above job, it took about 15 hours and finished with these as the best parameters:\n",
    "<pre>\n",
    "{\n",
    "      \"trialId\": \"37\",\n",
    "      \"hyperparameters\": {\n",
    "        \"hp_num_hidden_layers\": \"4\",\n",
    "        \"hp_learning_rate\": \"0.026711152525921437\",\n",
    "        \"hp_hidden_size\": \"512\",\n",
    "        \"hp_attention_dropout\": \"0.60589466163419292\"\n",
    "      },\n",
    "      \"finalMetric\": {\n",
    "        \"trainingStep\": \"8000\",\n",
    "        \"objectiveValue\": 0.0276162791997\n",
    "      }\n",
    "</pre>\n",
    "In other words, the accuracy per sequence achieved was 0.027 (as compared to 0.019 before hyperparameter tuning, so a <b>40% improvement!</b>) using 4 hidden layers, a learning rate of 0.0267, a hidden size of 512 and droput probability of 0.606. This is inspite of training for only 7500 steps instead of 75,000 steps ... we could train for 75k steps with these parameters, but I'll leave that as an exercise for you.\n",
    "<p>\n",
    "Instead, let's try predicting with this optimized model. Note the addition of the hp* flags in order to override the values hardcoded in the source code. (there is no need to specify learning rate and dropout because they are not used during inference). I am using 37 because I got the best result at trialId=37"
   ]
  },
  {
   "cell_type": "code",
   "execution_count": null,
   "metadata": {},
   "outputs": [],
   "source": [
    "%%bash\n",
    "# same as the above training job ...\n",
    "BEST_TRIAL=28  # CHANGE as needed.\n",
    "TOPDIR=gs://${BUCKET}\n",
    "OUTDIR=${TOPDIR}/poetry/model_hparam/$BEST_TRIAL\n",
    "DATADIR=${TOPDIR}/poetry/data\n",
    "MODEL=transformer\n",
    "HPARAMS=transformer_poetry\n",
    "\n",
    "# the file with the input lines\n",
    "DECODE_FILE=data/poetry/rumi_leads.txt\n",
    "\n",
    "BEAM_SIZE=4\n",
    "ALPHA=0.6\n",
    "\n",
    "t2t-decoder \\\n",
    "  --data_dir=$DATADIR \\\n",
    "  --problem=$PROBLEM \\\n",
    "  --model=$MODEL \\\n",
    "  --hparams_set=$HPARAMS \\\n",
    "  --output_dir=$OUTDIR \\\n",
    "  --t2t_usr_dir=./poetry/trainer \\\n",
    "  --decode_hparams=\"beam_size=$BEAM_SIZE,alpha=$ALPHA\" \\\n",
    "  --decode_from_file=$DECODE_FILE \\\n",
    "  --hparams=\"num_hidden_layers=4,hidden_size=512\""
   ]
  },
  {
   "cell_type": "code",
   "execution_count": null,
   "metadata": {},
   "outputs": [],
   "source": [
    "%%bash  \n",
    "DECODE_FILE=data/poetry/rumi_leads.txt\n",
    "cat ${DECODE_FILE}.*.decodes"
   ]
  },
  {
   "cell_type": "markdown",
   "metadata": {},
   "source": [
    "Take the first three line. I'm showing the first line of the couplet provided to the model, how the AI model that we trained complets it and how Rumi completes it:\n",
    "<p>\n",
    "INPUT: where did the handsome beloved go <br/>\n",
    "AI: where art thou worse to me than dead <br/>\n",
    "RUMI: I wonder, where did that tall, shapely cypress tree go?\n",
    "<p>\n",
    "INPUT: he spread his light among us like a candle <br/>\n",
    "AI: like the hurricane eclipse <br/>\n",
    "RUMI: Where did he go? So strange, where did he go without me? <br/>\n",
    "<p>\n",
    "INPUT: all day long my heart trembles like a leaf <br/>\n",
    "AI: and through their hollow aisles it plays <br/>\n",
    "RUMI: All alone at midnight, where did that beloved go? \n",
    "<p>\n",
    "Oh wow. The couplets as completed are quite decent considering that:\n",
    "    \n",
    "* We trained the model on American poetry, so feeding it Rumi is a bit out of left field.\n",
    "* Rumi, of course, has a context and thread running through his lines while the AI (since it was fed only that one line) doesn't. \n",
    "\n",
    "<p>\n",
    "\"Spreading light like a hurricane eclipse\" is a metaphor I won't soon forget. And it was created by a machine learning model!"
   ]
  },
  {
   "cell_type": "markdown",
   "metadata": {},
   "source": [
    "## Serving poetry\n",
    "\n",
    "How would you serve these predictions? There are two ways:\n",
    "<ol>\n",
    "<li> Use [Cloud ML Engine](https://cloud.google.com/ml-engine/docs/deploying-models) -- this is serverless and you don't have to manage any infrastructure.\n",
    "<li> Use [Kubeflow](https://github.com/kubeflow/kubeflow/blob/master/user_guide.md) on Google Kubernetes Engine -- this uses clusters but will also work on-prem on your own Kubernetes cluster.\n",
    "</ol>\n",
    "<p>\n",
    "In either case, you need to export the model first and have TensorFlow serving serve the model. The model, however, expects to see *encoded* (i.e. preprocessed) data. So, we'll do that in the Python Flask application (in AppEngine Flex) that serves the user interface."
   ]
  },
  {
   "cell_type": "code",
   "execution_count": null,
   "metadata": {},
   "outputs": [],
   "source": [
    "%%bash\n",
    "TOPDIR=gs://${BUCKET}\n",
    "OUTDIR=${TOPDIR}/poetry/model_full2\n",
    "DATADIR=${TOPDIR}/poetry/data\n",
    "MODEL=transformer\n",
    "HPARAMS=transformer_poetry\n",
    "BEAM_SIZE=4\n",
    "ALPHA=0.6\n",
    "\n",
    "t2t-exporter \\\n",
    "  --model=$MODEL \\\n",
    "  --hparams_set=$HPARAMS \\\n",
    "  --problem=$PROBLEM \\\n",
    "  --t2t_usr_dir=./poetry/trainer \\\n",
    "  --decode_hparams=\"beam_size=$BEAM_SIZE,alpha=$ALPHA\" \\\n",
    "  --data_dir=$DATADIR \\\n",
    "  --output_dir=$OUTDIR"
   ]
  },
  {
   "cell_type": "code",
   "execution_count": null,
   "metadata": {},
   "outputs": [],
   "source": [
    "%%bash\n",
    "MODEL_LOCATION=$(gsutil ls gs://${BUCKET}/poetry/model_full2/export/Servo | tail -1)\n",
    "echo $MODEL_LOCATION\n",
    "saved_model_cli show --dir $MODEL_LOCATION --tag_set serve --signature_def serving_default"
   ]
  },
  {
   "cell_type": "markdown",
   "metadata": {},
   "source": [
    "#### Cloud ML Engine"
   ]
  },
  {
   "cell_type": "code",
   "execution_count": null,
   "metadata": {},
   "outputs": [],
   "source": [
    "%%writefile mlengine.json\n",
    "description: Poetry service on ML Engine\n",
    "autoScaling:\n",
    "    minNodes: 1  # We don't want this model to autoscale down to zero"
   ]
  },
  {
   "cell_type": "code",
   "execution_count": null,
   "metadata": {},
   "outputs": [],
   "source": [
    "%%bash\n",
    "MODEL_NAME=\"poetry\"\n",
    "MODEL_VERSION=\"v1\"\n",
    "MODEL_LOCATION=$(gsutil ls gs://${BUCKET}/poetry/model_full2/export/Servo | tail -1)\n",
    "echo \"Deleting and deploying $MODEL_NAME $MODEL_VERSION from $MODEL_LOCATION ... this will take a few minutes\"\n",
    "gcloud ml-engine versions delete ${MODEL_VERSION} --model ${MODEL_NAME}\n",
    "#gcloud ml-engine models delete ${MODEL_NAME}\n",
    "#gcloud ml-engine models create ${MODEL_NAME} --regions $REGION\n",
    "gcloud alpha ml-engine versions create --machine-type=mls1-highcpu-4 ${MODEL_VERSION} \\\n",
    "       --model ${MODEL_NAME} --origin ${MODEL_LOCATION} --runtime-version=1.5 --config=mlengine.json"
   ]
  },
  {
   "cell_type": "code",
   "execution_count": null,
   "metadata": {},
   "outputs": [],
   "source": [
    "%%bash\n",
    "gcloud components update --quiet\n",
    "gcloud components install alpha --quiet"
   ]
  },
  {
   "cell_type": "code",
   "execution_count": null,
   "metadata": {},
   "outputs": [],
   "source": [
    "%%bash\n",
    "MODEL_NAME=\"poetry\"\n",
    "MODEL_VERSION=\"v1\"\n",
    "MODEL_LOCATION=$(gsutil ls gs://${BUCKET}/poetry/model_full2/export/Servo | tail -1)\n",
    "gcloud alpha ml-engine versions create --machine-type=mls1-highcpu-4 ${MODEL_VERSION} \\\n",
    "       --model ${MODEL_NAME} --origin ${MODEL_LOCATION} --runtime-version=1.5 --config=mlengine.json"
   ]
  },
  {
   "cell_type": "markdown",
   "metadata": {},
   "source": [
    "#### Kubeflow\n",
    "\n",
    "Follow these instructions:\n",
    "* On the GCP console, launch a Google Kubernetes Engine (GKE) cluster named 'poetry' with 2 nodes, each of which is a n1-standard-2 (2 vCPUs, 7.5 GB memory) VM\n",
    "* On the GCP console, click on the Connect button for your cluster, and choose the CloudShell option\n",
    "* In CloudShell, run: \n",
    "    ```\n",
    "    git clone https://github.com/GoogleCloudPlatform/training-data-analyst`\n",
    "    cd training-data-analyst/courses/machine_learning/deepdive/09_sequence\n",
    "    ```\n",
    "* Look at [`./setup_kubeflow.sh`](setup_kubeflow.sh) and modify as appropriate."
   ]
  },
  {
   "cell_type": "markdown",
   "metadata": {},
   "source": [
    "### AppEngine\n",
    "\n",
    "What's deployed in Cloud ML Engine or Kubeflow is only the TensorFlow model. We still need a preprocessing service. That is done using AppEngine.  Edit application/app.yaml appropriately."
   ]
  },
  {
   "cell_type": "code",
   "execution_count": null,
   "metadata": {},
   "outputs": [],
   "source": [
    "!cat application/app.yaml"
   ]
  },
  {
   "cell_type": "code",
   "execution_count": null,
   "metadata": {},
   "outputs": [],
   "source": [
    "%%bash\n",
    "cd application\n",
    "#gcloud app create  # if this is your first app\n",
    "#gcloud app deploy --quiet --stop-previous-version app.yaml"
   ]
  },
  {
   "cell_type": "markdown",
   "metadata": {},
   "source": [
    "Now visit https://mlpoetry-dot-cloud-training-demos.appspot.com and try out the prediction app!\n",
    "\n",
    "<img src=\"diagrams/poetry_app.png\" width=\"50%\"/>"
   ]
  },
  {
   "cell_type": "markdown",
   "metadata": {},
   "source": [
    "Copyright 2018 Google Inc. Licensed under the Apache License, Version 2.0 (the \\\"License\\\"); you may not use this file except in compliance with the License. You may obtain a copy of the License at http://www.apache.org/licenses/LICENSE-2.0 Unless required by applicable law or agreed to in writing, software distributed under the License is distributed on an \\\"AS IS\\\" BASIS, WITHOUT WARRANTIES OR CONDITIONS OF ANY KIND, either express or implied. See the License for the specific language governing permissions and limitations under the License"
   ]
  }
 ],
 "metadata": {
  "kernelspec": {
   "display_name": "Python 2",
   "language": "python",
   "name": "python2"
  },
  "language_info": {
   "codemirror_mode": {
    "name": "ipython",
    "version": 2
   },
   "file_extension": ".py",
   "mimetype": "text/x-python",
   "name": "python",
   "nbconvert_exporter": "python",
   "pygments_lexer": "ipython2",
   "version": "2.7.15"
  }
 },
 "nbformat": 4,
 "nbformat_minor": 2
}
