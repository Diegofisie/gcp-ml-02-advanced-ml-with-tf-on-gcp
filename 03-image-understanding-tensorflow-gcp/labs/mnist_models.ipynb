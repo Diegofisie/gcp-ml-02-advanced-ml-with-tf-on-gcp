{
 "cells": [
  {
   "cell_type": "markdown",
   "metadata": {},
   "source": [
    "# MNIST Image Classification with TensorFlow on Cloud ML Engine\n",
    "\n",
    "This notebook demonstrates how to implement different image models on MNIST using Estimator. \n",
    "\n",
    "Note the MODEL_TYPE; change it to try out different models"
   ]
  },
  {
   "cell_type": "code",
   "execution_count": 5,
   "metadata": {},
   "outputs": [],
   "source": [
    "import os\n",
    "PROJECT = 'cloud-training-demos' # REPLACE WITH YOUR PROJECT ID\n",
    "BUCKET = 'cloud-training-demos-ml' # REPLACE WITH YOUR BUCKET NAME\n",
    "REGION = 'us-central1' # REPLACE WITH YOUR BUCKET REGION e.g. us-central1\n",
    "MODEL_TYPE='dnn_dropout'  # 'linear', 'dnn', 'dnn_dropout', or 'cnn'\n",
    "\n",
    "# do not change these\n",
    "os.environ['PROJECT'] = PROJECT\n",
    "os.environ['BUCKET'] = BUCKET\n",
    "os.environ['REGION'] = REGION\n",
    "os.environ['MODEL_TYPE'] = MODEL_TYPE\n",
    "os.environ['TFVERSION'] = '1.8'  # Tensorflow version"
   ]
  },
  {
   "cell_type": "code",
   "execution_count": 6,
   "metadata": {},
   "outputs": [
    {
     "name": "stdout",
     "output_type": "stream",
     "text": [
      "qwiklabs-gcp-120695964d64ec72\n",
      "inna-bckt-120695964d64ec72\n",
      "gsutil mb -l europe-west1 gs://inna-bckt-120695964d64ec72\n",
      "[]\n",
      "[]\n"
     ]
    }
   ],
   "source": [
    "import os\n",
    "output = os.popen(\"gcloud config get-value project\").readlines()\n",
    "project_name = output[0][:-1]\n",
    "\n",
    "# change these to try this notebook out\n",
    "PROJECT = project_name\n",
    "BUCKET = project_name\n",
    "BUCKET = BUCKET.replace(\"qwiklabs-gcp-\", \"inna-bckt-\")\n",
    "REGION = 'europe-west1'  ## note: Cloud ML Engine not availabe in europe-west3!\n",
    "\n",
    "# set environment variables:\n",
    "os.environ['BUCKET'] = BUCKET\n",
    "os.environ['PROJECT'] = PROJECT\n",
    "os.environ['REGION'] = REGION\n",
    "\n",
    "print(PROJECT)\n",
    "print(BUCKET)\n",
    "print(\"gsutil mb -l {0} gs://{1}\".format(REGION, BUCKET))\n",
    "\n",
    "## set config for gcp config: [[?]]\n",
    "print(os.popen(\"gcloud config set project $PROJECT\").readlines())\n",
    "print(os.popen(\"gcloud config set compute/region $REGION\").readlines())"
   ]
  },
  {
   "cell_type": "code",
   "execution_count": 7,
   "metadata": {},
   "outputs": [
    {
     "name": "stderr",
     "output_type": "stream",
     "text": [
      "Updated property [core/project].\n",
      "Updated property [compute/region].\n"
     ]
    }
   ],
   "source": [
    "%bash\n",
    "gcloud config set project $PROJECT\n",
    "gcloud config set compute/region $REGION"
   ]
  },
  {
   "cell_type": "markdown",
   "metadata": {},
   "source": [
    "## Run as a Python module\n",
    "\n",
    "In the previous notebook (mnist_linear.ipynb) we ran our code directly from the notebook.\n",
    "\n",
    "Now since we want to run our code on Cloud ML Engine, we've packaged it as a python module.\n",
    "\n",
    "The `model.py` and `task.py` containing the model code is in <a href=\"mnistmodel/trainer\">mnistmodel/trainer</a>\n",
    "\n",
    "**Complete the TODOs in `model.py` before proceeding!**\n",
    "\n",
    "Once you've completed the TODOs, set MODEL_TYPE and run it locally for a few steps to test the code."
   ]
  },
  {
   "cell_type": "code",
   "execution_count": 8,
   "metadata": {},
   "outputs": [
    {
     "name": "stdout",
     "output_type": "stream",
     "text": [
      "dnn_dropout\r\n"
     ]
    }
   ],
   "source": [
    "!echo $MODEL_TYPE"
   ]
  },
  {
   "cell_type": "code",
   "execution_count": 9,
   "metadata": {},
   "outputs": [
    {
     "name": "stdout",
     "output_type": "stream",
     "text": [
      "Successfully downloaded train-images-idx3-ubyte.gz 9912422 bytes.\n",
      "Extracting mnist/data/train-images-idx3-ubyte.gz\n",
      "Successfully downloaded train-labels-idx1-ubyte.gz 28881 bytes.\n",
      "Extracting mnist/data/train-labels-idx1-ubyte.gz\n",
      "Successfully downloaded t10k-images-idx3-ubyte.gz 1648877 bytes.\n",
      "Extracting mnist/data/t10k-images-idx3-ubyte.gz\n",
      "Successfully downloaded t10k-labels-idx1-ubyte.gz 4542 bytes.\n",
      "Extracting mnist/data/t10k-labels-idx1-ubyte.gz\n"
     ]
    },
    {
     "name": "stderr",
     "output_type": "stream",
     "text": [
      "/usr/local/envs/py3env/lib/python3.5/site-packages/h5py/__init__.py:36: FutureWarning: Conversion of the second argument of issubdtype from `float` to `np.floating` is deprecated. In future, it will be treated as `np.float64 == np.dtype(float).type`.\n",
      "  from ._conv import register_converters as _register_converters\n",
      "WARNING:tensorflow:From /content/datalab/gcp-ml-02-advanced-ml-with-tf-on-gcp/03-image-understanding-tensorflow-gcp/labs/mnistmodel/trainer/model.py:159: read_data_sets (from tensorflow.contrib.learn.python.learn.datasets.mnist) is deprecated and will be removed in a future version.\n",
      "Instructions for updating:\n",
      "Please use alternatives such as official/mnist/dataset.py from tensorflow/models.\n",
      "WARNING:tensorflow:From /usr/local/envs/py3env/lib/python3.5/site-packages/tensorflow/contrib/learn/python/learn/datasets/mnist.py:260: maybe_download (from tensorflow.contrib.learn.python.learn.datasets.base) is deprecated and will be removed in a future version.\n",
      "Instructions for updating:\n",
      "Please write your own downloading logic.\n",
      "WARNING:tensorflow:From /usr/local/envs/py3env/lib/python3.5/site-packages/tensorflow/contrib/learn/python/learn/datasets/base.py:252: _internal_retry.<locals>.wrap.<locals>.wrapped_fn (from tensorflow.contrib.learn.python.learn.datasets.base) is deprecated and will be removed in a future version.\n",
      "Instructions for updating:\n",
      "Please use urllib or similar directly.\n",
      "WARNING:tensorflow:From /usr/local/envs/py3env/lib/python3.5/site-packages/tensorflow/contrib/learn/python/learn/datasets/mnist.py:262: extract_images (from tensorflow.contrib.learn.python.learn.datasets.mnist) is deprecated and will be removed in a future version.\n",
      "Instructions for updating:\n",
      "Please use tf.data to implement this functionality.\n",
      "WARNING:tensorflow:From /usr/local/envs/py3env/lib/python3.5/site-packages/tensorflow/contrib/learn/python/learn/datasets/mnist.py:267: extract_labels (from tensorflow.contrib.learn.python.learn.datasets.mnist) is deprecated and will be removed in a future version.\n",
      "Instructions for updating:\n",
      "Please use tf.data to implement this functionality.\n",
      "WARNING:tensorflow:From /usr/local/envs/py3env/lib/python3.5/site-packages/tensorflow/contrib/learn/python/learn/datasets/mnist.py:110: dense_to_one_hot (from tensorflow.contrib.learn.python.learn.datasets.mnist) is deprecated and will be removed in a future version.\n",
      "Instructions for updating:\n",
      "Please use tf.one_hot on tensors.\n",
      "WARNING:tensorflow:From /usr/local/envs/py3env/lib/python3.5/site-packages/tensorflow/contrib/learn/python/learn/datasets/mnist.py:290: DataSet.__init__ (from tensorflow.contrib.learn.python.learn.datasets.mnist) is deprecated and will be removed in a future version.\n",
      "Instructions for updating:\n",
      "Please use alternatives such as official/mnist/dataset.py from tensorflow/models.\n",
      "INFO:tensorflow:TF_CONFIG environment variable: {'environment': 'cloud', 'task': {}, 'cluster': {}, 'job': {'job_name': 'trainer.task', 'args': ['--output_dir=/content/datalab/gcp-ml-02-advanced-ml-with-tf-on-gcp/03-image-understanding-tensorflow-gcp/labs/mnist_trained', '--train_steps=100', '--learning_rate=0.01', '--model=dnn_dropout']}}\n",
      "INFO:tensorflow:Using config: {'_global_id_in_cluster': 0, '_session_config': None, '_is_chief': True, '_task_id': 0, '_save_checkpoints_steps': None, '_save_checkpoints_secs': 60, '_master': '', '_num_worker_replicas': 1, '_model_dir': '/content/datalab/gcp-ml-02-advanced-ml-with-tf-on-gcp/03-image-understanding-tensorflow-gcp/labs/mnist_trained/', '_tf_random_seed': None, '_keep_checkpoint_max': 5, '_service': None, '_task_type': 'worker', '_save_summary_steps': 100, '_cluster_spec': <tensorflow.python.training.server_lib.ClusterSpec object at 0x7fb01d4395f8>, '_train_distribute': None, '_num_ps_replicas': 0, '_keep_checkpoint_every_n_hours': 10000, '_evaluation_master': '', '_log_step_count_steps': 100}\n",
      "INFO:tensorflow:Running training and evaluation locally (non-distributed).\n",
      "INFO:tensorflow:Start train and evaluate loop. The evaluate will happen after 60 secs (eval_spec.throttle_secs) or training is finished.\n",
      "INFO:tensorflow:Calling model_fn.\n",
      "INFO:tensorflow:Done calling model_fn.\n",
      "INFO:tensorflow:Create CheckpointSaverHook.\n",
      "INFO:tensorflow:Graph was finalized.\n",
      "INFO:tensorflow:Running local_init_op.\n",
      "INFO:tensorflow:Done running local_init_op.\n",
      "INFO:tensorflow:Saving checkpoints for 1 into /content/datalab/gcp-ml-02-advanced-ml-with-tf-on-gcp/03-image-understanding-tensorflow-gcp/labs/mnist_trained/model.ckpt.\n",
      "INFO:tensorflow:step = 1, loss = 2.2865615\n",
      "INFO:tensorflow:Saving checkpoints for 100 into /content/datalab/gcp-ml-02-advanced-ml-with-tf-on-gcp/03-image-understanding-tensorflow-gcp/labs/mnist_trained/model.ckpt.\n",
      "INFO:tensorflow:Loss for final step: 0.43948138.\n",
      "INFO:tensorflow:Calling model_fn.\n",
      "INFO:tensorflow:Done calling model_fn.\n",
      "INFO:tensorflow:Starting evaluation at 2019-02-21-14:10:22\n",
      "INFO:tensorflow:Graph was finalized.\n",
      "INFO:tensorflow:Restoring parameters from /content/datalab/gcp-ml-02-advanced-ml-with-tf-on-gcp/03-image-understanding-tensorflow-gcp/labs/mnist_trained/model.ckpt-100\n",
      "INFO:tensorflow:Running local_init_op.\n",
      "INFO:tensorflow:Done running local_init_op.\n",
      "INFO:tensorflow:Finished evaluation at 2019-02-21-14:10:23\n",
      "INFO:tensorflow:Saving dict for global step 100: accuracy = 0.9138, global_step = 100, loss = 0.31094196\n",
      "INFO:tensorflow:Calling model_fn.\n",
      "INFO:tensorflow:Done calling model_fn.\n",
      "INFO:tensorflow:Signatures INCLUDED in export for Classify: None\n",
      "INFO:tensorflow:Signatures INCLUDED in export for Regress: None\n",
      "INFO:tensorflow:Signatures INCLUDED in export for Predict: ['classes', 'serving_default']\n",
      "INFO:tensorflow:Restoring parameters from /content/datalab/gcp-ml-02-advanced-ml-with-tf-on-gcp/03-image-understanding-tensorflow-gcp/labs/mnist_trained/model.ckpt-100\n",
      "INFO:tensorflow:Assets added to graph.\n",
      "INFO:tensorflow:No assets to write.\n",
      "INFO:tensorflow:SavedModel written to: b\"/content/datalab/gcp-ml-02-advanced-ml-with-tf-on-gcp/03-image-understanding-tensorflow-gcp/labs/mnist_trained/export/exporter/temp-b'1550758223'/saved_model.pb\"\n",
      "INFO:tensorflow:Calling model_fn.\n",
      "INFO:tensorflow:Done calling model_fn.\n",
      "INFO:tensorflow:Signatures INCLUDED in export for Classify: None\n",
      "INFO:tensorflow:Signatures INCLUDED in export for Regress: None\n",
      "INFO:tensorflow:Signatures INCLUDED in export for Predict: ['classes', 'serving_default']\n",
      "INFO:tensorflow:Restoring parameters from /content/datalab/gcp-ml-02-advanced-ml-with-tf-on-gcp/03-image-understanding-tensorflow-gcp/labs/mnist_trained/model.ckpt-100\n",
      "INFO:tensorflow:Assets added to graph.\n",
      "INFO:tensorflow:No assets to write.\n",
      "INFO:tensorflow:SavedModel written to: b\"saved_model/temp-b'1550758223'/saved_model.pb\"\n"
     ]
    }
   ],
   "source": [
    "%bash\n",
    "rm -rf mnistmodel.tar.gz mnist_trained\n",
    "gcloud ml-engine local train \\\n",
    "   --module-name=trainer.task \\\n",
    "   --package-path=${PWD}/mnistmodel/trainer \\\n",
    "   -- \\\n",
    "   --output_dir=${PWD}/mnist_trained \\\n",
    "   --train_steps=100 \\\n",
    "   --learning_rate=0.01 \\\n",
    "   --model=$MODEL_TYPE"
   ]
  },
  {
   "cell_type": "markdown",
   "metadata": {},
   "source": [
    "**Now, let's do it on Cloud ML Engine so we can train on GPU:** `--scale-tier=BASIC_GPU`\n",
    "\n",
    "Note the GPU speed up depends on the model type. You'll notice the more complex CNN model trains significantly faster on GPU, however the speed up on the simpler models is not as pronounced."
   ]
  },
  {
   "cell_type": "code",
   "execution_count": 10,
   "metadata": {},
   "outputs": [
    {
     "name": "stdout",
     "output_type": "stream",
     "text": [
      "gs://inna-bckt-120695964d64ec72/mnist/trained_dnn_dropout europe-west1 mnist_dnn_dropout_190221_141035\n",
      "jobId: mnist_dnn_dropout_190221_141035\n",
      "state: QUEUED\n"
     ]
    },
    {
     "name": "stderr",
     "output_type": "stream",
     "text": [
      "CommandException: 1 files/objects could not be removed.\n",
      "Job [mnist_dnn_dropout_190221_141035] submitted successfully.\n",
      "Your job is still active. You may view the status of your job with the command\n",
      "\n",
      "  $ gcloud ml-engine jobs describe mnist_dnn_dropout_190221_141035\n",
      "\n",
      "or continue streaming the logs with the command\n",
      "\n",
      "  $ gcloud ml-engine jobs stream-logs mnist_dnn_dropout_190221_141035\n"
     ]
    }
   ],
   "source": [
    "%bash\n",
    "OUTDIR=gs://${BUCKET}/mnist/trained_${MODEL_TYPE}\n",
    "JOBNAME=mnist_${MODEL_TYPE}_$(date -u +%y%m%d_%H%M%S)\n",
    "echo $OUTDIR $REGION $JOBNAME\n",
    "gsutil -m rm -rf $OUTDIR\n",
    "gcloud ml-engine jobs submit training $JOBNAME \\\n",
    "   --region=$REGION \\\n",
    "   --module-name=trainer.task \\\n",
    "   --package-path=${PWD}/mnistmodel/trainer \\\n",
    "   --job-dir=$OUTDIR \\\n",
    "   --staging-bucket=gs://$BUCKET \\\n",
    "   --scale-tier=BASIC_GPU \\\n",
    "   --runtime-version=$TFVERSION \\\n",
    "   -- \\\n",
    "   --output_dir=$OUTDIR \\\n",
    "   --train_steps=10000 --learning_rate=0.01 --train_batch_size=512 \\\n",
    "   --model=$MODEL_TYPE --batch_norm"
   ]
  },
  {
   "cell_type": "markdown",
   "metadata": {},
   "source": [
    "## Monitoring training with TensorBoard\n",
    "\n",
    "Use this cell to launch tensorboard"
   ]
  },
  {
   "cell_type": "code",
   "execution_count": 11,
   "metadata": {},
   "outputs": [
    {
     "name": "stderr",
     "output_type": "stream",
     "text": [
      "/usr/local/envs/py3env/lib/python3.5/site-packages/h5py/__init__.py:36: FutureWarning: Conversion of the second argument of issubdtype from `float` to `np.floating` is deprecated. In future, it will be treated as `np.float64 == np.dtype(float).type`.\n",
      "  from ._conv import register_converters as _register_converters\n"
     ]
    },
    {
     "data": {
      "text/html": [
       "<p>TensorBoard was started successfully with pid 4450. Click <a href=\"/_proxy/50383/\" target=\"_blank\">here</a> to access it.</p>"
      ]
     },
     "metadata": {},
     "output_type": "display_data"
    },
    {
     "data": {
      "text/plain": [
       "4450"
      ]
     },
     "execution_count": 11,
     "metadata": {},
     "output_type": "execute_result"
    }
   ],
   "source": [
    "from google.datalab.ml import TensorBoard\n",
    "TensorBoard().start('gs://{}/mnist/trained_{}'.format(BUCKET, MODEL_TYPE))"
   ]
  },
  {
   "cell_type": "code",
   "execution_count": 11,
   "metadata": {},
   "outputs": [
    {
     "name": "stdout",
     "output_type": "stream",
     "text": [
      "Stopped TensorBoard with pid 4013\n"
     ]
    }
   ],
   "source": [
    "for pid in TensorBoard.list()['pid']:\n",
    "  TensorBoard().stop(pid)\n",
    "  print('Stopped TensorBoard with pid {}'.format(pid))"
   ]
  },
  {
   "cell_type": "markdown",
   "metadata": {},
   "source": [
    "Here are my results:\n",
    "\n",
    "```\n",
    "Model | Accuracy | Time taken | Model description | Run time parameters\n",
    "--- | :---: | ---\n",
    "linear | 91.53 | 3 min | linear | 100 steps, LR=0.01, Batch=512\n",
    "linear | 92.73 | 8 min | linear | 1000 steps, LR=0.01, Batch=512\n",
    "linear | 92.29 | 18 min | linear | 10000 steps, LR=0.01, Batch=512\n",
    "dnn | 98.14 | 15 min | 300-100-30 nodes fully connected | 10000 steps, LR=0.01, Batch=512\n",
    "dnn | 97.99 | 48 min | 300-100-30 nodes fully connected | 100000 steps, LR=0.01, Batch=512\n",
    "dnn_dropout | 97.84 | 29 min | 300-100-30-DL(0.1)- nodes | 20000 steps, LR=0.01, Batch=512\n",
    "cnn | 98.97 | 35 min | maxpool(10 5x5 cnn, 2)-maxpool(20 5x5 cnn, 2)-300-DL(0.25) | 20000 steps, LR=0.01, Batch=512\n",
    "cnn | 98.93 | 35 min | maxpool(10 11x11 cnn, 2)-maxpool(20 3x3 cnn, 2)-300-DL(0.25) | 20000 steps, LR=0.01, Batch=512\n",
    "cnn | 99.17 | 35 min | maxpool(10 11x11 cnn, 2)-maxpool(20 3x3 cnn, 2)-300-DL(0.25), batch_norm (logits only) | 20000 steps, LR=0.01, Batch=512\n",
    "cnn | 99.27 | 35 min | maxpool(10 11x11 cnn, 2)-maxpool(20 3x3 cnn, 2)-300-DL(0.25), batch_norm (logits, deep) | 10000 steps, LR=0.01, Batch=512\n",
    "cnn | 99.48 | 12 hr | as-above but nfil1=20, nfil2=27, dprob=0.1, lr=0.001, batchsize=233 | (hyperparameter optimization)\n",
    "```\n",
    "\n",
    "Create a table to keep track of your own results as you experiment with model type and hyperparameters!"
   ]
  },
  {
   "cell_type": "markdown",
   "metadata": {},
   "source": [
    "From logs in Cloud ML GCP Page:\n",
    "\n",
    "```\n",
    "| Model            | Loss for final step |\n",
    "| ---------------- | -----------------  |\n",
    "| DNN              | 0.0024385566        |\n",
    "| DNN with dropout | 0.08717914          | Saving dict for global step 10000: accuracy = 0.9714, global_step = 10000, loss = 0.19375572\n",
    "```"
   ]
  },
  {
   "cell_type": "markdown",
   "metadata": {},
   "source": [
    "## Deploying and predicting with model\n",
    "\n",
    "Deploy the model:"
   ]
  },
  {
   "cell_type": "code",
   "execution_count": 12,
   "metadata": {},
   "outputs": [
    {
     "name": "stdout",
     "output_type": "stream",
     "text": [
      "Deleting and deploying mnist dnn_dropout from gs://inna-bckt-120695964d64ec72/mnist/trained_dnn_dropout/export/exporter/1550758525/ ... this will take a few minutes\n"
     ]
    },
    {
     "name": "stderr",
     "output_type": "stream",
     "text": [
      "Created ml engine model [projects/qwiklabs-gcp-120695964d64ec72/models/mnist].\n",
      "Creating version (this might take a few minutes)......\n",
      "...............................................................................................................................................................................................................................................................................................................................................................................done.\n"
     ]
    }
   ],
   "source": [
    "%bash\n",
    "MODEL_NAME=\"mnist\"\n",
    "MODEL_VERSION=${MODEL_TYPE}\n",
    "MODEL_LOCATION=$(gsutil ls gs://${BUCKET}/mnist/trained_${MODEL_TYPE}/export/exporter | tail -1)\n",
    "echo \"Deleting and deploying $MODEL_NAME $MODEL_VERSION from $MODEL_LOCATION ... this will take a few minutes\"\n",
    "#gcloud ml-engine versions delete ${MODEL_VERSION} --model ${MODEL_NAME}\n",
    "#gcloud ml-engine models delete ${MODEL_NAME}\n",
    "gcloud ml-engine models create ${MODEL_NAME} --regions $REGION\n",
    "gcloud ml-engine versions create ${MODEL_VERSION} --model ${MODEL_NAME} --origin ${MODEL_LOCATION} --runtime-version=$TFVERSION"
   ]
  },
  {
   "cell_type": "markdown",
   "metadata": {},
   "source": [
    "To predict with the model, let's take one of the example images."
   ]
  },
  {
   "cell_type": "code",
   "execution_count": 13,
   "metadata": {},
   "outputs": [
    {
     "name": "stdout",
     "output_type": "stream",
     "text": [
      "WARNING:tensorflow:From <ipython-input-13-0bc50dc1890f>:8: read_data_sets (from tensorflow.contrib.learn.python.learn.datasets.mnist) is deprecated and will be removed in a future version.\n",
      "Instructions for updating:\n",
      "Please use alternatives such as official/mnist/dataset.py from tensorflow/models.\n",
      "WARNING:tensorflow:From /usr/local/envs/py3env/lib/python3.5/site-packages/tensorflow/contrib/learn/python/learn/datasets/mnist.py:260: maybe_download (from tensorflow.contrib.learn.python.learn.datasets.base) is deprecated and will be removed in a future version.\n",
      "Instructions for updating:\n",
      "Please write your own downloading logic.\n",
      "WARNING:tensorflow:From /usr/local/envs/py3env/lib/python3.5/site-packages/tensorflow/contrib/learn/python/learn/datasets/base.py:252: _internal_retry.<locals>.wrap.<locals>.wrapped_fn (from tensorflow.contrib.learn.python.learn.datasets.base) is deprecated and will be removed in a future version.\n",
      "Instructions for updating:\n",
      "Please use urllib or similar directly.\n",
      "Successfully downloaded train-images-idx3-ubyte.gz 9912422 bytes.\n",
      "WARNING:tensorflow:From /usr/local/envs/py3env/lib/python3.5/site-packages/tensorflow/contrib/learn/python/learn/datasets/mnist.py:262: extract_images (from tensorflow.contrib.learn.python.learn.datasets.mnist) is deprecated and will be removed in a future version.\n",
      "Instructions for updating:\n",
      "Please use tf.data to implement this functionality.\n",
      "Extracting mnist/data/train-images-idx3-ubyte.gz\n",
      "Successfully downloaded train-labels-idx1-ubyte.gz 28881 bytes.\n",
      "WARNING:tensorflow:From /usr/local/envs/py3env/lib/python3.5/site-packages/tensorflow/contrib/learn/python/learn/datasets/mnist.py:267: extract_labels (from tensorflow.contrib.learn.python.learn.datasets.mnist) is deprecated and will be removed in a future version.\n",
      "Instructions for updating:\n",
      "Please use tf.data to implement this functionality.\n",
      "Extracting mnist/data/train-labels-idx1-ubyte.gz\n",
      "WARNING:tensorflow:From /usr/local/envs/py3env/lib/python3.5/site-packages/tensorflow/contrib/learn/python/learn/datasets/mnist.py:110: dense_to_one_hot (from tensorflow.contrib.learn.python.learn.datasets.mnist) is deprecated and will be removed in a future version.\n",
      "Instructions for updating:\n",
      "Please use tf.one_hot on tensors.\n",
      "Successfully downloaded t10k-images-idx3-ubyte.gz 1648877 bytes.\n",
      "Extracting mnist/data/t10k-images-idx3-ubyte.gz\n",
      "Successfully downloaded t10k-labels-idx1-ubyte.gz 4542 bytes.\n",
      "Extracting mnist/data/t10k-labels-idx1-ubyte.gz\n",
      "WARNING:tensorflow:From /usr/local/envs/py3env/lib/python3.5/site-packages/tensorflow/contrib/learn/python/learn/datasets/mnist.py:290: DataSet.__init__ (from tensorflow.contrib.learn.python.learn.datasets.mnist) is deprecated and will be removed in a future version.\n",
      "Instructions for updating:\n",
      "Please use alternatives such as official/mnist/dataset.py from tensorflow/models.\n"
     ]
    },
    {
     "name": "stderr",
     "output_type": "stream",
     "text": [
      "/usr/local/envs/py3env/lib/python3.5/site-packages/matplotlib/font_manager.py:1320: UserWarning: findfont: Font family ['sans-serif'] not found. Falling back to DejaVu Sans\n",
      "  (prop.get_family(), self.defaultFamily[fontext]))\n"
     ]
    },
    {
     "data": {
      "image/png": "[encoded data removed]",
      "text/plain": [
       "<matplotlib.figure.Figure at 0x7fb61f91d208>"
      ]
     },
     "metadata": {},
     "output_type": "display_data"
    }
   ],
   "source": [
    "import json, codecs\n",
    "import matplotlib.pyplot as plt\n",
    "from tensorflow.examples.tutorials.mnist import input_data\n",
    "\n",
    "HEIGHT=28\n",
    "WIDTH=28\n",
    "\n",
    "mnist = input_data.read_data_sets('mnist/data', one_hot=True, reshape=False)\n",
    "IMGNO=5 #CHANGE THIS to get different images\n",
    "jsondata = {'image': mnist.test.images[IMGNO].reshape(HEIGHT, WIDTH).tolist()}\n",
    "json.dump(jsondata, codecs.open('test.json', 'w', encoding='utf-8'))\n",
    "plt.imshow(mnist.test.images[IMGNO].reshape(HEIGHT, WIDTH));"
   ]
  },
  {
   "cell_type": "markdown",
   "metadata": {},
   "source": [
    "Send it to the prediction service"
   ]
  },
  {
   "cell_type": "code",
   "execution_count": 14,
   "metadata": {},
   "outputs": [
    {
     "name": "stdout",
     "output_type": "stream",
     "text": [
      "CLASSES  PROBABILITIES\n",
      "1        [6.296275000631441e-30, 1.0, 1.8646024367974916e-28, 6.413484539171141e-29, 6.740793685627217e-20, 8.823438499032172e-27, 3.183225285434738e-36, 2.819988924516263e-20, 2.6393468285896378e-15, 3.232898161415615e-13]\n"
     ]
    }
   ],
   "source": [
    "%bash\n",
    "gcloud ml-engine predict \\\n",
    "   --model=mnist \\\n",
    "   --version=${MODEL_TYPE} \\\n",
    "   --json-instances=./test.json"
   ]
  },
  {
   "cell_type": "code",
   "execution_count": 31,
   "metadata": {},
   "outputs": [
    {
     "name": "stderr",
     "output_type": "stream",
     "text": [
      "Copying gs://inna-bckt-120695964d64ec72/mnist/trained_dnn_dropout/checkpoint...\n",
      "/ [0 files][    0.0 B/  178.0 B]                                                \r",
      "/ [1 files][  178.0 B/  178.0 B]                                                \r",
      "Copying gs://inna-bckt-120695964d64ec72/mnist/trained_dnn_dropout/eval/events.out.tfevents.1550758417.cmle-training-10523310352509293587...\n",
      "/ [1 files][  178.0 B/107.2 KiB]                                                \r",
      "-\r",
      "- [2 files][107.2 KiB/107.2 KiB]                                                \r\n",
      "==> NOTE: You are performing a sequence of gsutil operations that may\n",
      "run significantly faster if you instead use gsutil -m cp ... Please\n",
      "see the -m section under \"gsutil help options\" for further information\n",
      "about when gsutil -m can be advantageous.\n",
      "\n",
      "Copying gs://inna-bckt-120695964d64ec72/mnist/trained_dnn_dropout/events.out.tfevents.1550758394.cmle-training-10523310352509293587...\n",
      "- [2 files][107.2 KiB/520.1 KiB]                                                \r",
      "- [3 files][520.1 KiB/520.1 KiB]                                                \r",
      "Copying gs://inna-bckt-120695964d64ec72/mnist/trained_dnn_dropout/export/exporter/1550758420/saved_model.pb...\n",
      "- [3 files][520.1 KiB/543.7 KiB]                                                \r",
      "\\\r",
      "\\ [4 files][543.7 KiB/543.7 KiB]                                                \r",
      "Copying gs://inna-bckt-120695964d64ec72/mnist/trained_dnn_dropout/export/exporter/1550758420/variables/variables.data-00000-of-00001...\n",
      "\\ [4 files][543.7 KiB/  1.6 MiB]                                                \r",
      "|\r",
      "| [5 files][  1.6 MiB/  1.6 MiB]                                                \r",
      "Copying gs://inna-bckt-120695964d64ec72/mnist/trained_dnn_dropout/export/exporter/1550758420/variables/variables.index...\n",
      "| [5 files][  1.6 MiB/  1.6 MiB]                                                \r",
      "| [6 files][  1.6 MiB/  1.6 MiB]                                                \r",
      "Copying gs://inna-bckt-120695964d64ec72/mnist/trained_dnn_dropout/export/exporter/1550758476/saved_model.pb...\n",
      "| [6 files][  1.6 MiB/  1.6 MiB]                                                \r",
      "/\r",
      "/ [7 files][  1.6 MiB/  1.6 MiB]                                                \r",
      "Copying gs://inna-bckt-120695964d64ec72/mnist/trained_dnn_dropout/export/exporter/1550758476/variables/variables.data-00000-of-00001...\n",
      "/ [7 files][  1.6 MiB/  2.6 MiB]                                                \r",
      "/ [8 files][  2.6 MiB/  2.6 MiB]                                                \r",
      "Copying gs://inna-bckt-120695964d64ec72/mnist/trained_dnn_dropout/export/exporter/1550758476/variables/variables.index...\n",
      "/ [8 files][  2.6 MiB/  2.6 MiB]                                                \r",
      "-\r",
      "- [9 files][  2.6 MiB/  2.6 MiB]                                                \r",
      "Copying gs://inna-bckt-120695964d64ec72/mnist/trained_dnn_dropout/export/exporter/1550758525/saved_model.pb...\n",
      "- [9 files][  2.6 MiB/  2.6 MiB]                                                \r",
      "- [10 files][  2.6 MiB/  2.6 MiB]                                               \r",
      "Copying gs://inna-bckt-120695964d64ec72/mnist/trained_dnn_dropout/export/exporter/1550758525/variables/variables.data-00000-of-00001...\n",
      "- [10 files][  2.6 MiB/  3.7 MiB]                                               \r",
      "\\\r",
      "\\ [11 files][  3.7 MiB/  3.7 MiB]                                               \r",
      "Copying gs://inna-bckt-120695964d64ec72/mnist/trained_dnn_dropout/export/exporter/1550758525/variables/variables.index...\n",
      "\\ [11 files][  3.7 MiB/  3.7 MiB]                                               \r",
      "\\ [12 files][  3.7 MiB/  3.7 MiB]                                               \r",
      "Copying gs://inna-bckt-120695964d64ec72/mnist/trained_dnn_dropout/graph.pbtxt...\n",
      "\\ [12 files][  3.7 MiB/  3.9 MiB]                                               \r",
      "|\r",
      "| [13 files][  3.9 MiB/  3.9 MiB]                                               \r",
      "Copying gs://inna-bckt-120695964d64ec72/mnist/trained_dnn_dropout/model.ckpt-1.data-00000-of-00001...\n",
      "| [13 files][  3.9 MiB/  7.0 MiB]                                               \r",
      "| [14 files][  7.0 MiB/  7.0 MiB]                                               \r",
      "Copying gs://inna-bckt-120695964d64ec72/mnist/trained_dnn_dropout/model.ckpt-1.index...\n",
      "| [14 files][  7.0 MiB/  7.0 MiB]                                               \r",
      "/\r",
      "/ [15 files][  7.0 MiB/  7.0 MiB]                                               \r",
      "Copying gs://inna-bckt-120695964d64ec72/mnist/trained_dnn_dropout/model.ckpt-1.meta...\n",
      "/ [15 files][  7.0 MiB/  7.1 MiB]                                               \r",
      "/ [16 files][  7.1 MiB/  7.1 MiB]                                               \r",
      "Copying gs://inna-bckt-120695964d64ec72/mnist/trained_dnn_dropout/model.ckpt-10000.data-00000-of-00001...\n",
      "/ [16 files][  7.1 MiB/ 10.2 MiB]                                               \r",
      "-\r",
      "- [17 files][ 10.2 MiB/ 10.2 MiB]                                               \r",
      "Copying gs://inna-bckt-120695964d64ec72/mnist/trained_dnn_dropout/model.ckpt-10000.index...\n",
      "- [17 files][ 10.2 MiB/ 10.2 MiB]                                               \r",
      "- [18 files][ 10.2 MiB/ 10.2 MiB]                                               \r",
      "Copying gs://inna-bckt-120695964d64ec72/mnist/trained_dnn_dropout/model.ckpt-10000.meta...\n",
      "- [18 files][ 10.2 MiB/ 10.3 MiB]                                               \r",
      "\\\r",
      "\\ [19 files][ 10.3 MiB/ 10.3 MiB]                                               \r",
      "Copying gs://inna-bckt-120695964d64ec72/mnist/trained_dnn_dropout/model.ckpt-5903.data-00000-of-00001...\n",
      "\\ [19 files][ 10.3 MiB/ 13.4 MiB]                                               \r",
      "\\ [20 files][ 13.4 MiB/ 13.4 MiB]                                               \r",
      "Copying gs://inna-bckt-120695964d64ec72/mnist/trained_dnn_dropout/model.ckpt-5903.index...\n",
      "\\ [20 files][ 13.4 MiB/ 13.4 MiB]                                               \r",
      "|\r",
      "| [21 files][ 13.4 MiB/ 13.4 MiB]                                               \r",
      "Copying gs://inna-bckt-120695964d64ec72/mnist/trained_dnn_dropout/model.ckpt-5903.meta...\n",
      "| [21 files][ 13.4 MiB/ 13.5 MiB]                                               \r",
      "| [22 files][ 13.5 MiB/ 13.5 MiB]                                               \r\n",
      "==> NOTE: You are performing a sequence of gsutil operations that may\n",
      "run significantly faster if you instead use gsutil -m cp ... Please\n",
      "see the -m section under \"gsutil help options\" for further information\n",
      "about when gsutil -m can be advantageous.\n",
      "\n",
      "\n",
      "Operation completed over 22 objects/13.5 MiB.                                    \n"
     ]
    }
   ],
   "source": [
    "%bash\n",
    "## download model to local file system:\n",
    "\n",
    "## not:\n",
    "##inna-bckt-120695964d64ec72/mnist_dnn_dropout_190221_141035/9cf3b9b97d342bdc3693fa2db71bb3f23181dcebbe3abca3cb67b16374b7bcb8\n",
    "#gsutil cp -r gs://$BUCKET/mnist_dnn_dropout_190221_141035/9cf3b9b97d342bdc3693fa2db71bb3f23181dcebbe3abca3cb67b16374b7bcb8/* .\n",
    "\n",
    "##inna-bckt-120695964d64ec72/mnist/trained_dnn_dropout\n",
    "gsutil cp -r gs://$BUCKET/mnist/trained_dnn_dropout ."
   ]
  },
  {
   "cell_type": "code",
   "execution_count": 32,
   "metadata": {},
   "outputs": [
    {
     "name": "stdout",
     "output_type": "stream",
     "text": [
      "total 120\r\n",
      "-rw-r--r-- 1 root root 10305 Feb 21 14:01 flowers_fromscratch.ipynb\r\n",
      "drwxr-xr-x 2 root root  4096 Feb 21 14:01 \u001b[0m\u001b[01;34mflowersmodel\u001b[0m/\r\n",
      "drwxr-xr-x 3 root root  4096 Feb 21 14:31 \u001b[01;34mmnist\u001b[0m/\r\n",
      "-rw-r--r-- 1 root root 33824 Feb 21 14:01 mnist_linear.ipynb\r\n",
      "drwxr-xr-x 5 root root  4096 Feb 21 14:10 \u001b[01;34mmnistmodel\u001b[0m/\r\n",
      "-rw-r--r-- 1 root root  3938 Feb 21 14:38 mnistmodel-0.1.tar.gz\r\n",
      "-rw-r--r-- 1 root root 33504 Feb 21 14:42 mnist_models.ipynb\r\n",
      "drwxr-xr-x 4 root root  4096 Feb 21 14:10 \u001b[01;34mmnist_trained\u001b[0m/\r\n",
      "drwxr-xr-x 3 root root  4096 Feb 21 14:41 \u001b[01;34msaved_model\u001b[0m/\r\n",
      "-rw-r--r-- 1 root root  5234 Feb 21 14:31 test.json\r\n",
      "drwxr-xr-x 4 root root  4096 Feb 21 14:44 \u001b[01;34mtrained_dnn_dropout\u001b[0m/\r\n"
     ]
    }
   ],
   "source": [
    "ls -l"
   ]
  },
  {
   "cell_type": "code",
   "execution_count": 35,
   "metadata": {},
   "outputs": [
    {
     "name": "stdout",
     "output_type": "stream",
     "text": [
      "total 12\n",
      "drwxr-xr-x 3 root root 4096 Feb 21 14:44 1550758420\n",
      "drwxr-xr-x 3 root root 4096 Feb 21 14:44 1550758476\n",
      "drwxr-xr-x 3 root root 4096 Feb 21 14:44 1550758525\n"
     ]
    }
   ],
   "source": [
    "%bash\n",
    "ls -l ./trained_dnn_dropout/export/exporter"
   ]
  },
  {
   "cell_type": "code",
   "execution_count": 37,
   "metadata": {},
   "outputs": [
    {
     "name": "stdout",
     "output_type": "stream",
     "text": [
      "trained_dnn_dropout/export/exporter/1550758525\n"
     ]
    }
   ],
   "source": [
    "## find lates model on local disk:\n",
    "from pathlib import Path\n",
    "\n",
    "export_dir = 'trained_dnn_dropout/export/exporter'\n",
    "subdirs = [x for x in Path(export_dir).iterdir()\n",
    "           if x.is_dir() and 'temp' not in str(x)]\n",
    "latest = str(sorted(subdirs)[-1])\n",
    "\n",
    "print(latest)"
   ]
  },
  {
   "cell_type": "code",
   "execution_count": 38,
   "metadata": {},
   "outputs": [
    {
     "name": "stdout",
     "output_type": "stream",
     "text": [
      "INFO:tensorflow:Restoring parameters from b'trained_dnn_dropout/export/exporter/1550758525/variables/variables'\n",
      "{'probabilities': array([[5.1581509e-32, 1.6746537e-29, 1.5459124e-25, 1.2864612e-24,\n",
      "        5.1477368e-23, 1.4097667e-33, 0.0000000e+00, 1.0000000e+00,\n",
      "        1.7811661e-27, 1.4433911e-18],\n",
      "       [1.3794288e-32, 1.9851967e-16, 1.0000000e+00, 7.5243578e-17,\n",
      "        6.2289013e-24, 7.7694068e-30, 1.9215909e-28, 3.7283983e-23,\n",
      "        1.2532460e-18, 4.5717598e-21]], dtype=float32), 'classes': array([7, 2], dtype=uint8)}\n",
      "[7 2]\n"
     ]
    }
   ],
   "source": [
    "## load model from local disk and make predictions:\n",
    "from tensorflow.contrib import predictor\n",
    "\n",
    "predict_fn = predictor.from_saved_model(latest)\n",
    "\n",
    "pred = predict_fn({'image': mnist.test.images[0:2, :, :, 0]})\n",
    "print(pred)\n",
    "print(pred['classes'])"
   ]
  },
  {
   "cell_type": "code",
   "execution_count": 61,
   "metadata": {},
   "outputs": [
    {
     "name": "stdout",
     "output_type": "stream",
     "text": [
      "   label  pred  correct\n",
      "0      7     7     True\n",
      "1      2     2     True\n",
      "2      1     1     True\n",
      "3      0     0     True\n",
      "4      4     4     True\n",
      "Accuracy =  0.9714\n",
      "\n",
      "\n",
      "Accuracy by label:\n",
      "        correct\n",
      "label          \n",
      "0      0.981633\n",
      "1      0.987665\n",
      "2      0.970930\n",
      "3      0.971287\n",
      "4      0.967413\n",
      "5      0.969731\n",
      "6      0.975992\n",
      "7      0.962062\n",
      "8      0.964066\n",
      "9      0.961348\n"
     ]
    }
   ],
   "source": [
    "## make pandas dataframe from predictions:\n",
    "import pandas as pd\n",
    "import numpy as np\n",
    "\n",
    "pred = predict_fn({'image': mnist.test.images[:, :, :, 0]})['classes']\n",
    "\n",
    "dat_pred = pd.DataFrame({'label': np.argmax(mnist.test.labels, axis = 1),\n",
    "                         'pred' : pred})\n",
    "dat_pred['correct'] = (dat_pred['label'] == dat_pred['pred'])\n",
    "print(dat_pred.head(n = 5))\n",
    "\n",
    "\n",
    "acc = dat_pred['correct'].mean()\n",
    "print('Accuracy = ', acc)\n",
    "\n",
    "print('\\n')\n",
    "print('Accuracy by label:')\n",
    "print(dat_pred.groupby(['label'])[['correct']].mean())\n"
   ]
  },
  {
   "cell_type": "markdown",
   "metadata": {},
   "source": [
    "<pre>\n",
    "# Copyright 2017 Google Inc. All Rights Reserved.\n",
    "#\n",
    "# Licensed under the Apache License, Version 2.0 (the \"License\");\n",
    "# you may not use this file except in compliance with the License.\n",
    "# You may obtain a copy of the License at\n",
    "#\n",
    "#      http://www.apache.org/licenses/LICENSE-2.0\n",
    "#\n",
    "# Unless required by applicable law or agreed to in writing, software\n",
    "# distributed under the License is distributed on an \"AS IS\" BASIS,\n",
    "# WITHOUT WARRANTIES OR CONDITIONS OF ANY KIND, either express or implied.\n",
    "# See the License for the specific language governing permissions and\n",
    "# limitations under the License.\n",
    "</pre>"
   ]
  }
 ],
 "metadata": {
  "kernelspec": {
   "display_name": "Python 3",
   "language": "python",
   "name": "python3"
  },
  "language_info": {
   "codemirror_mode": {
    "name": "ipython",
    "version": 3
   },
   "file_extension": ".py",
   "mimetype": "text/x-python",
   "name": "python",
   "nbconvert_exporter": "python",
   "pygments_lexer": "ipython3",
   "version": "3.5.6"
  }
 },
 "nbformat": 4,
 "nbformat_minor": 2
}
