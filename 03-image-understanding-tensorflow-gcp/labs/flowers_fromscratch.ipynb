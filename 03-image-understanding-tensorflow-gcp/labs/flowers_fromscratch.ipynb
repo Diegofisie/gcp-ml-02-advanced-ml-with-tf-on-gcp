{
 "cells": [
  {
   "cell_type": "markdown",
   "metadata": {},
   "source": [
    "# Flowers Image Classification with TensorFlow on Cloud ML Engine\n",
    "\n",
    "This notebook demonstrates how to do image classification from scratch on a flowers dataset using the Estimator API."
   ]
  },
  {
   "cell_type": "code",
   "execution_count": 1,
   "metadata": {},
   "outputs": [],
   "source": [
    "import os\n",
    "PROJECT = 'cloud-training-demos' # REPLACE WITH YOUR PROJECT ID\n",
    "BUCKET = 'cloud-training-demos-ml' # REPLACE WITH YOUR BUCKET NAME\n",
    "REGION = 'us-central1' # REPLACE WITH YOUR BUCKET REGION e.g. us-central1\n",
    "MODEL_TYPE = 'cnn'\n",
    "\n",
    "# do not change these\n",
    "os.environ['PROJECT'] = PROJECT\n",
    "os.environ['BUCKET'] = BUCKET\n",
    "os.environ['REGION'] = REGION\n",
    "os.environ['MODEL_TYPE'] = MODEL_TYPE\n",
    "os.environ['TFVERSION'] = '1.8'  # Tensorflow version"
   ]
  },
  {
   "cell_type": "code",
   "execution_count": 2,
   "metadata": {},
   "outputs": [
    {
     "name": "stdout",
     "output_type": "stream",
     "text": [
      "qwiklabs-gcp-92e8f024522a9294\n",
      "qwiklabs-gcp-92e8f024522a9294\n",
      "gsutil mb -l europe-west1 gs://qwiklabs-gcp-92e8f024522a9294\n"
     ]
    }
   ],
   "source": [
    "## in datalabvm cloud datalab notebook:\n",
    "import os\n",
    "output = os.popen(\"gcloud config get-value project\").readlines()\n",
    "project_name = output[0][:-1]\n",
    "\n",
    "# change these to try this notebook out\n",
    "PROJECT = project_name\n",
    "BUCKET = project_name\n",
    "#BUCKET = BUCKET.replace(\"qwiklabs-gcp-\", \"inna-bckt-\")\n",
    "REGION = 'europe-west1'  ## note: Cloud ML Engine not availabe in europe-west3!\n",
    "\n",
    "# set environment variables:\n",
    "os.environ['BUCKET'] = BUCKET\n",
    "os.environ['PROJECT'] = PROJECT\n",
    "os.environ['REGION'] = REGION\n",
    "\n",
    "print(PROJECT)\n",
    "print(BUCKET)\n",
    "print(\"gsutil mb -l {0} gs://{1}\".format(REGION, BUCKET))\n",
    "\n"
   ]
  },
  {
   "cell_type": "code",
   "execution_count": 3,
   "metadata": {},
   "outputs": [
    {
     "name": "stderr",
     "output_type": "stream",
     "text": [
      "Updated property [core/project].\n",
      "Updated property [compute/region].\n"
     ]
    }
   ],
   "source": [
    "%bash\n",
    "gcloud config set project $PROJECT\n",
    "gcloud config set compute/region $REGION"
   ]
  },
  {
   "cell_type": "markdown",
   "metadata": {},
   "source": [
    "## Input functions to read JPEG images\n",
    "\n",
    "The key difference between this notebook and [the MNIST one](./mnist_models.ipynb) is in the input function.\n",
    "In the input function here, we are doing the following:\n",
    "* Reading JPEG images, rather than 2D integer arrays.\n",
    "* Reading in batches of batch_size images rather than slicing our in-memory structure to be batch_size images.\n",
    "* Resizing the images to the expected HEIGHT, WIDTH. Because this is a real-world dataset, the images are of different sizes. We need to preprocess the data to, at the very least, resize them to constant size."
   ]
  },
  {
   "cell_type": "markdown",
   "metadata": {},
   "source": [
    "## Run as a Python module\n",
    "\n",
    "Since we want to run our code on Cloud ML Engine, we've packaged it as a python module.\n",
    "\n",
    "The `model.py` and `task.py` containing the model code is in <a href=\"flowersmodel\">flowersmodel</a>\n",
    "\n",
    "**Complete the TODOs in `model.py` before proceeding!**\n",
    "\n",
    "Once you've completed the TODOs, run it locally for a few steps to test the code."
   ]
  },
  {
   "cell_type": "code",
   "execution_count": 7,
   "metadata": {},
   "outputs": [
    {
     "name": "stderr",
     "output_type": "stream",
     "text": [
      "/usr/local/envs/py3env/lib/python3.5/site-packages/h5py/__init__.py:36: FutureWarning: Conversion of the second argument of issubdtype from `float` to `np.floating` is deprecated. In future, it will be treated as `np.float64 == np.dtype(float).type`.\n",
      "  from ._conv import register_converters as _register_converters\n",
      "INFO:tensorflow:TF_CONFIG environment variable: {'job': {'args': ['--output_dir=/content/datalab/gcp-ml-02-advanced-ml-with-tf-on-gcp/03-image-understanding-tensorflow-gcp/labs/flowers_trained', '--train_steps=5', '--learning_rate=0.01', '--batch_size=2', '--model=cnn', '--augment', '--train_data_path=gs://cloud-ml-data/img/flower_photos/train_set.csv', '--eval_data_path=gs://cloud-ml-data/img/flower_photos/eval_set.csv'], 'job_name': 'flowersmodel.task'}, 'task': {}, 'environment': 'cloud', 'cluster': {}}\n",
      "INFO:tensorflow:Using config: {'_tf_random_seed': None, '_train_distribute': None, '_evaluation_master': '', '_session_config': None, '_log_step_count_steps': 100, '_num_ps_replicas': 0, '_save_checkpoints_secs': 300, '_save_checkpoints_steps': None, '_model_dir': '/content/datalab/gcp-ml-02-advanced-ml-with-tf-on-gcp/03-image-understanding-tensorflow-gcp/labs/flowers_trained/', '_task_id': 0, '_is_chief': True, '_global_id_in_cluster': 0, '_keep_checkpoint_max': 5, '_num_worker_replicas': 1, '_save_summary_steps': 100, '_cluster_spec': <tensorflow.python.training.server_lib.ClusterSpec object at 0x7fd28b675c18>, '_master': '', '_keep_checkpoint_every_n_hours': 10000, '_task_type': 'worker', '_service': None}\n",
      "INFO:tensorflow:Running training and evaluation locally (non-distributed).\n",
      "INFO:tensorflow:Start train and evaluate loop. The evaluate will happen after 300 secs (eval_spec.throttle_secs) or training is finished.\n",
      "INFO:tensorflow:Calling model_fn.\n",
      "INFO:tensorflow:Done calling model_fn.\n",
      "INFO:tensorflow:Create CheckpointSaverHook.\n",
      "INFO:tensorflow:Graph was finalized.\n",
      "2019-02-26 14:22:18.749427: W tensorflow/core/framework/allocator.cc:101] Allocation of 131424000 exceeds 10% of system memory.\n",
      "2019-02-26 14:22:18.912973: W tensorflow/core/framework/allocator.cc:101] Allocation of 131424000 exceeds 10% of system memory.\n",
      "2019-02-26 14:22:19.145171: W tensorflow/core/framework/allocator.cc:101] Allocation of 131424000 exceeds 10% of system memory.\n",
      "2019-02-26 14:22:19.257856: W tensorflow/core/framework/allocator.cc:101] Allocation of 131424000 exceeds 10% of system memory.\n",
      "2019-02-26 14:22:19.440401: W tensorflow/core/framework/allocator.cc:101] Allocation of 131424000 exceeds 10% of system memory.\n",
      "2019-02-26 14:22:19.606155: W tensorflow/core/framework/allocator.cc:101] Allocation of 131424000 exceeds 10% of system memory.\n",
      "2019-02-26 14:22:20.051420: W tensorflow/core/framework/allocator.cc:101] Allocation of 131424000 exceeds 10% of system memory.\n",
      "2019-02-26 14:22:20.215841: W tensorflow/core/framework/allocator.cc:101] Allocation of 131424000 exceeds 10% of system memory.\n",
      "2019-02-26 14:22:20.319512: W tensorflow/core/framework/allocator.cc:101] Allocation of 131424000 exceeds 10% of system memory.\n",
      "INFO:tensorflow:Running local_init_op.\n",
      "INFO:tensorflow:Done running local_init_op.\n",
      "2019-02-26 14:22:32.772797: W tensorflow/core/framework/allocator.cc:101] Allocation of 131424000 exceeds 10% of system memory.\n",
      "2019-02-26 14:22:33.123635: W tensorflow/core/framework/allocator.cc:101] Allocation of 44402000 exceeds 10% of system memory.\n",
      "2019-02-26 14:22:33.343173: W tensorflow/core/framework/allocator.cc:101] Allocation of 53640600 exceeds 10% of system memory.\n",
      "INFO:tensorflow:Saving checkpoints for 1 into /content/datalab/gcp-ml-02-advanced-ml-with-tf-on-gcp/03-image-understanding-tensorflow-gcp/labs/flowers_trained/model.ckpt.\n",
      "INFO:tensorflow:step = 1, loss = 1.3812783\n",
      "2019-02-26 14:22:36.333612: W tensorflow/core/framework/allocator.cc:101] Allocation of 131424000 exceeds 10% of system memory.\n",
      "2019-02-26 14:22:36.681668: W tensorflow/core/framework/allocator.cc:101] Allocation of 44402000 exceeds 10% of system memory.\n",
      "2019-02-26 14:22:36.845873: W tensorflow/core/framework/allocator.cc:101] Allocation of 53640600 exceeds 10% of system memory.\n",
      "2019-02-26 14:22:38.310482: W tensorflow/core/framework/allocator.cc:101] Allocation of 131424000 exceeds 10% of system memory.\n",
      "2019-02-26 14:22:38.608386: W tensorflow/core/framework/allocator.cc:101] Allocation of 44402000 exceeds 10% of system memory.\n",
      "2019-02-26 14:22:38.733798: W tensorflow/core/framework/allocator.cc:101] Allocation of 53640600 exceeds 10% of system memory.\n",
      "2019-02-26 14:22:40.453890: W tensorflow/core/framework/allocator.cc:101] Allocation of 131424000 exceeds 10% of system memory.\n",
      "2019-02-26 14:22:40.745838: W tensorflow/core/framework/allocator.cc:101] Allocation of 44402000 exceeds 10% of system memory.\n",
      "2019-02-26 14:22:40.867262: W tensorflow/core/framework/allocator.cc:101] Allocation of 53640600 exceeds 10% of system memory.\n",
      "2019-02-26 14:22:42.328105: W tensorflow/core/framework/allocator.cc:101] Allocation of 131424000 exceeds 10% of system memory.\n",
      "2019-02-26 14:22:42.623628: W tensorflow/core/framework/allocator.cc:101] Allocation of 44402000 exceeds 10% of system memory.\n",
      "2019-02-26 14:22:42.742617: W tensorflow/core/framework/allocator.cc:101] Allocation of 53640600 exceeds 10% of system memory.\n",
      "INFO:tensorflow:Saving checkpoints for 5 into /content/datalab/gcp-ml-02-advanced-ml-with-tf-on-gcp/03-image-understanding-tensorflow-gcp/labs/flowers_trained/model.ckpt.\n",
      "INFO:tensorflow:Loss for final step: 4.115232.\n",
      "INFO:tensorflow:Calling model_fn.\n",
      "INFO:tensorflow:Done calling model_fn.\n",
      "INFO:tensorflow:Starting evaluation at 2019-02-26-14:22:45\n",
      "INFO:tensorflow:Graph was finalized.\n",
      "INFO:tensorflow:Restoring parameters from /content/datalab/gcp-ml-02-advanced-ml-with-tf-on-gcp/03-image-understanding-tensorflow-gcp/labs/flowers_trained/model.ckpt-5\n",
      "2019-02-26 14:22:45.164252: W tensorflow/core/framework/allocator.cc:101] Allocation of 131424000 exceeds 10% of system memory.\n",
      "2019-02-26 14:22:45.301656: W tensorflow/core/framework/allocator.cc:101] Allocation of 131424000 exceeds 10% of system memory.\n",
      "INFO:tensorflow:Running local_init_op.\n",
      "INFO:tensorflow:Done running local_init_op.\n",
      "INFO:tensorflow:Finished evaluation at 2019-02-26-14:26:21\n",
      "INFO:tensorflow:Saving dict for global step 5: accuracy = 0.24594595, global_step = 5, loss = 1.638472\n",
      "INFO:tensorflow:Calling model_fn.\n",
      "INFO:tensorflow:Done calling model_fn.\n",
      "INFO:tensorflow:Signatures INCLUDED in export for Regress: None\n",
      "INFO:tensorflow:Signatures INCLUDED in export for Predict: ['serving_default', 'classes']\n",
      "INFO:tensorflow:Signatures INCLUDED in export for Classify: None\n",
      "INFO:tensorflow:Restoring parameters from /content/datalab/gcp-ml-02-advanced-ml-with-tf-on-gcp/03-image-understanding-tensorflow-gcp/labs/flowers_trained/model.ckpt-5\n",
      "2019-02-26 14:26:21.743306: W tensorflow/core/framework/allocator.cc:101] Allocation of 131424000 exceeds 10% of system memory.\n",
      "2019-02-26 14:26:21.890501: W tensorflow/core/framework/allocator.cc:101] Allocation of 131424000 exceeds 10% of system memory.\n",
      "INFO:tensorflow:Assets added to graph.\n",
      "INFO:tensorflow:No assets to write.\n",
      "INFO:tensorflow:SavedModel written to: b\"/content/datalab/gcp-ml-02-advanced-ml-with-tf-on-gcp/03-image-understanding-tensorflow-gcp/labs/flowers_trained/export/exporter/temp-b'1551191181'/saved_model.pb\"\n"
     ]
    }
   ],
   "source": [
    "%bash\n",
    "rm -rf flowersmodel.tar.gz flowers_trained\n",
    "gcloud ml-engine local train \\\n",
    "   --module-name=flowersmodel.task \\\n",
    "   --package-path=${PWD}/flowersmodel \\\n",
    "   -- \\\n",
    "   --output_dir=${PWD}/flowers_trained \\\n",
    "   --train_steps=5 \\\n",
    "   --learning_rate=0.01 \\\n",
    "   --batch_size=2 \\\n",
    "   --model=$MODEL_TYPE \\\n",
    "   --augment \\\n",
    "   --train_data_path=gs://cloud-ml-data/img/flower_photos/train_set.csv \\\n",
    "   --eval_data_path=gs://cloud-ml-data/img/flower_photos/eval_set.csv"
   ]
  },
  {
   "cell_type": "code",
   "execution_count": 13,
   "metadata": {},
   "outputs": [
    {
     "name": "stdout",
     "output_type": "stream",
     "text": [
      "gs://cloud-ml-data/img/flower_photos/daisy/754296579_30a9ae018c_n.jpg,daisy\n",
      "gs://cloud-ml-data/img/flower_photos/dandelion/18089878729_907ed2c7cd_m.jpg,dandelion\n",
      "gs://cloud-ml-data/img/flower_photos/dandelion/284497199_93a01f48f6.jpg,dandelion\n",
      "gs://cloud-ml-data/img/flower_photos/dandelion/3554992110_81d8c9b0bd_m.jpg,dandelion\n",
      "gs://cloud-ml-data/img/flower_photos/daisy/4065883015_4bb6010cb7_n.jpg,daisy\n",
      "gs://cloud-ml-data/img/flower_photos/roses/7420699022_60fa574524_m.jpg,rose"
     ]
    }
   ],
   "source": [
    "!gsutil cat -r 0-480 gs://cloud-ml-data/img/flower_photos/train_set.csv"
   ]
  },
  {
   "cell_type": "code",
   "execution_count": 15,
   "metadata": {},
   "outputs": [
    {
     "name": "stdout",
     "output_type": "stream",
     "text": [
      "gs://cloud-ml-data/img/flower_photos/sunflowers/14646281372_5f13794b47.jpg,sunflowers\r\n",
      "gs://cloud-ml-data/img/flower_photos/sunflowers/1022552002_2b93faf9e7_n.jpg,sunflowers\r\n",
      "gs://cloud-ml-data/img/flower_photos/sunflowers/50987813_7484bfbcdf.jpg,sunflowers\r\n",
      "gs://cloud-ml-data/img/flower_photos/sunflowers/21995435890_e5672244a4_m.jpg,sunflowers\r\n",
      "gs://cloud-ml-data/img/flower_photos/tulips/14124669683_7fb74f20c3.jpg,tulips\r\n",
      "gs://cloud-ml-data/img/flower_photos/daisy/7133935763_82b17c8e1b_n.jpg,daisy\r\n",
      "gs"
     ]
    }
   ],
   "source": [
    "!gsutil cat -r 0-500 gs://cloud-ml-data/img/flower_photos/eval_set.csv"
   ]
  },
  {
   "cell_type": "markdown",
   "metadata": {},
   "source": [
    "Now, let's do it on ML Engine. Note the --model parameter"
   ]
  },
  {
   "cell_type": "code",
   "execution_count": 16,
   "metadata": {},
   "outputs": [
    {
     "name": "stdout",
     "output_type": "stream",
     "text": [
      "gs://qwiklabs-gcp-92e8f024522a9294/flowers/trained_cnn europe-west1 flowers_cnn_190226_142842\n",
      "jobId: flowers_cnn_190226_142842\n",
      "state: QUEUED\n"
     ]
    },
    {
     "name": "stderr",
     "output_type": "stream",
     "text": [
      "CommandException: 1 files/objects could not be removed.\n",
      "Job [flowers_cnn_190226_142842] submitted successfully.\n",
      "Your job is still active. You may view the status of your job with the command\n",
      "\n",
      "  $ gcloud ml-engine jobs describe flowers_cnn_190226_142842\n",
      "\n",
      "or continue streaming the logs with the command\n",
      "\n",
      "  $ gcloud ml-engine jobs stream-logs flowers_cnn_190226_142842\n"
     ]
    }
   ],
   "source": [
    "%bash\n",
    "OUTDIR=gs://${BUCKET}/flowers/trained_${MODEL_TYPE}\n",
    "JOBNAME=flowers_${MODEL_TYPE}_$(date -u +%y%m%d_%H%M%S)\n",
    "echo $OUTDIR $REGION $JOBNAME\n",
    "gsutil -m rm -rf $OUTDIR\n",
    "gcloud ml-engine jobs submit training $JOBNAME \\\n",
    "   --region=$REGION \\\n",
    "   --module-name=flowersmodel.task \\\n",
    "   --package-path=${PWD}/flowersmodel \\\n",
    "   --job-dir=$OUTDIR \\\n",
    "   --staging-bucket=gs://$BUCKET \\\n",
    "   --scale-tier=BASIC_GPU \\\n",
    "   --runtime-version=$TFVERSION \\\n",
    "   -- \\\n",
    "   --output_dir=$OUTDIR \\\n",
    "   --train_steps=1000 \\\n",
    "   --learning_rate=0.01 \\\n",
    "   --batch_size=40 \\\n",
    "   --model=$MODEL_TYPE \\\n",
    "   --augment \\\n",
    "   --batch_norm \\\n",
    "   --train_data_path=gs://cloud-ml-data/img/flower_photos/train_set.csv \\\n",
    "   --eval_data_path=gs://cloud-ml-data/img/flower_photos/eval_set.csv"
   ]
  },
  {
   "cell_type": "markdown",
   "metadata": {},
   "source": [
    "## Monitoring training with TensorBoard\n",
    "\n",
    "Use this cell to launch tensorboard"
   ]
  },
  {
   "cell_type": "code",
   "execution_count": 17,
   "metadata": {},
   "outputs": [
    {
     "name": "stderr",
     "output_type": "stream",
     "text": [
      "/usr/local/envs/py3env/lib/python3.5/site-packages/h5py/__init__.py:36: FutureWarning: Conversion of the second argument of issubdtype from `float` to `np.floating` is deprecated. In future, it will be treated as `np.float64 == np.dtype(float).type`.\n",
      "  from ._conv import register_converters as _register_converters\n"
     ]
    },
    {
     "data": {
      "text/html": [
       "<p>TensorBoard was started successfully with pid 5076. Click <a href=\"/_proxy/38035/\" target=\"_blank\">here</a> to access it.</p>"
      ]
     },
     "metadata": {},
     "output_type": "display_data"
    },
    {
     "data": {
      "text/plain": [
       "5076"
      ]
     },
     "execution_count": 17,
     "metadata": {},
     "output_type": "execute_result"
    }
   ],
   "source": [
    "from google.datalab.ml import TensorBoard\n",
    "TensorBoard().start('gs://{}/flowers/trained_{}'.format(BUCKET, MODEL_TYPE))"
   ]
  },
  {
   "cell_type": "code",
   "execution_count": null,
   "metadata": {},
   "outputs": [],
   "source": [
    "for pid in TensorBoard.list()['pid']:\n",
    "  TensorBoard().stop(pid)\n",
    "  print('Stopped TensorBoard with pid {}'.format(pid))"
   ]
  },
  {
   "cell_type": "markdown",
   "metadata": {},
   "source": [
    "Here are my results:\n",
    "\n",
    "\n",
    "Model | Accuracy | Time taken | Run time parameters\n",
    "--- | :---: | --- | ---\n",
    "cnn with batch-norm | 0.582 | 47 min | 1000 steps, LR=0.01, Batch=40\n",
    "as above, plus augment | 0.615 | 3 hr | 5000 steps, LR=0.01, Batch=40\n",
    "\n",
    "\n",
    "What was your accuracy?"
   ]
  },
  {
   "cell_type": "markdown",
   "metadata": {},
   "source": [
    "Model | Accuracy | Time taken | Run time parameters\n",
    "--- | :---: | --- | ---\n",
    "cnn with batch-norm and augment | NA |  NA | 1000 steps, LR=0.01, Batch=40\n",
    "\n"
   ]
  },
  {
   "cell_type": "markdown",
   "metadata": {},
   "source": [
    "## Deploying and predicting with model\n",
    "\n",
    "Deploy the model:"
   ]
  },
  {
   "cell_type": "code",
   "execution_count": null,
   "metadata": {},
   "outputs": [],
   "source": [
    "%bash\n",
    "MODEL_NAME=\"flowers\"\n",
    "MODEL_VERSION=${MODEL_TYPE}\n",
    "MODEL_LOCATION=$(gsutil ls gs://${BUCKET}/flowers/trained_${MODEL_TYPE}/export/exporter | tail -1)\n",
    "echo \"Deleting and deploying $MODEL_NAME $MODEL_VERSION from $MODEL_LOCATION ... this will take a few minutes\"\n",
    "#gcloud ml-engine versions delete --quiet ${MODEL_VERSION} --model ${MODEL_NAME}\n",
    "#gcloud ml-engine models delete ${MODEL_NAME}\n",
    "gcloud ml-engine models create ${MODEL_NAME} --regions $REGION\n",
    "gcloud ml-engine versions create ${MODEL_VERSION} --model ${MODEL_NAME} --origin ${MODEL_LOCATION} --runtime-version=$TFVERSION"
   ]
  },
  {
   "cell_type": "markdown",
   "metadata": {},
   "source": [
    "To predict with the model, let's take one of the example images that is available on Google Cloud Storage <img src=\"http://storage.googleapis.com/cloud-ml-data/img/flower_photos/sunflowers/1022552002_2b93faf9e7_n.jpg\" />"
   ]
  },
  {
   "cell_type": "markdown",
   "metadata": {},
   "source": [
    "The online prediction service expects images to be base64 encoded as described [here](https://cloud.google.com/ml-engine/docs/tensorflow/online-predict#binary_data_in_prediction_input)."
   ]
  },
  {
   "cell_type": "code",
   "execution_count": null,
   "metadata": {},
   "outputs": [],
   "source": [
    "%%bash\n",
    "IMAGE_URL=gs://cloud-ml-data/img/flower_photos/sunflowers/1022552002_2b93faf9e7_n.jpg\n",
    "\n",
    "# Copy the image to local disk.\n",
    "gsutil cp $IMAGE_URL flower.jpg\n",
    "\n",
    "# Base64 encode and create request message in json format.\n",
    "python -c 'import base64, sys, json; img = base64.b64encode(open(\"flower.jpg\", \"rb\").read()).decode(); print(json.dumps({\"image_bytes\":{\"b64\": img}}))' &> request.json"
   ]
  },
  {
   "cell_type": "markdown",
   "metadata": {},
   "source": [
    "Send it to the prediction service"
   ]
  },
  {
   "cell_type": "code",
   "execution_count": null,
   "metadata": {},
   "outputs": [],
   "source": [
    "%%bash\n",
    "gcloud ml-engine predict \\\n",
    "  --model=flowers \\\n",
    "  --version=${MODEL_TYPE} \\\n",
    "  --json-instances=./request.json"
   ]
  },
  {
   "cell_type": "markdown",
   "metadata": {},
   "source": [
    "<pre>\n",
    "# Copyright 2017 Google Inc. All Rights Reserved.\n",
    "#\n",
    "# Licensed under the Apache License, Version 2.0 (the \"License\");\n",
    "# you may not use this file except in compliance with the License.\n",
    "# You may obtain a copy of the License at\n",
    "#\n",
    "#      http://www.apache.org/licenses/LICENSE-2.0\n",
    "#\n",
    "# Unless required by applicable law or agreed to in writing, software\n",
    "# distributed under the License is distributed on an \"AS IS\" BASIS,\n",
    "# WITHOUT WARRANTIES OR CONDITIONS OF ANY KIND, either express or implied.\n",
    "# See the License for the specific language governing permissions and\n",
    "# limitations under the License.\n",
    "</pre>"
   ]
  }
 ],
 "metadata": {
  "kernelspec": {
   "display_name": "Python 3",
   "language": "python",
   "name": "python3"
  },
  "language_info": {
   "codemirror_mode": {
    "name": "ipython",
    "version": 3
   },
   "file_extension": ".py",
   "mimetype": "text/x-python",
   "name": "python",
   "nbconvert_exporter": "python",
   "pygments_lexer": "ipython3",
   "version": "3.5.6"
  }
 },
 "nbformat": 4,
 "nbformat_minor": 2
}
