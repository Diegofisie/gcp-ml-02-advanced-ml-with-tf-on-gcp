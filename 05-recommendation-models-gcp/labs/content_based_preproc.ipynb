{
 "cells": [
  {
   "cell_type": "markdown",
   "metadata": {},
   "source": [
    "## Create datasets for the Content-based Filter"
   ]
  },
  {
   "cell_type": "markdown",
   "metadata": {},
   "source": [
    "This notebook builds the data we will use for creating our content based model. We'll collect the data via a collection of SQL queries from the publicly avialable Kurier.at dataset in BigQuery.\n",
    "Kurier.at is an Austrian newsite. The goal of these labs is to recommend an article for a visitor to the site. In this lab we collect the data for training. In the subsequent notebook we train the recommender model. \n",
    "\n",
    "This notebook illustrates\n",
    "* how to pull data from BigQuery table and write to local files\n",
    "* how to make reproducible train and test splits "
   ]
  },
  {
   "cell_type": "code",
   "execution_count": 1,
   "metadata": {},
   "outputs": [
    {
     "name": "stderr",
     "output_type": "stream",
     "text": [
      "/usr/local/envs/py2env/lib/python2.7/site-packages/h5py/__init__.py:36: FutureWarning: Conversion of the second argument of issubdtype from `float` to `np.floating` is deprecated. In future, it will be treated as `np.float64 == np.dtype(float).type`.\n",
      "  from ._conv import register_converters as _register_converters\n"
     ]
    },
    {
     "name": "stdout",
     "output_type": "stream",
     "text": [
      "qwiklabs-gcp-58c68e0c2f52d576\n",
      "qwiklabs-gcp-58c68e0c2f52d576\n",
      "europe-west1\n"
     ]
    }
   ],
   "source": [
    "import os\n",
    "import tensorflow as tf\n",
    "import numpy as np\n",
    "import google.datalab.bigquery as bq\n",
    "\n",
    "output = os.popen(\"gcloud config get-value project\").readlines()\n",
    "project_name = output[0][:-1]\n",
    "\n",
    "# change these to try this notebook out\n",
    "PROJECT = project_name\n",
    "BUCKET = project_name\n",
    "#BUCKET = BUCKET.replace(\"qwiklabs-gcp-\", \"inna-bckt-\")\n",
    "REGION = 'europe-west1'  ## note: Cloud ML Engine not availabe in europe-west3!\n",
    "\n",
    "\n",
    "# do not change these\n",
    "os.environ['PROJECT'] = PROJECT\n",
    "os.environ['BUCKET'] = BUCKET\n",
    "os.environ['REGION'] = REGION\n",
    "os.environ['TFVERSION'] = '1.8'\n",
    "\n",
    "print(PROJECT)\n",
    "print(BUCKET)\n",
    "print(REGION)\n"
   ]
  },
  {
   "cell_type": "code",
   "execution_count": 2,
   "metadata": {},
   "outputs": [
    {
     "name": "stderr",
     "output_type": "stream",
     "text": [
      "Updated property [core/project].\n",
      "Updated property [compute/region].\n"
     ]
    }
   ],
   "source": [
    "%%bash\n",
    "gcloud  config  set project $PROJECT\n",
    "gcloud config set compute/region $REGION"
   ]
  },
  {
   "cell_type": "markdown",
   "metadata": {},
   "source": [
    "We will use this helper funciton to write lists containing article ids, categories, and authors for each article in our database to local file. "
   ]
  },
  {
   "cell_type": "code",
   "execution_count": 4,
   "metadata": {},
   "outputs": [],
   "source": [
    "def write_list_to_disk(my_list, filename):\n",
    "  with open(filename, 'w') as f:\n",
    "    for item in my_list:\n",
    "        line = \"%s\\n\" % item\n",
    "        f.write(str(line.encode('utf8')))"
   ]
  },
  {
   "cell_type": "markdown",
   "metadata": {},
   "source": [
    "### Pull data from BigQuery\n",
    "\n",
    "The cell below creates a local text file containing all the article ids (i.e. 'content ids') in the dataset. \n",
    "\n",
    "Have a look at the original dataset in [BigQuery](https://bigquery.cloud.google.com/welcome/). Then read through the query below and make sure you understand what it is doing. "
   ]
  },
  {
   "cell_type": "code",
   "execution_count": 5,
   "metadata": {},
   "outputs": [
    {
     "name": "stdout",
     "output_type": "stream",
     "text": [
      "Some sample content IDs ['299965853', '299972248', '299410466']\n",
      "The total number of articles is 15634\n"
     ]
    }
   ],
   "source": [
    "sql=\"\"\"\n",
    "#standardSQL\n",
    "SELECT  \n",
    "  (SELECT MAX(IF(index=10, value, NULL)) FROM UNNEST(hits.customDimensions)) AS content_id \n",
    "FROM `cloud-training-demos.GA360_test.ga_sessions_sample`,   \n",
    "  UNNEST(hits) AS hits\n",
    "WHERE \n",
    "  # only include hits on pages\n",
    "  hits.type = \"PAGE\"\n",
    "  AND (SELECT MAX(IF(index=10, value, NULL)) FROM UNNEST(hits.customDimensions)) IS NOT NULL\n",
    "GROUP BY\n",
    "  content_id\n",
    "\"\"\"\n",
    "content_ids_list = bq.Query(sql).execute().result().to_dataframe()['content_id'].tolist()\n",
    "write_list_to_disk(content_ids_list, \"content_ids.txt\")\n",
    "print(\"Some sample content IDs {}\".format(content_ids_list[:3]))\n",
    "print(\"The total number of articles is {}\".format(len(content_ids_list)))"
   ]
  },
  {
   "cell_type": "code",
   "execution_count": 19,
   "metadata": {},
   "outputs": [
    {
     "data": {
      "text/html": [
       "\n",
       "    <div class=\"bqtv\" id=\"2_155300242481\"><table><tr><th>visitorId</th><th>visitNumber</th><th>visitStartTime</th><th>date</th><th>fullVisitorId</th><th>userId</th><th>channelGrouping</th><th>socialEngagementType</th></tr><tr><td>&nbsp;</td><td>50</td><td>1511902299</td><td>20171128</td><td>8339152771641626541</td><td>&nbsp;</td><td>Social</td><td>Not Socially Engaged</td></tr><tr><td>&nbsp;</td><td>125</td><td>1511873986</td><td>20171128</td><td>4851259871211910032</td><td>&nbsp;</td><td>Social</td><td>Not Socially Engaged</td></tr><tr><td>&nbsp;</td><td>24</td><td>1511902119</td><td>20171128</td><td>2792350752570635694</td><td>&nbsp;</td><td>Organic Search</td><td>Not Socially Engaged</td></tr><tr><td>&nbsp;</td><td>90</td><td>1511880557</td><td>20171128</td><td>2486256002414577559</td><td>&nbsp;</td><td>Referral</td><td>Not Socially Engaged</td></tr><tr><td>&nbsp;</td><td>557</td><td>1511849480</td><td>20171128</td><td>2110883574560611917</td><td>&nbsp;</td><td>Organic Search</td><td>Not Socially Engaged</td></tr><tr><td>&nbsp;</td><td>826</td><td>1511900521</td><td>20171128</td><td>2465188900120861168</td><td>&nbsp;</td><td>Organic Search</td><td>Not Socially Engaged</td></tr><tr><td>&nbsp;</td><td>157</td><td>1511881276</td><td>20171128</td><td>6238795106797607233</td><td>&nbsp;</td><td>Direct</td><td>Not Socially Engaged</td></tr><tr><td>&nbsp;</td><td>12</td><td>1511825634</td><td>20171128</td><td>2412691952983375476</td><td>&nbsp;</td><td>Organic Search</td><td>Not Socially Engaged</td></tr><tr><td>&nbsp;</td><td>2</td><td>1511887676</td><td>20171128</td><td>2077419465760126208</td><td>&nbsp;</td><td>Direct</td><td>Not Socially Engaged</td></tr><tr><td>&nbsp;</td><td>178</td><td>1511846895</td><td>20171128</td><td>7888345080029817808</td><td>&nbsp;</td><td>Direct</td><td>Not Socially Engaged</td></tr></table></div>\n",
       "    <br />(rows: 10, time: 0.2s, cached, job: job_Cpws698DFoIEvVoNNYvSVV3NTp0d)<br />\n",
       "    <script src=\"/static/components/requirejs/require.js\"></script>\n",
       "    <script>\n",
       "      require.config({\n",
       "        paths: {\n",
       "          base: '/static/base',\n",
       "          d3: '//cdnjs.cloudflare.com/ajax/libs/d3/3.4.13/d3',\n",
       "          plotly: 'https://cdn.plot.ly/plotly-1.5.1.min.js?noext',\n",
       "          jquery: '//ajax.googleapis.com/ajax/libs/jquery/2.0.0/jquery.min'\n",
       "        },\n",
       "        map: {\n",
       "          '*': {\n",
       "            datalab: 'nbextensions/gcpdatalab'\n",
       "          }\n",
       "        },\n",
       "        shim: {\n",
       "          plotly: {\n",
       "            deps: ['d3', 'jquery'],\n",
       "            exports: 'plotly'\n",
       "          }\n",
       "        }\n",
       "      });\n",
       "\n",
       "      require(['datalab/charting', 'datalab/element!2_155300242481', 'base/js/events',\n",
       "          'datalab/style!/nbextensions/gcpdatalab/charting.css'],\n",
       "        function(charts, dom, events) {\n",
       "          charts.render('gcharts', dom, events, 'table', [], {\"rows\": [{\"c\": [{\"v\": null}, {\"v\": 50}, {\"v\": 1511902299}, {\"v\": \"20171128\"}, {\"v\": \"8339152771641626541\"}, {\"v\": null}, {\"v\": \"Social\"}, {\"v\": \"Not Socially Engaged\"}]}, {\"c\": [{\"v\": null}, {\"v\": 125}, {\"v\": 1511873986}, {\"v\": \"20171128\"}, {\"v\": \"4851259871211910032\"}, {\"v\": null}, {\"v\": \"Social\"}, {\"v\": \"Not Socially Engaged\"}]}, {\"c\": [{\"v\": null}, {\"v\": 24}, {\"v\": 1511902119}, {\"v\": \"20171128\"}, {\"v\": \"2792350752570635694\"}, {\"v\": null}, {\"v\": \"Organic Search\"}, {\"v\": \"Not Socially Engaged\"}]}, {\"c\": [{\"v\": null}, {\"v\": 90}, {\"v\": 1511880557}, {\"v\": \"20171128\"}, {\"v\": \"2486256002414577559\"}, {\"v\": null}, {\"v\": \"Referral\"}, {\"v\": \"Not Socially Engaged\"}]}, {\"c\": [{\"v\": null}, {\"v\": 557}, {\"v\": 1511849480}, {\"v\": \"20171128\"}, {\"v\": \"2110883574560611917\"}, {\"v\": null}, {\"v\": \"Organic Search\"}, {\"v\": \"Not Socially Engaged\"}]}, {\"c\": [{\"v\": null}, {\"v\": 826}, {\"v\": 1511900521}, {\"v\": \"20171128\"}, {\"v\": \"2465188900120861168\"}, {\"v\": null}, {\"v\": \"Organic Search\"}, {\"v\": \"Not Socially Engaged\"}]}, {\"c\": [{\"v\": null}, {\"v\": 157}, {\"v\": 1511881276}, {\"v\": \"20171128\"}, {\"v\": \"6238795106797607233\"}, {\"v\": null}, {\"v\": \"Direct\"}, {\"v\": \"Not Socially Engaged\"}]}, {\"c\": [{\"v\": null}, {\"v\": 12}, {\"v\": 1511825634}, {\"v\": \"20171128\"}, {\"v\": \"2412691952983375476\"}, {\"v\": null}, {\"v\": \"Organic Search\"}, {\"v\": \"Not Socially Engaged\"}]}, {\"c\": [{\"v\": null}, {\"v\": 2}, {\"v\": 1511887676}, {\"v\": \"20171128\"}, {\"v\": \"2077419465760126208\"}, {\"v\": null}, {\"v\": \"Direct\"}, {\"v\": \"Not Socially Engaged\"}]}, {\"c\": [{\"v\": null}, {\"v\": 178}, {\"v\": 1511846895}, {\"v\": \"20171128\"}, {\"v\": \"7888345080029817808\"}, {\"v\": null}, {\"v\": \"Direct\"}, {\"v\": \"Not Socially Engaged\"}]}], \"cols\": [{\"type\": \"number\", \"id\": \"visitorId\", \"label\": \"visitorId\"}, {\"type\": \"number\", \"id\": \"visitNumber\", \"label\": \"visitNumber\"}, {\"type\": \"number\", \"id\": \"visitStartTime\", \"label\": \"visitStartTime\"}, {\"type\": \"string\", \"id\": \"date\", \"label\": \"date\"}, {\"type\": \"string\", \"id\": \"fullVisitorId\", \"label\": \"fullVisitorId\"}, {\"type\": \"string\", \"id\": \"userId\", \"label\": \"userId\"}, {\"type\": \"string\", \"id\": \"channelGrouping\", \"label\": \"channelGrouping\"}, {\"type\": \"string\", \"id\": \"socialEngagementType\", \"label\": \"socialEngagementType\"}]},\n",
       "            {\n",
       "              pageSize: 25,\n",
       "              cssClassNames:  {\n",
       "                tableRow: 'gchart-table-row',\n",
       "                headerRow: 'gchart-table-headerrow',\n",
       "                oddTableRow: 'gchart-table-oddrow',\n",
       "                selectedTableRow: 'gchart-table-selectedrow',\n",
       "                hoverTableRow: 'gchart-table-hoverrow',\n",
       "                tableCell: 'gchart-table-cell',\n",
       "                headerCell: 'gchart-table-headercell',\n",
       "                rowNumberCell: 'gchart-table-rownumcell'\n",
       "              }\n",
       "            },\n",
       "            {source_index: 0, fields: 'visitorId,visitNumber,visitStartTime,date,fullVisitorId,userId,channelGrouping,socialEngagementType'},\n",
       "            0,\n",
       "            10);\n",
       "        }\n",
       "      );\n",
       "    </script>\n",
       "  "
      ],
      "text/plain": [
       "QueryResultsTable job_Cpws698DFoIEvVoNNYvSVV3NTp0d"
      ]
     },
     "execution_count": 19,
     "metadata": {},
     "output_type": "execute_result"
    }
   ],
   "source": [
    "sql=\"\"\"\n",
    "#standardSQL\n",
    "SELECT  *\n",
    "FROM `cloud-training-demos.GA360_test.ga_sessions_sample`\n",
    "LIMIT 10\n",
    "\"\"\"\n",
    "bq.Query(sql).execute().result()"
   ]
  },
  {
   "cell_type": "markdown",
   "metadata": {},
   "source": [
    "In the following cells, you will create a local file which contains a list of article categories and a list of article authors.\n",
    "\n",
    "**Hint**: For the TODO below, modify the query above changing 'content_id' to the necessary field and changing index=10 \n",
    "to the appropriate index.  \n",
    "Refer back to the original dataset, use the `hits.customDimensions.index` \n",
    "field to find the correct index."
   ]
  },
  {
   "cell_type": "code",
   "execution_count": 21,
   "metadata": {},
   "outputs": [
    {
     "name": "stdout",
     "output_type": "stream",
     "text": [
      "['News', 'Stars & Kultur', 'Lifestyle']\n"
     ]
    }
   ],
   "source": [
    "TODO=\"\"\"\n",
    "TODO: Modify the query above to instead create a list of all categories in the dataset.\n",
    "You'll need to change the content_id to the appropriate field as well as the index. \n",
    "\"\"\"\n",
    "\n",
    "sql=\"\"\"\n",
    "#standardSQL\n",
    "SELECT  \n",
    "  (SELECT MAX(IF(index=7, value, NULL)) FROM UNNEST(hits.customDimensions)) AS category \n",
    "FROM `cloud-training-demos.GA360_test.ga_sessions_sample`,   \n",
    "  UNNEST(hits) AS hits\n",
    "WHERE \n",
    "  # only include hits on pages\n",
    "  hits.type = \"PAGE\"\n",
    "  AND (SELECT MAX(IF(index=7, value, NULL)) FROM UNNEST(hits.customDimensions)) IS NOT NULL\n",
    "GROUP BY\n",
    "  category\n",
    "\"\"\"\n",
    "#TODO: Modify the query above to create the list of categories\n",
    "categories_list = bq.Query(sql).execute().result().to_dataframe()['category'].tolist() \n",
    "write_list_to_disk(categories_list, \"categories.txt\")\n",
    "print(categories_list)"
   ]
  },
  {
   "cell_type": "markdown",
   "metadata": {},
   "source": [
    "When creating the author list, we'll only use the first author information for each article.  "
   ]
  },
  {
   "cell_type": "code",
   "execution_count": 22,
   "metadata": {},
   "outputs": [
    {
     "name": "stdout",
     "output_type": "stream",
     "text": [
      "Some sample authors ['Alexander Huber', 'Christine Klafl', 'Philipp Albrechtsberger', 'Wolfgang Atzenhofer', 'Marlene Patsalidis', 'Peter Temel', 'Stefan Hofer', 'Michael Pammesberger', 'Helmut Brandst\\xe4tter', 'Martina Salomon']\n",
      "The total number of authors is 385\n"
     ]
    }
   ],
   "source": [
    "sql=\"\"\"\n",
    "#standardSQL\n",
    "SELECT\n",
    "  REGEXP_EXTRACT((SELECT MAX(IF(index=2, value, NULL)) FROM UNNEST(hits.customDimensions)), r\"^[^,]+\")  AS first_author  \n",
    "FROM `cloud-training-demos.GA360_test.ga_sessions_sample`,   \n",
    "  UNNEST(hits) AS hits\n",
    "WHERE \n",
    "  # only include hits on pages\n",
    "  hits.type = \"PAGE\"\n",
    "  AND (SELECT MAX(IF(index=2, value, NULL)) FROM UNNEST(hits.customDimensions)) IS NOT NULL\n",
    "GROUP BY   \n",
    "  first_author\n",
    "\"\"\"\n",
    "authors_list = bq.Query(sql).execute().result().to_dataframe()['first_author'].tolist()\n",
    "write_list_to_disk(authors_list, \"authors.txt\")\n",
    "print(\"Some sample authors {}\".format(authors_list[:10]))\n",
    "print(\"The total number of authors is {}\".format(len(authors_list)))"
   ]
  },
  {
   "cell_type": "markdown",
   "metadata": {},
   "source": [
    "### Create train and test sets.\n",
    "\n",
    "In this section, we will create the train/test split of our data for training our model. Read through the query and complete the TODO at the bottom.  \n",
    "Use the concatenated values for visitor id and content id to create a farm fingerprint, taking 90% of the data for the training set. "
   ]
  },
  {
   "cell_type": "code",
   "execution_count": 25,
   "metadata": {},
   "outputs": [
    {
     "data": {
      "text/html": [
       "<div>\n",
       "<style scoped>\n",
       "    .dataframe tbody tr th:only-of-type {\n",
       "        vertical-align: middle;\n",
       "    }\n",
       "\n",
       "    .dataframe tbody tr th {\n",
       "        vertical-align: top;\n",
       "    }\n",
       "\n",
       "    .dataframe thead th {\n",
       "        text-align: right;\n",
       "    }\n",
       "</style>\n",
       "<table border=\"1\" class=\"dataframe\">\n",
       "  <thead>\n",
       "    <tr style=\"text-align: right;\">\n",
       "      <th></th>\n",
       "      <th>visitor_id</th>\n",
       "      <th>content_id</th>\n",
       "      <th>category</th>\n",
       "      <th>title</th>\n",
       "      <th>author</th>\n",
       "      <th>months_since_epoch</th>\n",
       "      <th>next_content_id</th>\n",
       "    </tr>\n",
       "  </thead>\n",
       "  <tbody>\n",
       "    <tr>\n",
       "      <th>0</th>\n",
       "      <td>1000593816586876859</td>\n",
       "      <td>230814320</td>\n",
       "      <td>Stars &amp; Kultur</td>\n",
       "      <td>Kritik an Meghan Markle immer lauter</td>\n",
       "      <td>Elisabeth Spitzer</td>\n",
       "      <td>562</td>\n",
       "      <td>299837992</td>\n",
       "    </tr>\n",
       "    <tr>\n",
       "      <th>1</th>\n",
       "      <td>1001769331926555188</td>\n",
       "      <td>299836255</td>\n",
       "      <td>News</td>\n",
       "      <td>Blümel Kneissl &amp;Co.: Das sind die Fixstarter</td>\n",
       "      <td>None</td>\n",
       "      <td>574</td>\n",
       "      <td>299826767</td>\n",
       "    </tr>\n",
       "    <tr>\n",
       "      <th>2</th>\n",
       "      <td>1001769331926555188</td>\n",
       "      <td>299826767</td>\n",
       "      <td>Lifestyle</td>\n",
       "      <td>Titanic-Regisseur: Darum musste Jack sterben</td>\n",
       "      <td>Elisabeth Mittendorfer</td>\n",
       "      <td>574</td>\n",
       "      <td>299921761</td>\n",
       "    </tr>\n",
       "    <tr>\n",
       "      <th>3</th>\n",
       "      <td>1001769331926555188</td>\n",
       "      <td>299912085</td>\n",
       "      <td>News</td>\n",
       "      <td>Erster ÖBB-Containerzug nach China unterwegs</td>\n",
       "      <td>Stefan Hofer</td>\n",
       "      <td>574</td>\n",
       "      <td>299836841</td>\n",
       "    </tr>\n",
       "    <tr>\n",
       "      <th>4</th>\n",
       "      <td>1001769331926555188</td>\n",
       "      <td>299836841</td>\n",
       "      <td>News</td>\n",
       "      <td>ÖVP will Studiengebühren FPÖ in Verhandlungen ...</td>\n",
       "      <td>Raffaela Lindorfer</td>\n",
       "      <td>574</td>\n",
       "      <td>299915880</td>\n",
       "    </tr>\n",
       "  </tbody>\n",
       "</table>\n",
       "</div>"
      ],
      "text/plain": [
       "            visitor_id content_id        category  \\\n",
       "0  1000593816586876859  230814320  Stars & Kultur   \n",
       "1  1001769331926555188  299836255            News   \n",
       "2  1001769331926555188  299826767       Lifestyle   \n",
       "3  1001769331926555188  299912085            News   \n",
       "4  1001769331926555188  299836841            News   \n",
       "\n",
       "                                               title                  author  \\\n",
       "0               Kritik an Meghan Markle immer lauter       Elisabeth Spitzer   \n",
       "1       Blümel Kneissl &Co.: Das sind die Fixstarter                    None   \n",
       "2       Titanic-Regisseur: Darum musste Jack sterben  Elisabeth Mittendorfer   \n",
       "3       Erster ÖBB-Containerzug nach China unterwegs            Stefan Hofer   \n",
       "4  ÖVP will Studiengebühren FPÖ in Verhandlungen ...      Raffaela Lindorfer   \n",
       "\n",
       "   months_since_epoch next_content_id  \n",
       "0                 562       299837992  \n",
       "1                 574       299826767  \n",
       "2                 574       299921761  \n",
       "3                 574       299836841  \n",
       "4                 574       299915880  "
      ]
     },
     "execution_count": 25,
     "metadata": {},
     "output_type": "execute_result"
    }
   ],
   "source": [
    "sql=\"\"\"\n",
    "WITH site_history as (\n",
    "  SELECT\n",
    "      fullVisitorId as visitor_id,\n",
    "      (SELECT MAX(IF(index=10, value, NULL)) FROM UNNEST(hits.customDimensions)) AS content_id,\n",
    "      (SELECT MAX(IF(index=7, value, NULL)) FROM UNNEST(hits.customDimensions)) AS category, \n",
    "      (SELECT MAX(IF(index=6, value, NULL)) FROM UNNEST(hits.customDimensions)) AS title,\n",
    "      (SELECT MAX(IF(index=2, value, NULL)) FROM UNNEST(hits.customDimensions)) AS author_list,\n",
    "      SPLIT(RPAD((SELECT MAX(IF(index=4, value, NULL)) FROM UNNEST(hits.customDimensions)), 7), '.') as year_month_array,\n",
    "      LEAD(hits.customDimensions, 1) OVER (PARTITION BY fullVisitorId ORDER BY hits.time ASC) as nextCustomDimensions\n",
    "  FROM \n",
    "    `cloud-training-demos.GA360_test.ga_sessions_sample`,   \n",
    "     UNNEST(hits) AS hits\n",
    "   WHERE \n",
    "     # only include hits on pages\n",
    "      hits.type = \"PAGE\"\n",
    "      AND\n",
    "      fullVisitorId IS NOT NULL\n",
    "      AND\n",
    "      hits.time != 0\n",
    "      AND\n",
    "      hits.time IS NOT NULL\n",
    "      AND\n",
    "      (SELECT MAX(IF(index=10, value, NULL)) FROM UNNEST(hits.customDimensions)) IS NOT NULL\n",
    ")\n",
    "SELECT\n",
    "  visitor_id,\n",
    "  content_id,\n",
    "  category,\n",
    "  REGEXP_REPLACE(title, r\",\", \"\") as title,\n",
    "  REGEXP_EXTRACT(author_list, r\"^[^,]+\") as author,\n",
    "  DATE_DIFF(DATE(CAST(year_month_array[OFFSET(0)] AS INT64), CAST(year_month_array[OFFSET(1)] AS INT64), 1), DATE(1970,1,1), MONTH) as months_since_epoch,\n",
    "  (SELECT MAX(IF(index=10, value, NULL)) FROM UNNEST(nextCustomDimensions)) as next_content_id\n",
    "FROM\n",
    "  site_history\n",
    "WHERE (SELECT MAX(IF(index=10, value, NULL)) FROM UNNEST(nextCustomDimensions)) IS NOT NULL\n",
    "      AND MOD(ABS(FARM_FINGERPRINT(CONCAT(visitor_id, content_id))), 10) < 9\n",
    "\"\"\"\n",
    "training_set_df = bq.Query(sql).execute().result().to_dataframe()\n",
    "training_set_df.to_csv('training_set.csv', header=False, index=False, encoding='utf-8')\n",
    "training_set_df.head()"
   ]
  },
  {
   "cell_type": "markdown",
   "metadata": {},
   "source": [
    "Repeat the query as above but change outcome of the farm fingerprint hash to collect the remaining 10% of the data for the test set."
   ]
  },
  {
   "cell_type": "code",
   "execution_count": 26,
   "metadata": {},
   "outputs": [
    {
     "data": {
      "text/html": [
       "<div>\n",
       "<style scoped>\n",
       "    .dataframe tbody tr th:only-of-type {\n",
       "        vertical-align: middle;\n",
       "    }\n",
       "\n",
       "    .dataframe tbody tr th {\n",
       "        vertical-align: top;\n",
       "    }\n",
       "\n",
       "    .dataframe thead th {\n",
       "        text-align: right;\n",
       "    }\n",
       "</style>\n",
       "<table border=\"1\" class=\"dataframe\">\n",
       "  <thead>\n",
       "    <tr style=\"text-align: right;\">\n",
       "      <th></th>\n",
       "      <th>visitor_id</th>\n",
       "      <th>content_id</th>\n",
       "      <th>category</th>\n",
       "      <th>title</th>\n",
       "      <th>author</th>\n",
       "      <th>months_since_epoch</th>\n",
       "      <th>next_content_id</th>\n",
       "    </tr>\n",
       "  </thead>\n",
       "  <tbody>\n",
       "    <tr>\n",
       "      <th>0</th>\n",
       "      <td>1004996140885326201</td>\n",
       "      <td>299918278</td>\n",
       "      <td>News</td>\n",
       "      <td>Skipässe in Wintersport-Hochburgen massiv teurer</td>\n",
       "      <td>Stefan Hofer</td>\n",
       "      <td>574</td>\n",
       "      <td>299451483</td>\n",
       "    </tr>\n",
       "    <tr>\n",
       "      <th>1</th>\n",
       "      <td>1007264386119876541</td>\n",
       "      <td>299965853</td>\n",
       "      <td>News</td>\n",
       "      <td>ÖVP und FPÖ dementieren geplante Kassenreduktion</td>\n",
       "      <td>Stefan Berndl</td>\n",
       "      <td>574</td>\n",
       "      <td>299975649</td>\n",
       "    </tr>\n",
       "    <tr>\n",
       "      <th>2</th>\n",
       "      <td>1008065814070719756</td>\n",
       "      <td>299931241</td>\n",
       "      <td>Stars &amp; Kultur</td>\n",
       "      <td>Regisseur Michael Haneke kritisiert Flüchtling...</td>\n",
       "      <td>None</td>\n",
       "      <td>574</td>\n",
       "      <td>299899819</td>\n",
       "    </tr>\n",
       "    <tr>\n",
       "      <th>3</th>\n",
       "      <td>1010974920021844642</td>\n",
       "      <td>299972800</td>\n",
       "      <td>News</td>\n",
       "      <td>Strengere Regeln für Schüler Eltern – und auch...</td>\n",
       "      <td>None</td>\n",
       "      <td>574</td>\n",
       "      <td>299972800</td>\n",
       "    </tr>\n",
       "    <tr>\n",
       "      <th>4</th>\n",
       "      <td>1012414335303532764</td>\n",
       "      <td>299972248</td>\n",
       "      <td>News</td>\n",
       "      <td>Bildungsexperte Salcher: \"Lehrer nach Leistung...</td>\n",
       "      <td>Bernhard Gaul</td>\n",
       "      <td>574</td>\n",
       "      <td>298972803</td>\n",
       "    </tr>\n",
       "  </tbody>\n",
       "</table>\n",
       "</div>"
      ],
      "text/plain": [
       "            visitor_id content_id        category  \\\n",
       "0  1004996140885326201  299918278            News   \n",
       "1  1007264386119876541  299965853            News   \n",
       "2  1008065814070719756  299931241  Stars & Kultur   \n",
       "3  1010974920021844642  299972800            News   \n",
       "4  1012414335303532764  299972248            News   \n",
       "\n",
       "                                               title         author  \\\n",
       "0   Skipässe in Wintersport-Hochburgen massiv teurer   Stefan Hofer   \n",
       "1   ÖVP und FPÖ dementieren geplante Kassenreduktion  Stefan Berndl   \n",
       "2  Regisseur Michael Haneke kritisiert Flüchtling...           None   \n",
       "3  Strengere Regeln für Schüler Eltern – und auch...           None   \n",
       "4  Bildungsexperte Salcher: \"Lehrer nach Leistung...  Bernhard Gaul   \n",
       "\n",
       "   months_since_epoch next_content_id  \n",
       "0                 574       299451483  \n",
       "1                 574       299975649  \n",
       "2                 574       299899819  \n",
       "3                 574       299972800  \n",
       "4                 574       298972803  "
      ]
     },
     "execution_count": 26,
     "metadata": {},
     "output_type": "execute_result"
    }
   ],
   "source": [
    "sql=\"\"\"\n",
    "WITH site_history as (\n",
    "  SELECT\n",
    "      fullVisitorId as visitor_id,\n",
    "      (SELECT MAX(IF(index=10, value, NULL)) FROM UNNEST(hits.customDimensions)) AS content_id,\n",
    "      (SELECT MAX(IF(index=7, value, NULL)) FROM UNNEST(hits.customDimensions)) AS category, \n",
    "      (SELECT MAX(IF(index=6, value, NULL)) FROM UNNEST(hits.customDimensions)) AS title,\n",
    "      (SELECT MAX(IF(index=2, value, NULL)) FROM UNNEST(hits.customDimensions)) AS author_list,\n",
    "      SPLIT(RPAD((SELECT MAX(IF(index=4, value, NULL)) FROM UNNEST(hits.customDimensions)), 7), '.') as year_month_array,\n",
    "      LEAD(hits.customDimensions, 1) OVER (PARTITION BY fullVisitorId ORDER BY hits.time ASC) as nextCustomDimensions\n",
    "  FROM \n",
    "    `cloud-training-demos.GA360_test.ga_sessions_sample`,   \n",
    "     UNNEST(hits) AS hits\n",
    "   WHERE \n",
    "     # only include hits on pages\n",
    "      hits.type = \"PAGE\"\n",
    "      AND\n",
    "      fullVisitorId IS NOT NULL\n",
    "      AND\n",
    "      hits.time != 0\n",
    "      AND\n",
    "      hits.time IS NOT NULL\n",
    "      AND\n",
    "      (SELECT MAX(IF(index=10, value, NULL)) FROM UNNEST(hits.customDimensions)) IS NOT NULL\n",
    ")\n",
    "SELECT\n",
    "  visitor_id,\n",
    "  content_id,\n",
    "  category,\n",
    "  REGEXP_REPLACE(title, r\",\", \"\") as title,\n",
    "  REGEXP_EXTRACT(author_list, r\"^[^,]+\") as author,\n",
    "  DATE_DIFF(DATE(CAST(year_month_array[OFFSET(0)] AS INT64), CAST(year_month_array[OFFSET(1)] AS INT64), 1), DATE(1970,1,1), MONTH) as months_since_epoch,\n",
    "  (SELECT MAX(IF(index=10, value, NULL)) FROM UNNEST(nextCustomDimensions)) as next_content_id\n",
    "FROM\n",
    "  site_history\n",
    "WHERE (SELECT MAX(IF(index=10, value, NULL)) FROM UNNEST(nextCustomDimensions)) IS NOT NULL\n",
    "      AND MOD(ABS(FARM_FINGERPRINT(CONCAT(visitor_id, content_id))), 10) >= 9\n",
    "\"\"\"\n",
    "\n",
    "test_set_df = bq.Query(sql).execute().result().to_dataframe()\n",
    "test_set_df.to_csv('test_set.csv', header=False, index=False, encoding='utf-8')\n",
    "test_set_df.head()"
   ]
  },
  {
   "cell_type": "markdown",
   "metadata": {},
   "source": [
    "Let's have a look at the two csv files we just created containing the training and test set. We'll also do a line count of both files to confirm that we have achieved an approximate 90/10 train/test split.  \n",
    "In the next notebook, **Content Based Filtering** we will build a model to recommend an article given information about the current article being read, such as the category, title, author, and publish date. "
   ]
  },
  {
   "cell_type": "code",
   "execution_count": 27,
   "metadata": {},
   "outputs": [
    {
     "name": "stdout",
     "output_type": "stream",
     "text": [
      "   25599 test_set.csv\n",
      "  232308 training_set.csv\n",
      "  257907 total\n"
     ]
    }
   ],
   "source": [
    "%%bash\n",
    "wc -l *_set.csv"
   ]
  },
  {
   "cell_type": "code",
   "execution_count": 28,
   "metadata": {},
   "outputs": [
    {
     "name": "stdout",
     "output_type": "stream",
     "text": [
      "==> test_set.csv <==\r\n",
      "1004996140885326201,299918278,News,Skipässe in Wintersport-Hochburgen massiv teurer,Stefan Hofer,574,299451483\r\n",
      "1007264386119876541,299965853,News,ÖVP und FPÖ dementieren geplante Kassenreduktion,Stefan Berndl,574,299975649\r\n",
      "1008065814070719756,299931241,Stars & Kultur,Regisseur Michael Haneke kritisiert Flüchtlingspolitik,,574,299899819\r\n",
      "1010974920021844642,299972800,News,Strengere Regeln für Schüler Eltern – und auch Lehrer,,574,299972800\r\n",
      "1012414335303532764,299972248,News,\"Bildungsexperte Salcher: \"\"Lehrer nach Leistung bezahlen\"\"\",Bernhard Gaul,574,298972803\r\n",
      "1013636511271824035,299965853,News,ÖVP und FPÖ dementieren geplante Kassenreduktion,Stefan Berndl,574,299836255\r\n",
      "1019846149190726736,299957318,News,27-Jähriger soll betagte Nachbarin vergewaltigt haben,Yvonne Widler,574,299907275\r\n",
      "1020572535543246728,299917726,News,OÖ: Drogendealer agierten von Asylquartier aus,Daniela Wahl,574,299410466\r\n",
      "1021150165661122687,299816215,News,Fahnenskandal von Mailand: Die Austria zeigt Flagge,Alexander Strecha,574,299930032\r\n",
      "1022059616427871901,299906166,Lifestyle,\"Foodwatch vergibt \"\"Goldenen Windbeutel\"\" an Alete-Kinderkekse\",Anita Kattinger,574,299826767\r\n",
      "\r\n",
      "==> training_set.csv <==\r\n",
      "1000593816586876859,230814320,Stars & Kultur,Kritik an Meghan Markle immer lauter,Elisabeth Spitzer,562,299837992\r\n",
      "1001769331926555188,299836255,News,Blümel Kneissl &Co.: Das sind die Fixstarter,,574,299826767\r\n",
      "1001769331926555188,299826767,Lifestyle,Titanic-Regisseur: Darum musste Jack sterben,Elisabeth Mittendorfer,574,299921761\r\n",
      "1001769331926555188,299912085,News,Erster ÖBB-Containerzug nach China unterwegs,Stefan Hofer,574,299836841\r\n",
      "1001769331926555188,299836841,News,\"ÖVP will Studiengebühren FPÖ in Verhandlungen \"\"flexibel\"\"\",Raffaela Lindorfer,574,299915880\r\n",
      "1002071027616301703,299410466,News,Carfentanil: Der „serial killer“ ist in Österreich aufgetaucht,Thomas  Trescher,574,299902870\r\n",
      "1002090131595000997,299844359,News,\"\"\"Ich bin kein  typischer Grüner\"\"\",Stefanie Rachbauer,574,299907275\r\n",
      "1002090131595000997,299907275,Lifestyle,Meghan Markles Verlobungs-Outfit: Alle Details,Maria Zelenko,574,299852437\r\n",
      "1002090131595000997,299852437,News,Diözese kontert Haimbuchners Bibel-Attacke,Moritz Gottsauner-Wolf,574,299953030\r\n",
      "1002090131595000997,299953030,News,Nach Ja zu Glyphosat: Merkel wirft Landwirtschaftsminister Verstoß gegen Geschäftsordnung vor,,574,299844359\r\n"
     ]
    }
   ],
   "source": [
    "!head *_set.csv"
   ]
  },
  {
   "cell_type": "code",
   "execution_count": null,
   "metadata": {},
   "outputs": [],
   "source": []
  }
 ],
 "metadata": {
  "kernelspec": {
   "display_name": "Python 2",
   "language": "python",
   "name": "python2"
  },
  "language_info": {
   "codemirror_mode": {
    "name": "ipython",
    "version": 2
   },
   "file_extension": ".py",
   "mimetype": "text/x-python",
   "name": "python",
   "nbconvert_exporter": "python",
   "pygments_lexer": "ipython2",
   "version": "2.7.15"
  }
 },
 "nbformat": 4,
 "nbformat_minor": 2
}
